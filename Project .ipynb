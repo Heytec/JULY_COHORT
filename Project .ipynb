{
 "cells": [
  {
   "cell_type": "markdown",
   "metadata": {},
   "source": [
    "# Project Guidelines /Portfolio "
   ]
  },
  {
   "cell_type": "markdown",
   "metadata": {},
   "source": [
    "In our final project, you’ll work individually to create a large-scale data science and machine learning project. This final project provides an in-depth opportunity for you to demonstrate your learning accomplishments and get a feel for what working on a large-scale data science project is really like. "
   ]
  },
  {
   "cell_type": "markdown",
   "metadata": {},
   "source": [
    "Building End-to-End projects: A great way of proving that you are truly a generalist is to build end-to-end projects(more like products). Don’t stop at finding the solution or creating a prototype for a recommendations system or a fintech chatbot, go the extra mile, deploy it,sell it , share it with your peers to use it, collect some analytics. This shows how passionate you are about what you do and to what extent you can go to learn new technologies and methods."
   ]
  },
  {
   "cell_type": "markdown",
   "metadata": {},
   "source": [
    "# DO & DON’T"
   ]
  },
  {
   "cell_type": "raw",
   "metadata": {},
   "source": [
    "Project Guidelines /Portfolio class 101\n",
    "\n",
    "☑The Hardest Part of Getting a Job in ML— Standing Out (being an a outlier)\n",
    "\n",
    "☑First   it’s hard to stand out when  everyone has Coursera,zindi,Udemy,fastai and Kaggle (all great but much too common) on their resume or Portfolio.\n",
    "\n",
    "☑Provide a portfolio to showcase projects that demonstrate technical and product sense.\n",
    "\n",
    "\n",
    "❌ DON’T add a project that uses a generic dataset and models to do a generic task (ex. sentiment classification on news reviews or predicting mortality on the Titanic). These are great to learn from initially but not great to showcase for a job.\n",
    "\n",
    "✅ DO pick a unique dataset (or go web-scrape your own!) and apply simple → complex models unique to your task\n",
    "\n",
    "❌ DON’T merely dump a notebook full of code.\n",
    "\n",
    "✅ Provide necessary details when posting your project (objectives, highlight and takeaways). This is also the place to showcase your product/business sense which is key for a data scientist.\n",
    "\n",
    "\n",
    "❌ DON’T just apply a set of complex models on random datasets\n",
    "\n",
    "✅ DO work on projects in industries you’re applying to with a class of models that make sense. The familiarity in the space will come across as major advantage.\n",
    "(Uses salesforce app exchange, shopify app store,  zendesk app marketplace ,stripe partners,  slack etc to get B2B ideas )\n",
    "\n",
    "\n",
    "❌ DON’T just focus on modeling in your projects.\n",
    "\n",
    "✅ DO incorporate full-stack components (streamlit , databases, apis, devops, etc.) to show you can create a product and not just run code on a jupyter notebook."
   ]
  },
  {
   "cell_type": "markdown",
   "metadata": {},
   "source": [
    "# IDEAS"
   ]
  },
  {
   "cell_type": "markdown",
   "metadata": {},
   "source": [
    "* madewithml\n",
    "\n",
    "https://madewithml.com/\n",
    "\n",
    "* Producthunt \n",
    "\n",
    "https://www.producthunt.com/   \n",
    "\n",
    "\n",
    "* Paper with code \n",
    "https://paperswithcode.com/"
   ]
  },
  {
   "cell_type": "markdown",
   "metadata": {},
   "source": [
    "# Business "
   ]
  },
  {
   "cell_type": "markdown",
   "metadata": {},
   "source": [
    "* salesforce appexchange  \n",
    "\n",
    "https://appexchange.salesforce.com/\n",
    "        \n",
    "* Shoppify \n",
    "\n",
    "https://apps.shopify.com/\n",
    "        \n",
    "* Big commerce \n",
    "\n",
    "https://www.bigcommerce.com/apps/\n",
    "    \n",
    "* Slack\n",
    "\n",
    "https://slack.com/apps\n",
    "\n",
    "* Zendesk\n",
    "\n",
    "https://www.zendesk.com/apps/\n",
    "\n",
    "\n",
    " * Africastalking\n",
    "\n",
    "https://africastalking.com/marketplace\n",
    "\n"
   ]
  },
  {
   "cell_type": "markdown",
   "metadata": {},
   "source": [
    "# TIPS\n",
    "\n",
    "I love projects where people show that they are interested in data in a way that goes beyond homework assignments. Any sort of class final project where you explore an interesting dataset and find interesting results… Put effort into the writeup… I really like seeing really good writeups where people find interesting and novel things…have some visualizations and share their work.\n",
    "\n",
    "### Use Real Data\n",
    "\n",
    "Try to do something with real data rather than Kaggle or other pre-cleaned data. Data cleaning, prep and transformation is a real part of any data job.\n",
    "\n",
    "\n",
    "### Scrape Your Own Data\n",
    "\n",
    "BeautifulSoup or Scrapy in Python are absurdly easy to use. If you can see it on the web, you can get it!\n",
    "\n",
    "\n",
    "###  Ask for Data from  your oragnization\n",
    "\n",
    "\n",
    "### Use Publicly Accessible APIs\n",
    "\n",
    "\n",
    "### Pick Interesting Data Over All Else\n",
    "\n",
    "* Best portfolio projects are less about doing fancy modeling and more about working with interesting data.\n",
    "\n",
    "### Pick Something You’re Curious About, Not Something You Hope Will Be Impressive\n",
    "\n",
    "### Pick an Analysis That is Interesting Regardless of What You Find\n",
    "\n",
    "###  Perfect the Visuals\n",
    "\n",
    "###  Make Your Data Interactive\n",
    "\n",
    "use Plotly Maxbox and Dash    https://app.flourish.studio/templates\n",
    "\n",
    "### Put the Code on Github\n",
    "\n",
    "* Put the code up on Github. Comment it and organize it well. Try to make the whole exercise, from downloading data to the visualizations and text, reproducible\n",
    "\n",
    "### Productionize your Analysis or APP\n",
    "\n",
    "* You get a lot of bonus credit for productionizing any model or data product. People thought our baseball analysis was cool, but they were really impressed by our Twitterbot that made predictions in real time.  Similarly, Slackbots, Facebook chat bots, and Reddit bots etc\n",
    "\n",
    "tools \n",
    "flask  ,Dash , Streamlit \n",
    "\n"
   ]
  },
  {
   "cell_type": "code",
   "execution_count": null,
   "metadata": {},
   "outputs": [],
   "source": []
  },
  {
   "cell_type": "markdown",
   "metadata": {},
   "source": [
    "# Standards \n"
   ]
  },
  {
   "cell_type": "markdown",
   "metadata": {},
   "source": [
    "\n",
    "https://covid19.africadataschool.com/\n",
    "    \n",
    "\n",
    "Shopify RetentionProf\n",
    "Increase retention with automated customer segmentations\n",
    "https://apps.shopify.com/retentionprof\n",
    "\n",
    "\n",
    "Text analysis of Trump's tweets confirms he writes only the (angrier) Android half\n",
    "http://varianceexplained.org/r/trump-tweets/\n",
    "\n",
    "\n",
    "Improving a Music Website's User Experience\n",
    "https://nycdatascience.com/blog/student-works/improving-a-music-websites-user-experience/\n",
    "\n",
    "Lego Sorter using TensorFlow on Raspberry Pi\n",
    "https://medium.com/@pacogarcia3/tensorflow-on-raspbery-pi-lego-sorter-ab60019dcf32\n"
   ]
  },
  {
   "cell_type": "markdown",
   "metadata": {},
   "source": [
    "###former students project \n",
    "\n",
    "https://datasto.github.io/datasto/portfolio.html\n",
    "\n",
    "https://automated-technical-analysis.herokuapp.com/\n",
    "\n",
    "\n",
    "http://102.133.236.169/guest/conversations/production/f8281cbdfe2d4a78a5b31e398a7c1ff8\n",
    "\n",
    "\n",
    "https://share.streamlit.io/regan-mu/sentiment-analysis-with-spacy/sentiment_analysis.py\n",
    "\n",
    "\n",
    "https://nse-stocks-analysis.herokuapp.com/\n",
    "    \n"
   ]
  },
  {
   "cell_type": "markdown",
   "metadata": {},
   "source": [
    "https://www.linkedin.com/jobs/search/?geoId=100710459&keywords=data%20scientist&location=Kenya"
   ]
  },
  {
   "cell_type": "code",
   "execution_count": null,
   "metadata": {},
   "outputs": [],
   "source": []
  }
 ],
 "metadata": {
  "kernelspec": {
   "display_name": "Python 3",
   "language": "python",
   "name": "python3"
  },
  "language_info": {
   "codemirror_mode": {
    "name": "ipython",
    "version": 3
   },
   "file_extension": ".py",
   "mimetype": "text/x-python",
   "name": "python",
   "nbconvert_exporter": "python",
   "pygments_lexer": "ipython3",
   "version": "3.7.6"
  }
 },
 "nbformat": 4,
 "nbformat_minor": 4
}
