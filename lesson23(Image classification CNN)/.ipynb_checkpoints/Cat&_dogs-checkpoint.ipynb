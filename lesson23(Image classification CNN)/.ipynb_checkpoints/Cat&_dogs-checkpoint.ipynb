{
 "cells": [
  {
   "cell_type": "code",
   "execution_count": 1,
   "metadata": {
    "colab": {
     "base_uri": "https://localhost:8080/",
     "height": 853
    },
    "colab_type": "code",
    "id": "jOZft87SrZc6",
    "outputId": "70801a45-9af1-437f-b2bc-a590bb33983c"
   },
   "outputs": [],
   "source": [
    "#pip install tensorflow-gpu\n"
   ]
  },
  {
   "cell_type": "code",
   "execution_count": 2,
   "metadata": {
    "colab": {},
    "colab_type": "code",
    "id": "pUN5Ow_wsH1P"
   },
   "outputs": [],
   "source": [
    "import tensorflow as tf\n",
    "from tensorflow.keras import Sequential\n",
    "from tensorflow.keras.layers import Flatten,Dense,Conv2D,Dropout,MaxPool2D,ZeroPadding2D,BatchNormalization\n",
    "from tensorflow.keras.preprocessing.image import ImageDataGenerator\n",
    "from tensorflow.keras.optimizers import SGD"
   ]
  },
  {
   "cell_type": "code",
   "execution_count": null,
   "metadata": {
    "colab": {
     "base_uri": "https://localhost:8080/",
     "height": 123
    },
    "colab_type": "code",
    "id": "zVNiAEJyu74O",
    "outputId": "e66735dd-9719-42ed-bcee-03f9f2e3ad9e"
   },
   "outputs": [],
   "source": [
    "! git clone https://github.com/laxmimerit/dog-cat-full-dataset.git\n"
   ]
  },
  {
   "cell_type": "code",
   "execution_count": null,
   "metadata": {
    "colab": {},
    "colab_type": "code",
    "id": "7Dp1iheIvv-0"
   },
   "outputs": [],
   "source": [
    "test_data_dir='/content/dog-cat-full-dataset/data/test'"
   ]
  },
  {
   "cell_type": "code",
   "execution_count": null,
   "metadata": {
    "colab": {},
    "colab_type": "code",
    "id": "BCQf2ONPwWEV"
   },
   "outputs": [],
   "source": [
    "train_data_dir='/content/dog-cat-full-dataset/data/train'"
   ]
  },
  {
   "cell_type": "code",
   "execution_count": null,
   "metadata": {
    "colab": {},
    "colab_type": "code",
    "id": "_F5_AoGjwhP_"
   },
   "outputs": [],
   "source": [
    "img_width=32\n",
    "img_height=32\n",
    "batch_size=20"
   ]
  },
  {
   "cell_type": "code",
   "execution_count": null,
   "metadata": {
    "colab": {},
    "colab_type": "code",
    "id": "3cbHTcRUxMX4"
   },
   "outputs": [],
   "source": [
    "datagen=ImageDataGenerator(rescale=1./255,)"
   ]
  },
  {
   "cell_type": "code",
   "execution_count": 37,
   "metadata": {
    "colab": {
     "base_uri": "https://localhost:8080/",
     "height": 34
    },
    "colab_type": "code",
    "id": "8SFOvzGZxfNn",
    "outputId": "364d6cc9-a09d-467a-c7cf-056d9919eb7c"
   },
   "outputs": [
    {
     "name": "stdout",
     "output_type": "stream",
     "text": [
      "Found 20000 images belonging to 2 classes.\n"
     ]
    }
   ],
   "source": [
    "train_generator=datagen.flow_from_directory(\n",
    "                     directory=train_data_dir,\n",
    "                     target_size=(img_width,img_height),\n",
    "                     classes=['dogs','cats'],\n",
    "                     class_mode='binary',\n",
    "                     batch_size=batch_size\n",
    ")"
   ]
  },
  {
   "cell_type": "code",
   "execution_count": 38,
   "metadata": {
    "colab": {
     "base_uri": "https://localhost:8080/",
     "height": 34
    },
    "colab_type": "code",
    "id": "5x9WDCFiMoeh",
    "outputId": "7506e08d-d1ad-4f5a-89fa-f1b8231a5990"
   },
   "outputs": [
    {
     "data": {
      "text/plain": [
       "array([0, 0, 0, ..., 1, 1, 1], dtype=int32)"
      ]
     },
     "execution_count": 38,
     "metadata": {
      "tags": []
     },
     "output_type": "execute_result"
    }
   ],
   "source": [
    "train_generator.classes"
   ]
  },
  {
   "cell_type": "code",
   "execution_count": 39,
   "metadata": {
    "colab": {
     "base_uri": "https://localhost:8080/",
     "height": 34
    },
    "colab_type": "code",
    "id": "-79bzqYeNnj5",
    "outputId": "b75e42d2-625b-4ba2-b580-4a2bbc3819ba"
   },
   "outputs": [
    {
     "name": "stdout",
     "output_type": "stream",
     "text": [
      "Found 5000 images belonging to 2 classes.\n"
     ]
    }
   ],
   "source": [
    "validation_generator=datagen.flow_from_directory(\n",
    "                     directory=test_data_dir,\n",
    "                     target_size=(img_width,img_height),\n",
    "                     classes=['dogs','cats'],\n",
    "                     class_mode='binary',\n",
    "                     batch_size=batch_size\n",
    ")"
   ]
  },
  {
   "cell_type": "code",
   "execution_count": 40,
   "metadata": {
    "colab": {
     "base_uri": "https://localhost:8080/",
     "height": 34
    },
    "colab_type": "code",
    "id": "M8R_Y6DFODBC",
    "outputId": "aa095de7-07bf-4a63-bb3f-229f1363f6e8"
   },
   "outputs": [
    {
     "data": {
      "text/plain": [
       "1000"
      ]
     },
     "execution_count": 40,
     "metadata": {
      "tags": []
     },
     "output_type": "execute_result"
    }
   ],
   "source": [
    "len(train_generator)"
   ]
  },
  {
   "cell_type": "code",
   "execution_count": 41,
   "metadata": {
    "colab": {},
    "colab_type": "code",
    "id": "DpP55R-lOHEq"
   },
   "outputs": [],
   "source": [
    "model=Sequential()\n",
    "model.add(Conv2D(\n",
    "          filters=64,\n",
    "          kernel_size=(3,3),\n",
    "          padding='same',\n",
    "          activation='relu',\n",
    "          input_shape=(img_width,img_height,3),\n",
    "          kernel_initializer='he_uniform'))\n",
    "\n",
    "model=Sequential()\n",
    "model.add(Conv2D(\n",
    "          filters=128,\n",
    "          kernel_size=(3,3),\n",
    "          padding='same',\n",
    "          activation='relu',\n",
    "          kernel_initializer='he_uniform'))\n",
    "\n",
    "model=Sequential()\n",
    "model.add(Conv2D(\n",
    "          filters=256,\n",
    "          kernel_size=(3,3),\n",
    "          padding='same',\n",
    "          activation='relu',\n",
    "          kernel_initializer='he_uniform'))\n",
    "\n",
    "\n",
    "\n",
    "model.add(MaxPool2D(pool_size=(2,2),strides=2,padding='valid'))\n",
    "\n",
    "model.add(Flatten())\n",
    "model.add(Dense(units=128,activation='relu', kernel_initializer='he_uniform'))\n",
    "model.add(Dense(units=1,activation='sigmoid'))"
   ]
  },
  {
   "cell_type": "code",
   "execution_count": 42,
   "metadata": {
    "colab": {},
    "colab_type": "code",
    "id": "ybYrLdFXRvMK"
   },
   "outputs": [],
   "source": [
    "opt=SGD(learning_rate=0.01,momentum=0.9)\n",
    "model.compile(optimizer=opt,\n",
    "              loss='binary_crossentropy',\n",
    "              metrics=['accuracy'])"
   ]
  },
  {
   "cell_type": "code",
   "execution_count": 43,
   "metadata": {
    "colab": {
     "base_uri": "https://localhost:8080/",
     "height": 87
    },
    "colab_type": "code",
    "id": "moLW5U_YSkao",
    "outputId": "a3845f22-a9b5-46eb-d3d0-3c2801da9433"
   },
   "outputs": [
    {
     "name": "stdout",
     "output_type": "stream",
     "text": [
      "Epoch 1/2\n",
      "1000/1000 [==============================] - 150s 150ms/step - loss: 0.7186 - accuracy: 0.5027 - val_loss: 0.6944 - val_accuracy: 0.5000\n",
      "Epoch 2/2\n",
      "1000/1000 [==============================] - 148s 148ms/step - loss: 0.6935 - accuracy: 0.4974 - val_loss: 0.6947 - val_accuracy: 0.5000\n"
     ]
    }
   ],
   "source": [
    "history=model.fit_generator(generator=train_generator,\n",
    "                  steps_per_epoch=len(train_generator),\n",
    "                  epochs=2,       \n",
    "                  verbose=1,\n",
    "                  validation_data=validation_generator,\n",
    "                  validation_steps=len(validation_generator)\n",
    "                  )"
   ]
  },
  {
   "cell_type": "code",
   "execution_count": 43,
   "metadata": {
    "colab": {},
    "colab_type": "code",
    "id": "65YMmpOFXa6d"
   },
   "outputs": [],
   "source": []
  },
  {
   "cell_type": "code",
   "execution_count": 44,
   "metadata": {
    "colab": {},
    "colab_type": "code",
    "id": "CnAjoIvrYmcW"
   },
   "outputs": [],
   "source": [
    "\n",
    "# model.add(BatchNormalization())\n",
    "# model.add(MaxPool2D(pool_size=(2,2),strides=2,padding='valid'))\n",
    "# model.add(Dropout(0.3))\n",
    "\n",
    "\n",
    "\n",
    "\n",
    "\n"
   ]
  },
  {
   "cell_type": "code",
   "execution_count": 45,
   "metadata": {
    "colab": {},
    "colab_type": "code",
    "id": "6BnF0JZ0Jd50"
   },
   "outputs": [],
   "source": [
    "model=Sequential()\n",
    "model.add(Conv2D(\n",
    "          filters=64,\n",
    "          kernel_size=(3,3),\n",
    "          padding='same',\n",
    "          activation='relu',\n",
    "          input_shape=(img_width,img_height,3),\n",
    "          kernel_initializer='he_uniform'))\n",
    "model.add(BatchNormalization())\n",
    "model.add(MaxPool2D(pool_size=(2,2),strides=2,padding='valid'))\n",
    "model.add(Dropout(0.3))\n",
    "\n",
    "\n",
    "model.add(Conv2D(\n",
    "          filters=128,\n",
    "          kernel_size=(3,3),\n",
    "          padding='same',\n",
    "          activation='relu',\n",
    "          kernel_initializer='he_uniform'))\n",
    "model.add(BatchNormalization())\n",
    "model.add(MaxPool2D(pool_size=(2,2),strides=2,padding='valid'))\n",
    "model.add(Dropout(0.3))\n",
    "\n",
    "\n",
    "model.add(Conv2D(\n",
    "          filters=256,\n",
    "          kernel_size=(3,3),\n",
    "          padding='same',\n",
    "          activation='relu',\n",
    "          kernel_initializer='he_uniform'))\n",
    "model.add(BatchNormalization())\n",
    "model.add(MaxPool2D(pool_size=(2,2),strides=2,padding='valid'))\n",
    "model.add(Dropout(0.3))\n",
    "\n",
    "\n",
    "\n",
    "\n",
    "model.add(MaxPool2D(pool_size=(2,2),strides=2,padding='valid'))\n",
    "\n",
    "model.add(Flatten())\n",
    "model.add(Dense(units=128,activation='relu', kernel_initializer='he_uniform'))\n",
    "model.add(Dense(units=1,activation='sigmoid'))"
   ]
  },
  {
   "cell_type": "code",
   "execution_count": 46,
   "metadata": {
    "colab": {},
    "colab_type": "code",
    "id": "FI5FraMcZYk_"
   },
   "outputs": [],
   "source": [
    "opt=SGD(learning_rate=0.01,momentum=0.9)\n",
    "model.compile(optimizer=opt,\n",
    "              loss='binary_crossentropy',\n",
    "              metrics=['accuracy'])"
   ]
  },
  {
   "cell_type": "code",
   "execution_count": 47,
   "metadata": {
    "colab": {
     "base_uri": "https://localhost:8080/",
     "height": 87
    },
    "colab_type": "code",
    "id": "BkBsu4p5J9Ds",
    "outputId": "80b45152-52c3-42d0-a8ef-bcadd1ab0b64"
   },
   "outputs": [
    {
     "name": "stdout",
     "output_type": "stream",
     "text": [
      "Epoch 1/2\n",
      "1000/1000 [==============================] - 169s 169ms/step - loss: 0.7437 - accuracy: 0.5000 - val_loss: 0.6935 - val_accuracy: 0.5004\n",
      "Epoch 2/2\n",
      "1000/1000 [==============================] - 171s 171ms/step - loss: 0.6934 - accuracy: 0.4967 - val_loss: 0.6939 - val_accuracy: 0.5000\n"
     ]
    }
   ],
   "source": [
    "history=model.fit_generator(generator=train_generator,\n",
    "                  steps_per_epoch=len(train_generator),\n",
    "                  epochs=2,       \n",
    "                  verbose=1,\n",
    "                  validation_data=validation_generator,\n",
    "                  validation_steps=len(validation_generator)\n",
    "                  )"
   ]
  },
  {
   "cell_type": "code",
   "execution_count": null,
   "metadata": {
    "colab": {},
    "colab_type": "code",
    "id": "FWKxHI6jPp5t"
   },
   "outputs": [],
   "source": []
  }
 ],
 "metadata": {
  "accelerator": "TPU",
  "colab": {
   "collapsed_sections": [],
   "name": "Cat& dogs.ipynb",
   "provenance": []
  },
  "kernelspec": {
   "display_name": "Python 3",
   "language": "python",
   "name": "python3"
  },
  "language_info": {
   "codemirror_mode": {
    "name": "ipython",
    "version": 3
   },
   "file_extension": ".py",
   "mimetype": "text/x-python",
   "name": "python",
   "nbconvert_exporter": "python",
   "pygments_lexer": "ipython3",
   "version": "3.7.6"
  }
 },
 "nbformat": 4,
 "nbformat_minor": 1
}
