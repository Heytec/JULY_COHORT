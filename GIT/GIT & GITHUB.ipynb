{
 "cells": [
  {
   "cell_type": "markdown",
   "metadata": {},
   "source": [
    "### What is  GIT ?"
   ]
  },
  {
   "cell_type": "markdown",
   "metadata": {},
   "source": [
    "GIT is a version  control  "
   ]
  },
  {
   "cell_type": "markdown",
   "metadata": {},
   "source": [
    "### What  is a version control"
   ]
  },
  {
   "cell_type": "markdown",
   "metadata": {},
   "source": [
    "Version control  record the changes made to your code overtime in a special database called repository "
   ]
  },
  {
   "cell_type": "markdown",
   "metadata": {},
   "source": [
    "### Advantages of version  control "
   ]
  },
  {
   "cell_type": "markdown",
   "metadata": {},
   "source": [
    "* Track  code history \n",
    "* Work together "
   ]
  },
  {
   "cell_type": "markdown",
   "metadata": {},
   "source": [
    "### Version  control categories "
   ]
  },
  {
   "cell_type": "markdown",
   "metadata": {},
   "source": [
    "Centralized  and  Distributed \n",
    "\n",
    "#### Centralized \n",
    "* Connect to  a central server (Single repo)\n",
    "* Example  :  Subversion ,Team foundation server \n",
    "\n",
    "#### Distributed \n",
    "* copy of the project in diffrent machine \n",
    "* Example :  Git  mercurial "
   ]
  },
  {
   "cell_type": "markdown",
   "metadata": {},
   "source": [
    "#######  NB : Majority of companies  use GIT "
   ]
  },
  {
   "cell_type": "markdown",
   "metadata": {},
   "source": [
    "###  How to use GIT"
   ]
  },
  {
   "cell_type": "markdown",
   "metadata": {},
   "source": [
    "* 1 Command line \n",
    "* 2 Code editors and IDE (Pycharm and Vs code )\n",
    "* 3 GUI  (GitKraken , Sourcetree)"
   ]
  },
  {
   "cell_type": "markdown",
   "metadata": {},
   "source": [
    "### Installing GIT"
   ]
  },
  {
   "cell_type": "markdown",
   "metadata": {},
   "source": [
    "download from  https://git-scm.com/"
   ]
  },
  {
   "cell_type": "markdown",
   "metadata": {},
   "source": [
    "### GIT WORKFLOW "
   ]
  },
  {
   "cell_type": "markdown",
   "metadata": {},
   "source": [
    "!['imageone'](images/workflow.png)\n",
    "\n",
    "EvanWill 2017 https://uidaholib.github.io/get-git/3workflow.html"
   ]
  },
  {
   "cell_type": "markdown",
   "metadata": {},
   "source": [
    "#### REMOTE TO WORKSPACE"
   ]
  },
  {
   "cell_type": "markdown",
   "metadata": {},
   "source": [
    "!['imagetwo'](images/git-pull2.png)"
   ]
  },
  {
   "cell_type": "markdown",
   "metadata": {},
   "source": [
    "### Create directory using CMD"
   ]
  },
  {
   "cell_type": "code",
   "execution_count": null,
   "metadata": {},
   "outputs": [],
   "source": [
    "1 # Open Git Bash\n",
    "\n",
    "2 # make directory ADSJAN\n",
    "mkdir ADSJAN\n",
    "\n",
    "3 # enter  ADSJAN\n",
    "cd    ADS JAN\n",
    "\n",
    "4)# create files \n",
    "touch  notebook1.ipynb\n",
    "touch  notebook2.ipynb\n",
    "\n"
   ]
  },
  {
   "cell_type": "markdown",
   "metadata": {},
   "source": [
    "### GIT help"
   ]
  },
  {
   "cell_type": "code",
   "execution_count": null,
   "metadata": {},
   "outputs": [],
   "source": [
    "git --help "
   ]
  },
  {
   "cell_type": "markdown",
   "metadata": {},
   "source": [
    "### GIT Configaration "
   ]
  },
  {
   "cell_type": "code",
   "execution_count": null,
   "metadata": {},
   "outputs": [],
   "source": [
    "### Select editor instead of using default VIM\n",
    "\n",
    "git config --global core.editor \"code --wait\"\n"
   ]
  },
  {
   "cell_type": "code",
   "execution_count": null,
   "metadata": {},
   "outputs": [],
   "source": [
    " git config -- global -e\n"
   ]
  },
  {
   "cell_type": "markdown",
   "metadata": {},
   "source": [
    "###  Creating snapshot / Create repository  "
   ]
  },
  {
   "cell_type": "code",
   "execution_count": null,
   "metadata": {},
   "outputs": [],
   "source": [
    "4 # Initializing a repository /setup repo /create repo \n",
    "git init "
   ]
  },
  {
   "cell_type": "code",
   "execution_count": null,
   "metadata": {},
   "outputs": [],
   "source": [
    "#linux cmd List files including hidden files\n",
    "ls -a"
   ]
  },
  {
   "cell_type": "markdown",
   "metadata": {},
   "source": [
    "### Staging"
   ]
  },
  {
   "cell_type": "code",
   "execution_count": null,
   "metadata": {},
   "outputs": [],
   "source": [
    "# Staging files \n",
    "\n",
    " # Stages the current directory and all its content\n",
    "git add .  \n",
    " "
   ]
  },
  {
   "cell_type": "code",
   "execution_count": null,
   "metadata": {},
   "outputs": [],
   "source": [
    "# Stages a single file \n",
    "git add notebook1.ipynb  \n",
    "\n",
    " # Stages multiple files ",
    " \n",
    "git add notebook1.ipynb notebook2.ipynb\n",
    "\n",
    "# Stages with a pattern ",
    "\n",
    "git add *.ipynb "
   ]
  },
  {
   "cell_type": "markdown",
   "metadata": {},
   "source": [
    "### Viewing the status "
   ]
  },
  {
   "cell_type": "code",
   "execution_count": null,
   "metadata": {},
   "outputs": [],
   "source": [
    "\n",
    "\n",
    "# Full status \n",
    "git status \n",
    "\n",
    "# Short status\n",
    "git status -s\n"
   ]
  },
  {
   "cell_type": "markdown",
   "metadata": {},
   "source": [
    "### Committing the staged files"
   ]
  },
  {
   "cell_type": "code",
   "execution_count": null,
   "metadata": {},
   "outputs": [],
   "source": [
    "# Commits with a one-line message  \n",
    "git commit -m “myfirstcommit” \n",
    "\n",
    "# Opens the default editor to type a long message  \n",
    "\n",
    "git commit \n",
    " "
   ]
  },
  {
   "cell_type": "markdown",
   "metadata": {},
   "source": [
    "# Others "
   ]
  },
  {
   "cell_type": "markdown",
   "metadata": {},
   "source": [
    "### Skipping the staging area "
   ]
  },
  {
   "cell_type": "code",
   "execution_count": null,
   "metadata": {},
   "outputs": [],
   "source": [
    "# not advised to  do  this \n",
    "git commit -am “Message”"
   ]
  },
  {
   "cell_type": "markdown",
   "metadata": {},
   "source": [
    "### Removing files"
   ]
  },
  {
   "cell_type": "code",
   "execution_count": null,
   "metadata": {},
   "outputs": [],
   "source": [
    "# Removes from working directory and staging area ",
    " \n",
    "git rm notebook.ipynb \n",
    "\n",
    "# Removes from staging area only  \n",
    "git rm --cached notebook.ipynb "
   ]
  },
  {
   "cell_type": "markdown",
   "metadata": {},
   "source": [
    "### Renaming or moving files "
   ]
  },
  {
   "cell_type": "code",
   "execution_count": null,
   "metadata": {},
   "outputs": [],
   "source": [
    "git mv file1.js file1.txt "
   ]
  },
  {
   "cell_type": "markdown",
   "metadata": {},
   "source": [
    "# Github"
   ]
  },
  {
   "cell_type": "markdown",
   "metadata": {},
   "source": [
    "### Create a new repository on the command line"
   ]
  },
  {
   "cell_type": "code",
   "execution_count": null,
   "metadata": {},
   "outputs": [],
   "source": [
    "git init\n",
    "git add README.md\n",
    "git commit -m \"first commit\"\n",
    "git branch -M main\n",
    "git remote add origin https://github.com/username/test.git\n",
    "git push -u origin main"
   ]
  },
  {
   "cell_type": "markdown",
   "metadata": {},
   "source": [
    "###  Push an existing repository from the command line"
   ]
  },
  {
   "cell_type": "code",
   "execution_count": null,
   "metadata": {},
   "outputs": [],
   "source": [
    "git remote add origin https://github.com/Heytec/testthings.git\n",
    "git branch -M main\n",
    "                                                            git push -u origin main"
   ]
  }
 ],
 "metadata": {
  "kernelspec": {
   "display_name": "Python 3",
   "language": "python",
   "name": "python3"
  },
  "language_info": {
   "codemirror_mode": {
    "name": "ipython",
    "version": 3
   },
   "file_extension": ".py",
   "mimetype": "text/x-python",
   "name": "python",
   "nbconvert_exporter": "python",
   "pygments_lexer": "ipython3",
   "version": "3.7.6"
  }
 },
 "nbformat": 4,
 "nbformat_minor": 4
}
