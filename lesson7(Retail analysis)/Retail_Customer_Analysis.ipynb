{
 "cells": [
  {
   "cell_type": "markdown",
   "metadata": {
    "colab_type": "text",
    "id": "uX9BLrHTcNwH"
   },
   "source": [
    "# Problem\n",
    "Online Retailer Customer Segmentation and Analysis\n",
    "\n",
    "We are going to perform an exploratory data  analysis for an online retail store data set, in order to understand its customers.\n",
    "\n",
    " * How can I scale my current business that is doing really well, in the most effective way?\n",
    " * What type of marketing initiatives can we perform for each customer in order to get the best ROI?”\n",
    "    \n",
    "# Data\n",
    "\n",
    "https://raw.githubusercontent.com/anilak1978/ecommerce/master/OnlineRetail.csv\"\n",
    "\n",
    "# Eval\n",
    "* Monthly Revenue Overview\n",
    "* Monthly Items Sold Overview\n",
    "* Monthly Active Customers\n",
    "* Average Revenue per Month\n",
    "* New vs Existing Users\n",
    "* Customer Segmentation\n",
    "*   1)Recency gives us how recently customers make a purchase, \n",
    "*   2)Frequency, how often they make a purchase, and \n",
    "*   3)Monetary Value shows us how often do they spend.\n",
    "\n",
    "\n",
    "# features \n",
    "   InvoiceNo', 'StockCode', 'Description', 'Quantity', 'InvoiceDate',\n",
    "       'UnitPrice', 'CustomerID', 'Country', 'Revenue', 'InvoiceMonth',\n",
    "       'InvoiceYear'\n",
    "\n",
    "# modelling\n",
    "\n",
    "# Evaluation\n"
   ]
  },
  {
   "cell_type": "markdown",
   "metadata": {
    "colab_type": "text",
    "id": "rqk-1ehycNwI"
   },
   "source": [
    "Data Collection and Cleaning"
   ]
  },
  {
   "cell_type": "code",
   "execution_count": 1,
   "metadata": {
    "colab": {},
    "colab_type": "code",
    "id": "ZMT1AU29cNwK",
    "outputId": "ec09ce22-603d-4a92-8cdb-accb5cc7a263"
   },
   "outputs": [
    {
     "name": "stdout",
     "output_type": "stream",
     "text": [
      "Wall time: 4min 25s\n"
     ]
    },
    {
     "data": {
      "text/html": [
       "<div>\n",
       "<style scoped>\n",
       "    .dataframe tbody tr th:only-of-type {\n",
       "        vertical-align: middle;\n",
       "    }\n",
       "\n",
       "    .dataframe tbody tr th {\n",
       "        vertical-align: top;\n",
       "    }\n",
       "\n",
       "    .dataframe thead th {\n",
       "        text-align: right;\n",
       "    }\n",
       "</style>\n",
       "<table border=\"1\" class=\"dataframe\">\n",
       "  <thead>\n",
       "    <tr style=\"text-align: right;\">\n",
       "      <th></th>\n",
       "      <th>InvoiceNo</th>\n",
       "      <th>StockCode</th>\n",
       "      <th>Description</th>\n",
       "      <th>Quantity</th>\n",
       "      <th>InvoiceDate</th>\n",
       "      <th>UnitPrice</th>\n",
       "      <th>CustomerID</th>\n",
       "      <th>Country</th>\n",
       "    </tr>\n",
       "  </thead>\n",
       "  <tbody>\n",
       "    <tr>\n",
       "      <th>0</th>\n",
       "      <td>536365</td>\n",
       "      <td>85123A</td>\n",
       "      <td>WHITE HANGING HEART T-LIGHT HOLDER</td>\n",
       "      <td>6</td>\n",
       "      <td>12/1/2010 8:26</td>\n",
       "      <td>2.55</td>\n",
       "      <td>17850.0</td>\n",
       "      <td>United Kingdom</td>\n",
       "    </tr>\n",
       "    <tr>\n",
       "      <th>1</th>\n",
       "      <td>536365</td>\n",
       "      <td>71053</td>\n",
       "      <td>WHITE METAL LANTERN</td>\n",
       "      <td>6</td>\n",
       "      <td>12/1/2010 8:26</td>\n",
       "      <td>3.39</td>\n",
       "      <td>17850.0</td>\n",
       "      <td>United Kingdom</td>\n",
       "    </tr>\n",
       "    <tr>\n",
       "      <th>2</th>\n",
       "      <td>536365</td>\n",
       "      <td>84406B</td>\n",
       "      <td>CREAM CUPID HEARTS COAT HANGER</td>\n",
       "      <td>8</td>\n",
       "      <td>12/1/2010 8:26</td>\n",
       "      <td>2.75</td>\n",
       "      <td>17850.0</td>\n",
       "      <td>United Kingdom</td>\n",
       "    </tr>\n",
       "    <tr>\n",
       "      <th>3</th>\n",
       "      <td>536365</td>\n",
       "      <td>84029G</td>\n",
       "      <td>KNITTED UNION FLAG HOT WATER BOTTLE</td>\n",
       "      <td>6</td>\n",
       "      <td>12/1/2010 8:26</td>\n",
       "      <td>3.39</td>\n",
       "      <td>17850.0</td>\n",
       "      <td>United Kingdom</td>\n",
       "    </tr>\n",
       "    <tr>\n",
       "      <th>4</th>\n",
       "      <td>536365</td>\n",
       "      <td>84029E</td>\n",
       "      <td>RED WOOLLY HOTTIE WHITE HEART.</td>\n",
       "      <td>6</td>\n",
       "      <td>12/1/2010 8:26</td>\n",
       "      <td>3.39</td>\n",
       "      <td>17850.0</td>\n",
       "      <td>United Kingdom</td>\n",
       "    </tr>\n",
       "  </tbody>\n",
       "</table>\n",
       "</div>"
      ],
      "text/plain": [
       "  InvoiceNo StockCode                          Description  Quantity  \\\n",
       "0    536365    85123A   WHITE HANGING HEART T-LIGHT HOLDER         6   \n",
       "1    536365     71053                  WHITE METAL LANTERN         6   \n",
       "2    536365    84406B       CREAM CUPID HEARTS COAT HANGER         8   \n",
       "3    536365    84029G  KNITTED UNION FLAG HOT WATER BOTTLE         6   \n",
       "4    536365    84029E       RED WOOLLY HOTTIE WHITE HEART.         6   \n",
       "\n",
       "      InvoiceDate  UnitPrice  CustomerID         Country  \n",
       "0  12/1/2010 8:26       2.55     17850.0  United Kingdom  \n",
       "1  12/1/2010 8:26       3.39     17850.0  United Kingdom  \n",
       "2  12/1/2010 8:26       2.75     17850.0  United Kingdom  \n",
       "3  12/1/2010 8:26       3.39     17850.0  United Kingdom  \n",
       "4  12/1/2010 8:26       3.39     17850.0  United Kingdom  "
      ]
     },
     "execution_count": 1,
     "metadata": {},
     "output_type": "execute_result"
    }
   ],
   "source": [
    "%%time\n",
    "# Import Standard packages\n",
    "import pandas as pd\n",
    "import numpy as np\n",
    "import seaborn as sns\n",
    "import matplotlib.pyplot as plt\n",
    "\n",
    "# Load the available data and overview\n",
    "df=pd.read_csv(\"https://raw.githubusercontent.com/anilak1978/ecommerce/master/OnlineRetail.csv\", encoding=\"ISO-8859-1\",low_memory=False)\n",
    "df.head()"
   ]
  },
  {
   "cell_type": "code",
   "execution_count": 2,
   "metadata": {
    "colab": {},
    "colab_type": "code",
    "id": "egBGeFERcNwR",
    "outputId": "03037b82-4bf8-4e82-e834-b3cf7506d7e8"
   },
   "outputs": [
    {
     "data": {
      "text/html": [
       "<div>\n",
       "<style scoped>\n",
       "    .dataframe tbody tr th:only-of-type {\n",
       "        vertical-align: middle;\n",
       "    }\n",
       "\n",
       "    .dataframe tbody tr th {\n",
       "        vertical-align: top;\n",
       "    }\n",
       "\n",
       "    .dataframe thead th {\n",
       "        text-align: right;\n",
       "    }\n",
       "</style>\n",
       "<table border=\"1\" class=\"dataframe\">\n",
       "  <thead>\n",
       "    <tr style=\"text-align: right;\">\n",
       "      <th></th>\n",
       "      <th>InvoiceNo</th>\n",
       "      <th>StockCode</th>\n",
       "      <th>Description</th>\n",
       "      <th>Quantity</th>\n",
       "      <th>InvoiceDate</th>\n",
       "      <th>UnitPrice</th>\n",
       "      <th>CustomerID</th>\n",
       "      <th>Country</th>\n",
       "    </tr>\n",
       "  </thead>\n",
       "  <tbody>\n",
       "    <tr>\n",
       "      <th>0</th>\n",
       "      <td>536365</td>\n",
       "      <td>85123A</td>\n",
       "      <td>WHITE HANGING HEART T-LIGHT HOLDER</td>\n",
       "      <td>6</td>\n",
       "      <td>12/1/2010 8:26</td>\n",
       "      <td>2.55</td>\n",
       "      <td>17850.0</td>\n",
       "      <td>United Kingdom</td>\n",
       "    </tr>\n",
       "    <tr>\n",
       "      <th>1</th>\n",
       "      <td>536365</td>\n",
       "      <td>71053</td>\n",
       "      <td>WHITE METAL LANTERN</td>\n",
       "      <td>6</td>\n",
       "      <td>12/1/2010 8:26</td>\n",
       "      <td>3.39</td>\n",
       "      <td>17850.0</td>\n",
       "      <td>United Kingdom</td>\n",
       "    </tr>\n",
       "    <tr>\n",
       "      <th>2</th>\n",
       "      <td>536365</td>\n",
       "      <td>84406B</td>\n",
       "      <td>CREAM CUPID HEARTS COAT HANGER</td>\n",
       "      <td>8</td>\n",
       "      <td>12/1/2010 8:26</td>\n",
       "      <td>2.75</td>\n",
       "      <td>17850.0</td>\n",
       "      <td>United Kingdom</td>\n",
       "    </tr>\n",
       "    <tr>\n",
       "      <th>3</th>\n",
       "      <td>536365</td>\n",
       "      <td>84029G</td>\n",
       "      <td>KNITTED UNION FLAG HOT WATER BOTTLE</td>\n",
       "      <td>6</td>\n",
       "      <td>12/1/2010 8:26</td>\n",
       "      <td>3.39</td>\n",
       "      <td>17850.0</td>\n",
       "      <td>United Kingdom</td>\n",
       "    </tr>\n",
       "    <tr>\n",
       "      <th>4</th>\n",
       "      <td>536365</td>\n",
       "      <td>84029E</td>\n",
       "      <td>RED WOOLLY HOTTIE WHITE HEART.</td>\n",
       "      <td>6</td>\n",
       "      <td>12/1/2010 8:26</td>\n",
       "      <td>3.39</td>\n",
       "      <td>17850.0</td>\n",
       "      <td>United Kingdom</td>\n",
       "    </tr>\n",
       "  </tbody>\n",
       "</table>\n",
       "</div>"
      ],
      "text/plain": [
       "  InvoiceNo StockCode                          Description  Quantity  \\\n",
       "0    536365    85123A   WHITE HANGING HEART T-LIGHT HOLDER         6   \n",
       "1    536365     71053                  WHITE METAL LANTERN         6   \n",
       "2    536365    84406B       CREAM CUPID HEARTS COAT HANGER         8   \n",
       "3    536365    84029G  KNITTED UNION FLAG HOT WATER BOTTLE         6   \n",
       "4    536365    84029E       RED WOOLLY HOTTIE WHITE HEART.         6   \n",
       "\n",
       "      InvoiceDate  UnitPrice  CustomerID         Country  \n",
       "0  12/1/2010 8:26       2.55     17850.0  United Kingdom  \n",
       "1  12/1/2010 8:26       3.39     17850.0  United Kingdom  \n",
       "2  12/1/2010 8:26       2.75     17850.0  United Kingdom  \n",
       "3  12/1/2010 8:26       3.39     17850.0  United Kingdom  \n",
       "4  12/1/2010 8:26       3.39     17850.0  United Kingdom  "
      ]
     },
     "execution_count": 2,
     "metadata": {},
     "output_type": "execute_result"
    }
   ],
   "source": [
    "df.head()"
   ]
  },
  {
   "cell_type": "code",
   "execution_count": 3,
   "metadata": {
    "colab": {},
    "colab_type": "code",
    "id": "atBr-2mqcNwW",
    "outputId": "455aadcf-e4a4-451c-8170-474f87a23023"
   },
   "outputs": [
    {
     "name": "stdout",
     "output_type": "stream",
     "text": [
      "<class 'pandas.core.frame.DataFrame'>\n",
      "RangeIndex: 541909 entries, 0 to 541908\n",
      "Data columns (total 8 columns):\n",
      " #   Column       Non-Null Count   Dtype  \n",
      "---  ------       --------------   -----  \n",
      " 0   InvoiceNo    541909 non-null  object \n",
      " 1   StockCode    541909 non-null  object \n",
      " 2   Description  540455 non-null  object \n",
      " 3   Quantity     541909 non-null  int64  \n",
      " 4   InvoiceDate  541909 non-null  object \n",
      " 5   UnitPrice    541909 non-null  float64\n",
      " 6   CustomerID   406829 non-null  float64\n",
      " 7   Country      541909 non-null  object \n",
      "dtypes: float64(2), int64(1), object(5)\n",
      "memory usage: 33.1+ MB\n"
     ]
    }
   ],
   "source": [
    "df.info()"
   ]
  },
  {
   "cell_type": "code",
   "execution_count": 6,
   "metadata": {
    "colab": {},
    "colab_type": "code",
    "id": "s3ktSoP-cNwb",
    "outputId": "c6616a94-c7cf-439c-f4f2-f94584987606"
   },
   "outputs": [],
   "source": [
    "#import pandas_profiling as pp\n",
    "#pp.ProfileReport(df)"
   ]
  },
  {
   "cell_type": "code",
   "execution_count": 7,
   "metadata": {
    "colab": {},
    "colab_type": "code",
    "id": "n-M-f2xUcNwf",
    "outputId": "82ccff3b-c152-4975-c9fb-e822666f8364"
   },
   "outputs": [
    {
     "data": {
      "text/plain": [
       "(541909, 8)"
      ]
     },
     "execution_count": 7,
     "metadata": {},
     "output_type": "execute_result"
    }
   ],
   "source": [
    "df.shape"
   ]
  },
  {
   "cell_type": "code",
   "execution_count": 8,
   "metadata": {
    "colab": {},
    "colab_type": "code",
    "id": "emwMwyeecNwi",
    "outputId": "16a414fe-193e-472b-92d5-437409722184"
   },
   "outputs": [
    {
     "data": {
      "text/plain": [
       "InvoiceNo       object\n",
       "StockCode       object\n",
       "Description     object\n",
       "Quantity         int64\n",
       "InvoiceDate     object\n",
       "UnitPrice      float64\n",
       "CustomerID     float64\n",
       "Country         object\n",
       "dtype: object"
      ]
     },
     "execution_count": 8,
     "metadata": {},
     "output_type": "execute_result"
    }
   ],
   "source": [
    "# Look for datatypes\n",
    "df.dtypes"
   ]
  },
  {
   "cell_type": "code",
   "execution_count": 9,
   "metadata": {
    "colab": {},
    "colab_type": "code",
    "id": "riqZcMUgcNwl",
    "outputId": "c009e94b-6c6d-4877-f3f5-0bf3b5675330"
   },
   "outputs": [
    {
     "data": {
      "text/plain": [
       "InvoiceNo           0\n",
       "StockCode           0\n",
       "Description      1454\n",
       "Quantity            0\n",
       "InvoiceDate         0\n",
       "UnitPrice           0\n",
       "CustomerID     135080\n",
       "Country             0\n",
       "dtype: int64"
      ]
     },
     "execution_count": 9,
     "metadata": {},
     "output_type": "execute_result"
    }
   ],
   "source": [
    "# Look for missing values\n",
    "df.isnull().sum()"
   ]
  },
  {
   "cell_type": "code",
   "execution_count": 10,
   "metadata": {
    "colab": {},
    "colab_type": "code",
    "id": "ZlC0i75QcNwo",
    "outputId": "bfa92a28-7640-4b8f-8455-cb953b6c7b5b"
   },
   "outputs": [
    {
     "data": {
      "text/html": [
       "<div>\n",
       "<style scoped>\n",
       "    .dataframe tbody tr th:only-of-type {\n",
       "        vertical-align: middle;\n",
       "    }\n",
       "\n",
       "    .dataframe tbody tr th {\n",
       "        vertical-align: top;\n",
       "    }\n",
       "\n",
       "    .dataframe thead th {\n",
       "        text-align: right;\n",
       "    }\n",
       "</style>\n",
       "<table border=\"1\" class=\"dataframe\">\n",
       "  <thead>\n",
       "    <tr style=\"text-align: right;\">\n",
       "      <th></th>\n",
       "      <th>InvoiceNo</th>\n",
       "      <th>StockCode</th>\n",
       "      <th>Description</th>\n",
       "      <th>Quantity</th>\n",
       "      <th>InvoiceDate</th>\n",
       "      <th>UnitPrice</th>\n",
       "      <th>CustomerID</th>\n",
       "      <th>Country</th>\n",
       "      <th>Revenue</th>\n",
       "      <th>InvoiceMonth</th>\n",
       "      <th>InvoiceYear</th>\n",
       "    </tr>\n",
       "  </thead>\n",
       "  <tbody>\n",
       "    <tr>\n",
       "      <th>0</th>\n",
       "      <td>536365</td>\n",
       "      <td>85123A</td>\n",
       "      <td>WHITE HANGING HEART T-LIGHT HOLDER</td>\n",
       "      <td>6</td>\n",
       "      <td>2010-12-01</td>\n",
       "      <td>2.55</td>\n",
       "      <td>17850.0</td>\n",
       "      <td>United Kingdom</td>\n",
       "      <td>15.30</td>\n",
       "      <td>12</td>\n",
       "      <td>2010</td>\n",
       "    </tr>\n",
       "    <tr>\n",
       "      <th>1</th>\n",
       "      <td>536365</td>\n",
       "      <td>71053</td>\n",
       "      <td>WHITE METAL LANTERN</td>\n",
       "      <td>6</td>\n",
       "      <td>2010-12-01</td>\n",
       "      <td>3.39</td>\n",
       "      <td>17850.0</td>\n",
       "      <td>United Kingdom</td>\n",
       "      <td>20.34</td>\n",
       "      <td>12</td>\n",
       "      <td>2010</td>\n",
       "    </tr>\n",
       "    <tr>\n",
       "      <th>2</th>\n",
       "      <td>536365</td>\n",
       "      <td>84406B</td>\n",
       "      <td>CREAM CUPID HEARTS COAT HANGER</td>\n",
       "      <td>8</td>\n",
       "      <td>2010-12-01</td>\n",
       "      <td>2.75</td>\n",
       "      <td>17850.0</td>\n",
       "      <td>United Kingdom</td>\n",
       "      <td>22.00</td>\n",
       "      <td>12</td>\n",
       "      <td>2010</td>\n",
       "    </tr>\n",
       "    <tr>\n",
       "      <th>3</th>\n",
       "      <td>536365</td>\n",
       "      <td>84029G</td>\n",
       "      <td>KNITTED UNION FLAG HOT WATER BOTTLE</td>\n",
       "      <td>6</td>\n",
       "      <td>2010-12-01</td>\n",
       "      <td>3.39</td>\n",
       "      <td>17850.0</td>\n",
       "      <td>United Kingdom</td>\n",
       "      <td>20.34</td>\n",
       "      <td>12</td>\n",
       "      <td>2010</td>\n",
       "    </tr>\n",
       "    <tr>\n",
       "      <th>4</th>\n",
       "      <td>536365</td>\n",
       "      <td>84029E</td>\n",
       "      <td>RED WOOLLY HOTTIE WHITE HEART.</td>\n",
       "      <td>6</td>\n",
       "      <td>2010-12-01</td>\n",
       "      <td>3.39</td>\n",
       "      <td>17850.0</td>\n",
       "      <td>United Kingdom</td>\n",
       "      <td>20.34</td>\n",
       "      <td>12</td>\n",
       "      <td>2010</td>\n",
       "    </tr>\n",
       "  </tbody>\n",
       "</table>\n",
       "</div>"
      ],
      "text/plain": [
       "  InvoiceNo StockCode                          Description  Quantity  \\\n",
       "0    536365    85123A   WHITE HANGING HEART T-LIGHT HOLDER         6   \n",
       "1    536365     71053                  WHITE METAL LANTERN         6   \n",
       "2    536365    84406B       CREAM CUPID HEARTS COAT HANGER         8   \n",
       "3    536365    84029G  KNITTED UNION FLAG HOT WATER BOTTLE         6   \n",
       "4    536365    84029E       RED WOOLLY HOTTIE WHITE HEART.         6   \n",
       "\n",
       "  InvoiceDate  UnitPrice  CustomerID         Country  Revenue  InvoiceMonth  \\\n",
       "0  2010-12-01       2.55     17850.0  United Kingdom    15.30            12   \n",
       "1  2010-12-01       3.39     17850.0  United Kingdom    20.34            12   \n",
       "2  2010-12-01       2.75     17850.0  United Kingdom    22.00            12   \n",
       "3  2010-12-01       3.39     17850.0  United Kingdom    20.34            12   \n",
       "4  2010-12-01       3.39     17850.0  United Kingdom    20.34            12   \n",
       "\n",
       "   InvoiceYear  \n",
       "0         2010  \n",
       "1         2010  \n",
       "2         2010  \n",
       "3         2010  \n",
       "4         2010  "
      ]
     },
     "execution_count": 10,
     "metadata": {},
     "output_type": "execute_result"
    }
   ],
   "source": [
    "# Add Revenue variable and update InvoiceDate \n",
    "df[\"Revenue\"]=df[\"UnitPrice\"]*df[\"Quantity\"]\n",
    "df[\"InvoiceDate\"]=pd.to_datetime(df[\"InvoiceDate\"]).dt.date\n",
    "df[\"InvoiceMonth\"]=pd.DatetimeIndex(df[\"InvoiceDate\"]).month\n",
    "df[\"InvoiceYear\"]=pd.DatetimeIndex(df[\"InvoiceDate\"]).year\n",
    "df.head()"
   ]
  },
  {
   "cell_type": "code",
   "execution_count": 11,
   "metadata": {
    "colab": {},
    "colab_type": "code",
    "id": "H42NkAVHcNwr",
    "outputId": "d02a5e7c-994b-4f27-e0e6-7c8875b35d8d"
   },
   "outputs": [
    {
     "data": {
      "text/plain": [
       "(541909, 11)"
      ]
     },
     "execution_count": 11,
     "metadata": {},
     "output_type": "execute_result"
    }
   ],
   "source": [
    "df.shape"
   ]
  },
  {
   "cell_type": "markdown",
   "metadata": {
    "colab_type": "text",
    "id": "FYcRY-N0cNwv"
   },
   "source": [
    "Data Exploration"
   ]
  },
  {
   "cell_type": "code",
   "execution_count": 12,
   "metadata": {
    "colab": {},
    "colab_type": "code",
    "id": "_ogKzDD1cNww",
    "outputId": "e8db44d8-698e-45c3-aa75-a09f8d5ad3dd"
   },
   "outputs": [
    {
     "data": {
      "text/html": [
       "<div>\n",
       "<style scoped>\n",
       "    .dataframe tbody tr th:only-of-type {\n",
       "        vertical-align: middle;\n",
       "    }\n",
       "\n",
       "    .dataframe tbody tr th {\n",
       "        vertical-align: top;\n",
       "    }\n",
       "\n",
       "    .dataframe thead th {\n",
       "        text-align: right;\n",
       "    }\n",
       "</style>\n",
       "<table border=\"1\" class=\"dataframe\">\n",
       "  <thead>\n",
       "    <tr style=\"text-align: right;\">\n",
       "      <th></th>\n",
       "      <th>Quantity</th>\n",
       "      <th>UnitPrice</th>\n",
       "      <th>CustomerID</th>\n",
       "      <th>Revenue</th>\n",
       "      <th>InvoiceMonth</th>\n",
       "      <th>InvoiceYear</th>\n",
       "    </tr>\n",
       "  </thead>\n",
       "  <tbody>\n",
       "    <tr>\n",
       "      <th>count</th>\n",
       "      <td>541909.000000</td>\n",
       "      <td>541909.000000</td>\n",
       "      <td>406829.000000</td>\n",
       "      <td>541909.000000</td>\n",
       "      <td>541909.000000</td>\n",
       "      <td>541909.000000</td>\n",
       "    </tr>\n",
       "    <tr>\n",
       "      <th>mean</th>\n",
       "      <td>9.552250</td>\n",
       "      <td>4.611114</td>\n",
       "      <td>15287.690570</td>\n",
       "      <td>17.987795</td>\n",
       "      <td>7.553128</td>\n",
       "      <td>2010.921609</td>\n",
       "    </tr>\n",
       "    <tr>\n",
       "      <th>std</th>\n",
       "      <td>218.081158</td>\n",
       "      <td>96.759853</td>\n",
       "      <td>1713.600303</td>\n",
       "      <td>378.810824</td>\n",
       "      <td>3.509055</td>\n",
       "      <td>0.268787</td>\n",
       "    </tr>\n",
       "    <tr>\n",
       "      <th>min</th>\n",
       "      <td>-80995.000000</td>\n",
       "      <td>-11062.060000</td>\n",
       "      <td>12346.000000</td>\n",
       "      <td>-168469.600000</td>\n",
       "      <td>1.000000</td>\n",
       "      <td>2010.000000</td>\n",
       "    </tr>\n",
       "    <tr>\n",
       "      <th>25%</th>\n",
       "      <td>1.000000</td>\n",
       "      <td>1.250000</td>\n",
       "      <td>13953.000000</td>\n",
       "      <td>3.400000</td>\n",
       "      <td>5.000000</td>\n",
       "      <td>2011.000000</td>\n",
       "    </tr>\n",
       "    <tr>\n",
       "      <th>50%</th>\n",
       "      <td>3.000000</td>\n",
       "      <td>2.080000</td>\n",
       "      <td>15152.000000</td>\n",
       "      <td>9.750000</td>\n",
       "      <td>8.000000</td>\n",
       "      <td>2011.000000</td>\n",
       "    </tr>\n",
       "    <tr>\n",
       "      <th>75%</th>\n",
       "      <td>10.000000</td>\n",
       "      <td>4.130000</td>\n",
       "      <td>16791.000000</td>\n",
       "      <td>17.400000</td>\n",
       "      <td>11.000000</td>\n",
       "      <td>2011.000000</td>\n",
       "    </tr>\n",
       "    <tr>\n",
       "      <th>max</th>\n",
       "      <td>80995.000000</td>\n",
       "      <td>38970.000000</td>\n",
       "      <td>18287.000000</td>\n",
       "      <td>168469.600000</td>\n",
       "      <td>12.000000</td>\n",
       "      <td>2011.000000</td>\n",
       "    </tr>\n",
       "  </tbody>\n",
       "</table>\n",
       "</div>"
      ],
      "text/plain": [
       "            Quantity      UnitPrice     CustomerID        Revenue  \\\n",
       "count  541909.000000  541909.000000  406829.000000  541909.000000   \n",
       "mean        9.552250       4.611114   15287.690570      17.987795   \n",
       "std       218.081158      96.759853    1713.600303     378.810824   \n",
       "min    -80995.000000  -11062.060000   12346.000000 -168469.600000   \n",
       "25%         1.000000       1.250000   13953.000000       3.400000   \n",
       "50%         3.000000       2.080000   15152.000000       9.750000   \n",
       "75%        10.000000       4.130000   16791.000000      17.400000   \n",
       "max     80995.000000   38970.000000   18287.000000  168469.600000   \n",
       "\n",
       "        InvoiceMonth    InvoiceYear  \n",
       "count  541909.000000  541909.000000  \n",
       "mean        7.553128    2010.921609  \n",
       "std         3.509055       0.268787  \n",
       "min         1.000000    2010.000000  \n",
       "25%         5.000000    2011.000000  \n",
       "50%         8.000000    2011.000000  \n",
       "75%        11.000000    2011.000000  \n",
       "max        12.000000    2011.000000  "
      ]
     },
     "execution_count": 12,
     "metadata": {},
     "output_type": "execute_result"
    }
   ],
   "source": [
    "df.describe()"
   ]
  },
  {
   "cell_type": "markdown",
   "metadata": {
    "colab_type": "text",
    "id": "R1gnW6JRcNw1"
   },
   "source": [
    "# Monthly Revenue Overview"
   ]
  },
  {
   "cell_type": "code",
   "execution_count": 33,
   "metadata": {
    "colab": {},
    "colab_type": "code",
    "id": "C6re16yHcNw2",
    "outputId": "e734620c-0fac-47b7-9784-3e3345046363"
   },
   "outputs": [
    {
     "data": {
      "text/plain": [
       "Text(0, 0.5, 'Revenue')"
      ]
     },
     "execution_count": 33,
     "metadata": {},
     "output_type": "execute_result"
    },
    {
     "data": {
      "image/png": "[encoded data removed]",
      "text/plain": [
       "<Figure size 1080x720 with 1 Axes>"
      ]
     },
     "metadata": {
      "needs_background": "light"
     },
     "output_type": "display_data"
    }
   ],
   "source": [
    "%matplotlib inline\n",
    "#Monthly Revenue Overview\n",
    "df_revenue=df.groupby([\"InvoiceMonth\", \"InvoiceYear\"])[\"Revenue\"].sum().reset_index()\n",
    "plt.figure(figsize=(15,10))\n",
    "sns.barplot(x=\"InvoiceMonth\", y=\"Revenue\", hue=\"InvoiceYear\", data=df_revenue)\n",
    "plt.title(\"Monthly Revenue\")\n",
    "plt.xlabel(\"Month\")\n",
    "plt.ylabel(\"Revenue\")"
   ]
  },
  {
   "cell_type": "markdown",
   "metadata": {},
   "source": [
    "# Monthly Revenue Overview (lineplot)"
   ]
  },
  {
   "cell_type": "code",
   "execution_count": 14,
   "metadata": {
    "colab": {},
    "colab_type": "code",
    "id": "k6CY4vPAcNw5",
    "outputId": "c5144d93-59fb-44e5-d386-18fa3550ec78"
   },
   "outputs": [
    {
     "data": {
      "text/plain": [
       "Text(26.885127314814824, 0.5, 'Revenue')"
      ]
     },
     "execution_count": 14,
     "metadata": {},
     "output_type": "execute_result"
    },
    {
     "data": {
      "text/plain": [
       "<Figure size 432x288 with 0 Axes>"
      ]
     },
     "metadata": {},
     "output_type": "display_data"
    },
    {
     "data": {
      "image/png": "[encoded data removed]",
      "text/plain": [
       "<Figure size 1168.75x720 with 1 Axes>"
      ]
     },
     "metadata": {
      "needs_background": "light"
     },
     "output_type": "display_data"
    }
   ],
   "source": [
    "\n",
    "plt.figure()\n",
    "sns.relplot(x=\"InvoiceMonth\", y=\"Revenue\", hue=\"InvoiceYear\", kind=\"line\", data=df_revenue, height=10, aspect=15/10)\n",
    "plt.title(\"Monthly Revenue\")\n",
    "plt.xlabel(\"Month\")\n",
    "plt.ylabel(\"Revenue\")"
   ]
  },
  {
   "cell_type": "markdown",
   "metadata": {
    "colab_type": "text",
    "id": "LUPsVJUVcNw8"
   },
   "source": [
    "we realize that our data set starts in December 2010 and goes all the way to December 2011. We notice that the revenue slumps around December 2011. We need to see if this is due to customers not purchasing our merchandise or if it is related to an issue within the dataset."
   ]
  },
  {
   "cell_type": "code",
   "execution_count": 15,
   "metadata": {
    "colab": {},
    "colab_type": "code",
    "id": "vji-S4GEcNw9",
    "outputId": "7d8f59fa-49bb-4316-d028-15032ec50631"
   },
   "outputs": [
    {
     "data": {
      "text/html": [
       "<div>\n",
       "<style scoped>\n",
       "    .dataframe tbody tr th:only-of-type {\n",
       "        vertical-align: middle;\n",
       "    }\n",
       "\n",
       "    .dataframe tbody tr th {\n",
       "        vertical-align: top;\n",
       "    }\n",
       "\n",
       "    .dataframe thead th {\n",
       "        text-align: right;\n",
       "    }\n",
       "</style>\n",
       "<table border=\"1\" class=\"dataframe\">\n",
       "  <thead>\n",
       "    <tr style=\"text-align: right;\">\n",
       "      <th></th>\n",
       "      <th>InvoiceNo</th>\n",
       "      <th>StockCode</th>\n",
       "      <th>Description</th>\n",
       "      <th>Quantity</th>\n",
       "      <th>InvoiceDate</th>\n",
       "      <th>UnitPrice</th>\n",
       "      <th>CustomerID</th>\n",
       "      <th>Country</th>\n",
       "      <th>Revenue</th>\n",
       "      <th>InvoiceMonth</th>\n",
       "      <th>InvoiceYear</th>\n",
       "    </tr>\n",
       "  </thead>\n",
       "  <tbody>\n",
       "    <tr>\n",
       "      <th>516384</th>\n",
       "      <td>C579889</td>\n",
       "      <td>23245</td>\n",
       "      <td>SET OF 3 REGENCY CAKE TINS</td>\n",
       "      <td>-8</td>\n",
       "      <td>2011-12-01</td>\n",
       "      <td>4.15</td>\n",
       "      <td>13853.0</td>\n",
       "      <td>United Kingdom</td>\n",
       "      <td>-33.20</td>\n",
       "      <td>12</td>\n",
       "      <td>2011</td>\n",
       "    </tr>\n",
       "    <tr>\n",
       "      <th>516385</th>\n",
       "      <td>C579890</td>\n",
       "      <td>84947</td>\n",
       "      <td>ANTIQUE SILVER TEA GLASS ENGRAVED</td>\n",
       "      <td>-1</td>\n",
       "      <td>2011-12-01</td>\n",
       "      <td>1.25</td>\n",
       "      <td>15197.0</td>\n",
       "      <td>United Kingdom</td>\n",
       "      <td>-1.25</td>\n",
       "      <td>12</td>\n",
       "      <td>2011</td>\n",
       "    </tr>\n",
       "    <tr>\n",
       "      <th>516386</th>\n",
       "      <td>C579890</td>\n",
       "      <td>23374</td>\n",
       "      <td>RED SPOT PAPER GIFT BAG</td>\n",
       "      <td>-1</td>\n",
       "      <td>2011-12-01</td>\n",
       "      <td>0.82</td>\n",
       "      <td>15197.0</td>\n",
       "      <td>United Kingdom</td>\n",
       "      <td>-0.82</td>\n",
       "      <td>12</td>\n",
       "      <td>2011</td>\n",
       "    </tr>\n",
       "    <tr>\n",
       "      <th>516387</th>\n",
       "      <td>C579890</td>\n",
       "      <td>84945</td>\n",
       "      <td>MULTI COLOUR SILVER T-LIGHT HOLDER</td>\n",
       "      <td>-2</td>\n",
       "      <td>2011-12-01</td>\n",
       "      <td>0.85</td>\n",
       "      <td>15197.0</td>\n",
       "      <td>United Kingdom</td>\n",
       "      <td>-1.70</td>\n",
       "      <td>12</td>\n",
       "      <td>2011</td>\n",
       "    </tr>\n",
       "    <tr>\n",
       "      <th>516388</th>\n",
       "      <td>C579891</td>\n",
       "      <td>23485</td>\n",
       "      <td>BOTANICAL GARDENS WALL CLOCK</td>\n",
       "      <td>-1</td>\n",
       "      <td>2011-12-01</td>\n",
       "      <td>25.00</td>\n",
       "      <td>13644.0</td>\n",
       "      <td>United Kingdom</td>\n",
       "      <td>-25.00</td>\n",
       "      <td>12</td>\n",
       "      <td>2011</td>\n",
       "    </tr>\n",
       "    <tr>\n",
       "      <th>...</th>\n",
       "      <td>...</td>\n",
       "      <td>...</td>\n",
       "      <td>...</td>\n",
       "      <td>...</td>\n",
       "      <td>...</td>\n",
       "      <td>...</td>\n",
       "      <td>...</td>\n",
       "      <td>...</td>\n",
       "      <td>...</td>\n",
       "      <td>...</td>\n",
       "      <td>...</td>\n",
       "    </tr>\n",
       "    <tr>\n",
       "      <th>541904</th>\n",
       "      <td>581587</td>\n",
       "      <td>22613</td>\n",
       "      <td>PACK OF 20 SPACEBOY NAPKINS</td>\n",
       "      <td>12</td>\n",
       "      <td>2011-12-09</td>\n",
       "      <td>0.85</td>\n",
       "      <td>12680.0</td>\n",
       "      <td>France</td>\n",
       "      <td>10.20</td>\n",
       "      <td>12</td>\n",
       "      <td>2011</td>\n",
       "    </tr>\n",
       "    <tr>\n",
       "      <th>541905</th>\n",
       "      <td>581587</td>\n",
       "      <td>22899</td>\n",
       "      <td>CHILDREN'S APRON DOLLY GIRL</td>\n",
       "      <td>6</td>\n",
       "      <td>2011-12-09</td>\n",
       "      <td>2.10</td>\n",
       "      <td>12680.0</td>\n",
       "      <td>France</td>\n",
       "      <td>12.60</td>\n",
       "      <td>12</td>\n",
       "      <td>2011</td>\n",
       "    </tr>\n",
       "    <tr>\n",
       "      <th>541906</th>\n",
       "      <td>581587</td>\n",
       "      <td>23254</td>\n",
       "      <td>CHILDRENS CUTLERY DOLLY GIRL</td>\n",
       "      <td>4</td>\n",
       "      <td>2011-12-09</td>\n",
       "      <td>4.15</td>\n",
       "      <td>12680.0</td>\n",
       "      <td>France</td>\n",
       "      <td>16.60</td>\n",
       "      <td>12</td>\n",
       "      <td>2011</td>\n",
       "    </tr>\n",
       "    <tr>\n",
       "      <th>541907</th>\n",
       "      <td>581587</td>\n",
       "      <td>23255</td>\n",
       "      <td>CHILDRENS CUTLERY CIRCUS PARADE</td>\n",
       "      <td>4</td>\n",
       "      <td>2011-12-09</td>\n",
       "      <td>4.15</td>\n",
       "      <td>12680.0</td>\n",
       "      <td>France</td>\n",
       "      <td>16.60</td>\n",
       "      <td>12</td>\n",
       "      <td>2011</td>\n",
       "    </tr>\n",
       "    <tr>\n",
       "      <th>541908</th>\n",
       "      <td>581587</td>\n",
       "      <td>22138</td>\n",
       "      <td>BAKING SET 9 PIECE RETROSPOT</td>\n",
       "      <td>3</td>\n",
       "      <td>2011-12-09</td>\n",
       "      <td>4.95</td>\n",
       "      <td>12680.0</td>\n",
       "      <td>France</td>\n",
       "      <td>14.85</td>\n",
       "      <td>12</td>\n",
       "      <td>2011</td>\n",
       "    </tr>\n",
       "  </tbody>\n",
       "</table>\n",
       "<p>25525 rows × 11 columns</p>\n",
       "</div>"
      ],
      "text/plain": [
       "       InvoiceNo StockCode                         Description  Quantity  \\\n",
       "516384   C579889     23245          SET OF 3 REGENCY CAKE TINS        -8   \n",
       "516385   C579890     84947   ANTIQUE SILVER TEA GLASS ENGRAVED        -1   \n",
       "516386   C579890     23374             RED SPOT PAPER GIFT BAG        -1   \n",
       "516387   C579890     84945  MULTI COLOUR SILVER T-LIGHT HOLDER        -2   \n",
       "516388   C579891     23485       BOTANICAL GARDENS WALL CLOCK         -1   \n",
       "...          ...       ...                                 ...       ...   \n",
       "541904    581587     22613         PACK OF 20 SPACEBOY NAPKINS        12   \n",
       "541905    581587     22899        CHILDREN'S APRON DOLLY GIRL          6   \n",
       "541906    581587     23254       CHILDRENS CUTLERY DOLLY GIRL          4   \n",
       "541907    581587     23255     CHILDRENS CUTLERY CIRCUS PARADE         4   \n",
       "541908    581587     22138       BAKING SET 9 PIECE RETROSPOT          3   \n",
       "\n",
       "       InvoiceDate  UnitPrice  CustomerID         Country  Revenue  \\\n",
       "516384  2011-12-01       4.15     13853.0  United Kingdom   -33.20   \n",
       "516385  2011-12-01       1.25     15197.0  United Kingdom    -1.25   \n",
       "516386  2011-12-01       0.82     15197.0  United Kingdom    -0.82   \n",
       "516387  2011-12-01       0.85     15197.0  United Kingdom    -1.70   \n",
       "516388  2011-12-01      25.00     13644.0  United Kingdom   -25.00   \n",
       "...            ...        ...         ...             ...      ...   \n",
       "541904  2011-12-09       0.85     12680.0          France    10.20   \n",
       "541905  2011-12-09       2.10     12680.0          France    12.60   \n",
       "541906  2011-12-09       4.15     12680.0          France    16.60   \n",
       "541907  2011-12-09       4.15     12680.0          France    16.60   \n",
       "541908  2011-12-09       4.95     12680.0          France    14.85   \n",
       "\n",
       "        InvoiceMonth  InvoiceYear  \n",
       "516384            12         2011  \n",
       "516385            12         2011  \n",
       "516386            12         2011  \n",
       "516387            12         2011  \n",
       "516388            12         2011  \n",
       "...              ...          ...  \n",
       "541904            12         2011  \n",
       "541905            12         2011  \n",
       "541906            12         2011  \n",
       "541907            12         2011  \n",
       "541908            12         2011  \n",
       "\n",
       "[25525 rows x 11 columns]"
      ]
     },
     "execution_count": 15,
     "metadata": {},
     "output_type": "execute_result"
    }
   ],
   "source": [
    "# Look at the December 2011 data\n",
    "df_december_2011=df.query(\"InvoiceMonth==12 and InvoiceYear==2011\")\n",
    "df_december_2011"
   ]
  },
  {
   "cell_type": "markdown",
   "metadata": {
    "colab_type": "text",
    "id": "1P80fVV3cNxB"
   },
   "source": [
    "Based on the december 2011 data, we understand that the data set does not include any purchases after December 9th 2011. We need to make sure, we consider this within our analysis and conclusion.\n",
    "On a separate note; we can see that the revenue grows steadily starting from September 2011 all the way up to December 2011, November being the best month in terms of revenue."
   ]
  },
  {
   "cell_type": "markdown",
   "metadata": {
    "colab_type": "text",
    "id": "HV1ILSzEcNxB"
   },
   "source": [
    "# Monthly Items Sold Overview"
   ]
  },
  {
   "cell_type": "code",
   "execution_count": 35,
   "metadata": {
    "colab": {},
    "colab_type": "code",
    "id": "57tslv0OcNxC",
    "outputId": "7db5530e-b6e1-40f9-b6d0-9e4c109c4730"
   },
   "outputs": [
    {
     "data": {
      "text/plain": [
       "Text(0, 0.5, 'Items Sold')"
      ]
     },
     "execution_count": 35,
     "metadata": {},
     "output_type": "execute_result"
    },
    {
     "data": {
      "image/png": "[encoded data removed]",
      "text/plain": [
       "<Figure size 1080x720 with 1 Axes>"
      ]
     },
     "metadata": {
      "needs_background": "light"
     },
     "output_type": "display_data"
    }
   ],
   "source": [
    "# Monthly Items Sold Overview\n",
    "df_quantity=df.groupby([\"InvoiceMonth\", \"InvoiceYear\"])[\"Quantity\"].sum().reset_index()\n",
    "plt.figure(figsize=(15,10))\n",
    "sns.barplot(x=\"InvoiceMonth\", y=\"Quantity\", data=df_quantity)\n",
    "plt.title(\"Monthly Items Sold\")\n",
    "plt.xlabel(\"Month\")\n",
    "plt.ylabel(\"Items Sold\")"
   ]
  },
  {
   "cell_type": "code",
   "execution_count": null,
   "metadata": {},
   "outputs": [],
   "source": []
  },
  {
   "cell_type": "code",
   "execution_count": 17,
   "metadata": {
    "colab": {},
    "colab_type": "code",
    "id": "yjprDtipcNxG",
    "outputId": "302f335b-abc6-4d6b-f3f3-df10cabd2e20"
   },
   "outputs": [
    {
     "data": {
      "text/plain": [
       "Index(['InvoiceNo', 'StockCode', 'Description', 'Quantity', 'InvoiceDate',\n",
       "       'UnitPrice', 'CustomerID', 'Country', 'Revenue', 'InvoiceMonth',\n",
       "       'InvoiceYear'],\n",
       "      dtype='object')"
      ]
     },
     "execution_count": 17,
     "metadata": {},
     "output_type": "execute_result"
    }
   ],
   "source": [
    "df.columns"
   ]
  },
  {
   "cell_type": "markdown",
   "metadata": {
    "colab_type": "text",
    "id": "QD8Dj46BcNxJ"
   },
   "source": [
    "# Monthly Active Customers"
   ]
  },
  {
   "cell_type": "code",
   "execution_count": 18,
   "metadata": {
    "colab": {},
    "colab_type": "code",
    "id": "NnsNCl_gcNxK",
    "outputId": "d7dfde2f-f64f-4cf3-d1ed-5668fee07ff9"
   },
   "outputs": [
    {
     "data": {
      "text/plain": [
       "Text(0, 0.5, 'Active Users')"
      ]
     },
     "execution_count": 18,
     "metadata": {},
     "output_type": "execute_result"
    },
    {
     "data": {
      "image/png": "[encoded data removed]",
      "text/plain": [
       "<Figure size 1080x720 with 1 Axes>"
      ]
     },
     "metadata": {
      "needs_background": "light"
     },
     "output_type": "display_data"
    }
   ],
   "source": [
    "# Monthly Active Customers\n",
    "df_active=df.groupby([\"InvoiceMonth\", \"InvoiceYear\"])[\"CustomerID\"].nunique().reset_index()\n",
    "plt.figure(figsize=(15,10))\n",
    "sns.barplot(x=\"InvoiceMonth\", y=\"CustomerID\", hue=\"InvoiceYear\", data=df_active)\n",
    "plt.title(\"Monthly Active Users\")\n",
    "plt.xlabel(\"Month\")\n",
    "plt.ylabel(\"Active Users\")"
   ]
  },
  {
   "cell_type": "markdown",
   "metadata": {
    "colab": {},
    "colab_type": "code",
    "id": "jy7zd7SFcNxQ"
   },
   "source": [
    "# Average Revenue per Month"
   ]
  },
  {
   "cell_type": "code",
   "execution_count": 19,
   "metadata": {
    "colab": {},
    "colab_type": "code",
    "id": "KP_GMD-ecNxS",
    "outputId": "8ca5dbcb-4962-4bf4-bb1e-0f18439f80cb"
   },
   "outputs": [
    {
     "data": {
      "text/plain": [
       "Text(0, 0.5, 'Revenue')"
      ]
     },
     "execution_count": 19,
     "metadata": {},
     "output_type": "execute_result"
    },
    {
     "data": {
      "image/png": "[encoded data removed]",
      "text/plain": [
       "<Figure size 1080x720 with 1 Axes>"
      ]
     },
     "metadata": {
      "needs_background": "light"
     },
     "output_type": "display_data"
    }
   ],
   "source": [
    "# Average Revenue per Month\n",
    "df_revenue_avg=df.groupby([\"InvoiceMonth\", \"InvoiceYear\"])[\"Revenue\"].mean().reset_index()\n",
    "plt.figure(figsize=(15,10))\n",
    "sns.barplot(x=\"InvoiceMonth\", y=\"Revenue\", data=df_revenue)\n",
    "plt.title(\"Monthly Average Revenue \")\n",
    "plt.xlabel(\"Month\")\n",
    "plt.ylabel(\"Revenue\")"
   ]
  },
  {
   "cell_type": "markdown",
   "metadata": {
    "colab": {},
    "colab_type": "code",
    "id": "putkeinWcNxV"
   },
   "source": [
    "# New vs Existing Users"
   ]
  },
  {
   "cell_type": "code",
   "execution_count": 20,
   "metadata": {
    "colab": {},
    "colab_type": "code",
    "id": "R1xVYXE5cNxX",
    "outputId": "87b4efa8-c35f-4037-d52b-83692a0a6281"
   },
   "outputs": [
    {
     "data": {
      "text/plain": [
       "Text(24.57344553755145, 0.5, 'Revenue')"
      ]
     },
     "execution_count": 20,
     "metadata": {},
     "output_type": "execute_result"
    },
    {
     "data": {
      "text/plain": [
       "<Figure size 432x288 with 0 Axes>"
      ]
     },
     "metadata": {},
     "output_type": "display_data"
    },
    {
     "data": {
      "image/png": "[encoded data removed]",
      "text/plain": [
       "<Figure size 1634.45x864 with 1 Axes>"
      ]
     },
     "metadata": {
      "needs_background": "light"
     },
     "output_type": "display_data"
    }
   ],
   "source": [
    "# New vs Existing Users\n",
    "df_first_purchase=df.groupby([\"CustomerID\"])[\"InvoiceDate\"].min().reset_index()\n",
    "df_first_purchase.columns=[\"CustomerID\", \"FirstPurchaseDate\"]\n",
    "df=pd.merge(df, df_first_purchase, on=\"CustomerID\")\n",
    "df[\"UserType\"]=\"New\"\n",
    "df.loc[df[\"InvoiceDate\"]>df[\"FirstPurchaseDate\"], \"UserType\"]=\"Existing\"\n",
    "\n",
    "df.head()\n",
    "# New vs Existing User Revenue Analysis\n",
    "df_new_revenue=df.groupby([\"InvoiceMonth\", \"InvoiceYear\", \"UserType\"])[\"Revenue\"].sum().reset_index()\n",
    "plt.figure()\n",
    "sns.relplot(x=\"InvoiceMonth\", y=\"Revenue\", hue=\"UserType\", data=df_new_revenue, kind=\"line\", height=12, aspect=18/10)\n",
    "plt.title(\"New vs Existing Customer Revenue Overview\")\n",
    "plt.xlabel(\"Month\")\n",
    "plt.ylabel(\"Revenue\")"
   ]
  },
  {
   "cell_type": "markdown",
   "metadata": {
    "colab_type": "text",
    "id": "unfA2yNEcNxa"
   },
   "source": [
    "# Customer Segmentation"
   ]
  },
  {
   "cell_type": "markdown",
   "metadata": {
    "colab_type": "text",
    "id": "hR4p-BImcNxa"
   },
   "source": [
    " We can also segment our customers in order to target our actions based on the main business problem we are working to solve."
   ]
  },
  {
   "cell_type": "markdown",
   "metadata": {
    "colab_type": "text",
    "id": "OBiD1N9NcNxb"
   },
   "source": [
    "We are going to use the RFM (Recency, Frequency and Monetary Value) strategy to analyze and estimate\n",
    "\n",
    "* Recency gives us how recently customers make a purchase, \n",
    "* Frequency, how often they make a purchase, and \n",
    "* Monetary Value shows us how often do they spend."
   ]
  },
  {
   "cell_type": "code",
   "execution_count": 21,
   "metadata": {
    "colab": {},
    "colab_type": "code",
    "id": "1REuWYkMcNxc",
    "outputId": "ca85bdff-e127-4030-cfef-2c2bc00781c3"
   },
   "outputs": [
    {
     "data": {
      "text/html": [
       "<div>\n",
       "<style scoped>\n",
       "    .dataframe tbody tr th:only-of-type {\n",
       "        vertical-align: middle;\n",
       "    }\n",
       "\n",
       "    .dataframe tbody tr th {\n",
       "        vertical-align: top;\n",
       "    }\n",
       "\n",
       "    .dataframe thead th {\n",
       "        text-align: right;\n",
       "    }\n",
       "</style>\n",
       "<table border=\"1\" class=\"dataframe\">\n",
       "  <thead>\n",
       "    <tr style=\"text-align: right;\">\n",
       "      <th></th>\n",
       "      <th>CustomerID</th>\n",
       "      <th>Recency</th>\n",
       "    </tr>\n",
       "  </thead>\n",
       "  <tbody>\n",
       "    <tr>\n",
       "      <th>0</th>\n",
       "      <td>17850.0</td>\n",
       "      <td>302</td>\n",
       "    </tr>\n",
       "    <tr>\n",
       "      <th>1</th>\n",
       "      <td>13047.0</td>\n",
       "      <td>31</td>\n",
       "    </tr>\n",
       "    <tr>\n",
       "      <th>2</th>\n",
       "      <td>12583.0</td>\n",
       "      <td>2</td>\n",
       "    </tr>\n",
       "    <tr>\n",
       "      <th>3</th>\n",
       "      <td>13748.0</td>\n",
       "      <td>95</td>\n",
       "    </tr>\n",
       "    <tr>\n",
       "      <th>4</th>\n",
       "      <td>15100.0</td>\n",
       "      <td>330</td>\n",
       "    </tr>\n",
       "  </tbody>\n",
       "</table>\n",
       "</div>"
      ],
      "text/plain": [
       "   CustomerID  Recency\n",
       "0     17850.0      302\n",
       "1     13047.0       31\n",
       "2     12583.0        2\n",
       "3     13748.0       95\n",
       "4     15100.0      330"
      ]
     },
     "execution_count": 21,
     "metadata": {},
     "output_type": "execute_result"
    }
   ],
   "source": [
    "# Recency Calculation\n",
    "df_user=pd.DataFrame(df[\"CustomerID\"].unique())\n",
    "df_user.columns=[\"CustomerID\"]\n",
    "df_last_purchase=df.groupby([\"CustomerID\"])[\"InvoiceDate\"].max().reset_index()\n",
    "df_last_purchase.columns=[\"CustomerID\", \"LastPurchaseDate\"]\n",
    "df_last_purchase[\"Recency\"]= (df_last_purchase[\"LastPurchaseDate\"].max()-df_last_purchase[\"LastPurchaseDate\"]) .dt.days\n",
    "df_recency=pd.merge(df_user, df_last_purchase[[\"CustomerID\", \"Recency\"]])\n",
    "df_recency.head()"
   ]
  },
  {
   "cell_type": "code",
   "execution_count": null,
   "metadata": {},
   "outputs": [],
   "source": []
  },
  {
   "cell_type": "markdown",
   "metadata": {
    "colab_type": "text",
    "id": "d_lO83sIcNxj"
   },
   "source": [
    " Look at the distribution of Recency"
   ]
  },
  {
   "cell_type": "code",
   "execution_count": 22,
   "metadata": {
    "colab": {},
    "colab_type": "code",
    "id": "3vedWZCKcNxl",
    "outputId": "2aa79c60-9e55-4e87-c019-8920a9cd22bb"
   },
   "outputs": [
    {
     "data": {
      "text/plain": [
       "Text(0, 0.5, 'Customer Count')"
      ]
     },
     "execution_count": 22,
     "metadata": {},
     "output_type": "execute_result"
    },
    {
     "data": {
      "image/png": "[encoded data removed]",
      "text/plain": [
       "<Figure size 1080x720 with 1 Axes>"
      ]
     },
     "metadata": {
      "needs_background": "light"
     },
     "output_type": "display_data"
    }
   ],
   "source": [
    "# Look at the distribution of Recency\n",
    "plt.figure(figsize=(15,10))\n",
    "sns.distplot(df_recency[\"Recency\"])\n",
    "plt.title(\"Recency Distribution Within the Customers\")\n",
    "plt.xlabel(\"Recency\")\n",
    "plt.ylabel(\"Customer Count\")"
   ]
  },
  {
   "cell_type": "code",
   "execution_count": 23,
   "metadata": {
    "colab": {},
    "colab_type": "code",
    "id": "B4l0kSA4cNxt",
    "outputId": "5b6fb83c-822b-4579-8e74-2516ad81e410"
   },
   "outputs": [
    {
     "data": {
      "image/png": "[encoded data removed]",
      "text/plain": [
       "<Figure size 1080x720 with 1 Axes>"
      ]
     },
     "metadata": {
      "needs_background": "light"
     },
     "output_type": "display_data"
    }
   ],
   "source": [
    "# use KMeans Clustering for Recency Clustering\n",
    "from sklearn.cluster import KMeans\n",
    "# find out how many clusters are optimal\n",
    "y=df_recency[[\"Recency\"]] # label what we are clustering\n",
    "dic={} # store the clustering values in a dictionary\n",
    "for k in range(1,10):\n",
    "    kmeans=KMeans(n_clusters=k, max_iter=1000).fit(y)\n",
    "    y[\"clusters\"]=kmeans.labels_\n",
    "    dic[k]=kmeans.inertia_\n",
    "plt.figure(figsize=(15,10))\n",
    "plt.plot(list(dic.keys()), list(dic.values()))\n",
    "plt.show()"
   ]
  },
  {
   "cell_type": "code",
   "execution_count": 24,
   "metadata": {
    "colab": {},
    "colab_type": "code",
    "id": "i-RIwDcWcNxy",
    "outputId": "20f91189-ed31-4ff0-ab48-56aaa540b4ca"
   },
   "outputs": [
    {
     "data": {
      "text/html": [
       "<div>\n",
       "<style scoped>\n",
       "    .dataframe tbody tr th:only-of-type {\n",
       "        vertical-align: middle;\n",
       "    }\n",
       "\n",
       "    .dataframe tbody tr th {\n",
       "        vertical-align: top;\n",
       "    }\n",
       "\n",
       "    .dataframe thead th {\n",
       "        text-align: right;\n",
       "    }\n",
       "</style>\n",
       "<table border=\"1\" class=\"dataframe\">\n",
       "  <thead>\n",
       "    <tr style=\"text-align: right;\">\n",
       "      <th></th>\n",
       "      <th>CustomerID</th>\n",
       "      <th>Recency</th>\n",
       "      <th>RecencyCluster</th>\n",
       "    </tr>\n",
       "  </thead>\n",
       "  <tbody>\n",
       "    <tr>\n",
       "      <th>0</th>\n",
       "      <td>17850.0</td>\n",
       "      <td>302</td>\n",
       "      <td>0</td>\n",
       "    </tr>\n",
       "    <tr>\n",
       "      <th>1</th>\n",
       "      <td>13047.0</td>\n",
       "      <td>31</td>\n",
       "      <td>2</td>\n",
       "    </tr>\n",
       "    <tr>\n",
       "      <th>2</th>\n",
       "      <td>12583.0</td>\n",
       "      <td>2</td>\n",
       "      <td>2</td>\n",
       "    </tr>\n",
       "    <tr>\n",
       "      <th>3</th>\n",
       "      <td>13748.0</td>\n",
       "      <td>95</td>\n",
       "      <td>1</td>\n",
       "    </tr>\n",
       "    <tr>\n",
       "      <th>4</th>\n",
       "      <td>15100.0</td>\n",
       "      <td>330</td>\n",
       "      <td>0</td>\n",
       "    </tr>\n",
       "  </tbody>\n",
       "</table>\n",
       "</div>"
      ],
      "text/plain": [
       "   CustomerID  Recency  RecencyCluster\n",
       "0     17850.0      302               0\n",
       "1     13047.0       31               2\n",
       "2     12583.0        2               2\n",
       "3     13748.0       95               1\n",
       "4     15100.0      330               0"
      ]
     },
     "execution_count": 24,
     "metadata": {},
     "output_type": "execute_result"
    }
   ],
   "source": [
    "# Cluster Customer based on Recency\n",
    "kmodel_recency=KMeans(n_clusters=4)\n",
    "kmodel_recency.fit(y)\n",
    "kpredict_recency=kmodel_recency.predict(y)\n",
    "kpredict_recency[0:5]\n",
    "df_recency[\"RecencyCluster\"]=kpredict_recency\n",
    "df_recency.head()"
   ]
  },
  {
   "cell_type": "code",
   "execution_count": 25,
   "metadata": {
    "colab": {},
    "colab_type": "code",
    "id": "Wd7dQoN-cNx1",
    "outputId": "2143398b-d1b6-42a3-d8de-01833a9de773"
   },
   "outputs": [
    {
     "data": {
      "text/html": [
       "<div>\n",
       "<style scoped>\n",
       "    .dataframe tbody tr th:only-of-type {\n",
       "        vertical-align: middle;\n",
       "    }\n",
       "\n",
       "    .dataframe tbody tr th {\n",
       "        vertical-align: top;\n",
       "    }\n",
       "\n",
       "    .dataframe thead th {\n",
       "        text-align: right;\n",
       "    }\n",
       "</style>\n",
       "<table border=\"1\" class=\"dataframe\">\n",
       "  <thead>\n",
       "    <tr style=\"text-align: right;\">\n",
       "      <th></th>\n",
       "      <th>count</th>\n",
       "      <th>mean</th>\n",
       "      <th>std</th>\n",
       "      <th>min</th>\n",
       "      <th>25%</th>\n",
       "      <th>50%</th>\n",
       "      <th>75%</th>\n",
       "      <th>max</th>\n",
       "    </tr>\n",
       "    <tr>\n",
       "      <th>RecencyCluster</th>\n",
       "      <th></th>\n",
       "      <th></th>\n",
       "      <th></th>\n",
       "      <th></th>\n",
       "      <th></th>\n",
       "      <th></th>\n",
       "      <th></th>\n",
       "      <th></th>\n",
       "    </tr>\n",
       "  </thead>\n",
       "  <tbody>\n",
       "    <tr>\n",
       "      <th>0</th>\n",
       "      <td>506.0</td>\n",
       "      <td>309.381423</td>\n",
       "      <td>39.175649</td>\n",
       "      <td>250.0</td>\n",
       "      <td>275.0</td>\n",
       "      <td>306.0</td>\n",
       "      <td>351.0</td>\n",
       "      <td>373.0</td>\n",
       "    </tr>\n",
       "    <tr>\n",
       "      <th>1</th>\n",
       "      <td>1080.0</td>\n",
       "      <td>79.451852</td>\n",
       "      <td>23.864879</td>\n",
       "      <td>49.0</td>\n",
       "      <td>60.0</td>\n",
       "      <td>73.0</td>\n",
       "      <td>95.0</td>\n",
       "      <td>134.0</td>\n",
       "    </tr>\n",
       "    <tr>\n",
       "      <th>2</th>\n",
       "      <td>2158.0</td>\n",
       "      <td>17.908248</td>\n",
       "      <td>13.208956</td>\n",
       "      <td>0.0</td>\n",
       "      <td>7.0</td>\n",
       "      <td>16.0</td>\n",
       "      <td>29.0</td>\n",
       "      <td>47.0</td>\n",
       "    </tr>\n",
       "    <tr>\n",
       "      <th>3</th>\n",
       "      <td>629.0</td>\n",
       "      <td>189.812401</td>\n",
       "      <td>33.042818</td>\n",
       "      <td>135.0</td>\n",
       "      <td>161.0</td>\n",
       "      <td>187.0</td>\n",
       "      <td>217.0</td>\n",
       "      <td>249.0</td>\n",
       "    </tr>\n",
       "  </tbody>\n",
       "</table>\n",
       "</div>"
      ],
      "text/plain": [
       "                 count        mean        std    min    25%    50%    75%  \\\n",
       "RecencyCluster                                                              \n",
       "0                506.0  309.381423  39.175649  250.0  275.0  306.0  351.0   \n",
       "1               1080.0   79.451852  23.864879   49.0   60.0   73.0   95.0   \n",
       "2               2158.0   17.908248  13.208956    0.0    7.0   16.0   29.0   \n",
       "3                629.0  189.812401  33.042818  135.0  161.0  187.0  217.0   \n",
       "\n",
       "                  max  \n",
       "RecencyCluster         \n",
       "0               373.0  \n",
       "1               134.0  \n",
       "2                47.0  \n",
       "3               249.0  "
      ]
     },
     "execution_count": 25,
     "metadata": {},
     "output_type": "execute_result"
    }
   ],
   "source": [
    "# get statistical analysis for each cluster\n",
    "df_recency.groupby([\"RecencyCluster\"])[\"Recency\"].describe()"
   ]
  },
  {
   "cell_type": "markdown",
   "metadata": {
    "colab_type": "text",
    "id": "Cm48JoXLcNx4"
   },
   "source": []
  },
  {
   "cell_type": "markdown",
   "metadata": {
    "colab_type": "text",
    "id": "x23DpW1-cNx5"
   },
   "source": [
    "# frequency of orders"
   ]
  },
  {
   "cell_type": "code",
   "execution_count": 26,
   "metadata": {
    "colab": {},
    "colab_type": "code",
    "id": "gEaDkboycNx5",
    "outputId": "27b3d12b-aad0-4b4b-b588-056088228c21"
   },
   "outputs": [
    {
     "data": {
      "text/html": [
       "<div>\n",
       "<style scoped>\n",
       "    .dataframe tbody tr th:only-of-type {\n",
       "        vertical-align: middle;\n",
       "    }\n",
       "\n",
       "    .dataframe tbody tr th {\n",
       "        vertical-align: top;\n",
       "    }\n",
       "\n",
       "    .dataframe thead th {\n",
       "        text-align: right;\n",
       "    }\n",
       "</style>\n",
       "<table border=\"1\" class=\"dataframe\">\n",
       "  <thead>\n",
       "    <tr style=\"text-align: right;\">\n",
       "      <th></th>\n",
       "      <th>CustomerID</th>\n",
       "      <th>Frequency</th>\n",
       "    </tr>\n",
       "  </thead>\n",
       "  <tbody>\n",
       "    <tr>\n",
       "      <th>0</th>\n",
       "      <td>17850.0</td>\n",
       "      <td>312</td>\n",
       "    </tr>\n",
       "    <tr>\n",
       "      <th>1</th>\n",
       "      <td>13047.0</td>\n",
       "      <td>196</td>\n",
       "    </tr>\n",
       "    <tr>\n",
       "      <th>2</th>\n",
       "      <td>12583.0</td>\n",
       "      <td>251</td>\n",
       "    </tr>\n",
       "    <tr>\n",
       "      <th>3</th>\n",
       "      <td>13748.0</td>\n",
       "      <td>28</td>\n",
       "    </tr>\n",
       "    <tr>\n",
       "      <th>4</th>\n",
       "      <td>15100.0</td>\n",
       "      <td>6</td>\n",
       "    </tr>\n",
       "  </tbody>\n",
       "</table>\n",
       "</div>"
      ],
      "text/plain": [
       "   CustomerID  Frequency\n",
       "0     17850.0        312\n",
       "1     13047.0        196\n",
       "2     12583.0        251\n",
       "3     13748.0         28\n",
       "4     15100.0          6"
      ]
     },
     "execution_count": 26,
     "metadata": {},
     "output_type": "execute_result"
    }
   ],
   "source": [
    "# frequency of orders\n",
    "df_frequency=df.groupby([\"CustomerID\"])[\"InvoiceDate\"].count().reset_index()\n",
    "df_frequency.columns=[\"CustomerID\", \"Frequency\"]\n",
    "df_frequency=pd.merge(df_user, df_frequency, on=\"CustomerID\")\n",
    "df_frequency.head()"
   ]
  },
  {
   "cell_type": "code",
   "execution_count": 27,
   "metadata": {
    "colab": {},
    "colab_type": "code",
    "id": "6n3gveP9cNx9",
    "outputId": "2abfd95e-3f4c-4673-abe2-79cab44bf7e6"
   },
   "outputs": [
    {
     "data": {
      "text/plain": [
       "Text(0, 0.5, 'Count')"
      ]
     },
     "execution_count": 27,
     "metadata": {},
     "output_type": "execute_result"
    },
    {
     "data": {
      "image/png": "[encoded data removed]",
      "text/plain": [
       "<Figure size 1080x720 with 1 Axes>"
      ]
     },
     "metadata": {
      "needs_background": "light"
     },
     "output_type": "display_data"
    }
   ],
   "source": [
    "# Review of Frequency Distribution\n",
    "plt.figure(figsize=(7,5))\n",
    "sns.distplot(df_frequency.query(\"Frequency<1000\")[\"Frequency\"])\n",
    "plt.title(\"Frequency Distribution\")\n",
    "plt.xlabel(\"Frequency\")\n",
    "plt.ylabel(\"Count\")"
   ]
  },
  {
   "cell_type": "code",
   "execution_count": 28,
   "metadata": {
    "colab": {},
    "colab_type": "code",
    "id": "3IO6kcN0cNyD",
    "outputId": "fa20bee4-079b-4b9c-ebe4-7d616f0c2a94"
   },
   "outputs": [
    {
     "data": {
      "text/html": [
       "<div>\n",
       "<style scoped>\n",
       "    .dataframe tbody tr th:only-of-type {\n",
       "        vertical-align: middle;\n",
       "    }\n",
       "\n",
       "    .dataframe tbody tr th {\n",
       "        vertical-align: top;\n",
       "    }\n",
       "\n",
       "    .dataframe thead th {\n",
       "        text-align: right;\n",
       "    }\n",
       "</style>\n",
       "<table border=\"1\" class=\"dataframe\">\n",
       "  <thead>\n",
       "    <tr style=\"text-align: right;\">\n",
       "      <th></th>\n",
       "      <th>count</th>\n",
       "      <th>mean</th>\n",
       "      <th>std</th>\n",
       "      <th>min</th>\n",
       "      <th>25%</th>\n",
       "      <th>50%</th>\n",
       "      <th>75%</th>\n",
       "      <th>max</th>\n",
       "    </tr>\n",
       "    <tr>\n",
       "      <th>FrequencyCluster</th>\n",
       "      <th></th>\n",
       "      <th></th>\n",
       "      <th></th>\n",
       "      <th></th>\n",
       "      <th></th>\n",
       "      <th></th>\n",
       "      <th></th>\n",
       "      <th></th>\n",
       "    </tr>\n",
       "  </thead>\n",
       "  <tbody>\n",
       "    <tr>\n",
       "      <th>0</th>\n",
       "      <td>4052.0</td>\n",
       "      <td>57.741362</td>\n",
       "      <td>56.828243</td>\n",
       "      <td>1.0</td>\n",
       "      <td>16.0</td>\n",
       "      <td>36.0</td>\n",
       "      <td>83.25</td>\n",
       "      <td>260.0</td>\n",
       "    </tr>\n",
       "    <tr>\n",
       "      <th>1</th>\n",
       "      <td>1.0</td>\n",
       "      <td>135080.000000</td>\n",
       "      <td>NaN</td>\n",
       "      <td>135080.0</td>\n",
       "      <td>135080.0</td>\n",
       "      <td>135080.0</td>\n",
       "      <td>135080.00</td>\n",
       "      <td>135080.0</td>\n",
       "    </tr>\n",
       "    <tr>\n",
       "      <th>2</th>\n",
       "      <td>4.0</td>\n",
       "      <td>5914.000000</td>\n",
       "      <td>1473.845537</td>\n",
       "      <td>4642.0</td>\n",
       "      <td>5006.5</td>\n",
       "      <td>5515.5</td>\n",
       "      <td>6423.00</td>\n",
       "      <td>7983.0</td>\n",
       "    </tr>\n",
       "    <tr>\n",
       "      <th>3</th>\n",
       "      <td>316.0</td>\n",
       "      <td>472.167722</td>\n",
       "      <td>311.773127</td>\n",
       "      <td>261.0</td>\n",
       "      <td>306.0</td>\n",
       "      <td>374.5</td>\n",
       "      <td>502.25</td>\n",
       "      <td>2782.0</td>\n",
       "    </tr>\n",
       "  </tbody>\n",
       "</table>\n",
       "</div>"
      ],
      "text/plain": [
       "                   count           mean          std       min       25%  \\\n",
       "FrequencyCluster                                                           \n",
       "0                 4052.0      57.741362    56.828243       1.0      16.0   \n",
       "1                    1.0  135080.000000          NaN  135080.0  135080.0   \n",
       "2                    4.0    5914.000000  1473.845537    4642.0    5006.5   \n",
       "3                  316.0     472.167722   311.773127     261.0     306.0   \n",
       "\n",
       "                       50%        75%       max  \n",
       "FrequencyCluster                                 \n",
       "0                     36.0      83.25     260.0  \n",
       "1                 135080.0  135080.00  135080.0  \n",
       "2                   5515.5    6423.00    7983.0  \n",
       "3                    374.5     502.25    2782.0  "
      ]
     },
     "execution_count": 28,
     "metadata": {},
     "output_type": "execute_result"
    }
   ],
   "source": [
    "# Customer Segmentation based on Frequency\n",
    "x=df_frequency[[\"Frequency\"]]\n",
    "k_model_frequency=KMeans(n_clusters=4)\n",
    "k_model_frequency.fit(x)\n",
    "k_model_frequency_predict=k_model_frequency.predict(x)\n",
    "df_frequency[\"FrequencyCluster\"]=k_model_frequency_predict\n",
    "df_frequency.head()\n",
    "# Statistical Analysis of clusters based on frequency\n",
    "df_frequency.groupby([\"FrequencyCluster\"])[\"Frequency\"].describe()"
   ]
  },
  {
   "cell_type": "markdown",
   "metadata": {
    "colab_type": "text",
    "id": "IjafWKXAcNyI"
   },
   "source": []
  },
  {
   "cell_type": "markdown",
   "metadata": {
    "colab_type": "text",
    "id": "4t4gYJs4cNyJ"
   },
   "source": [
    "# Finally, we can segment our customers based on their monetary value.\n"
   ]
  },
  {
   "cell_type": "code",
   "execution_count": 29,
   "metadata": {
    "colab": {},
    "colab_type": "code",
    "id": "3COmXYJIcNyJ",
    "outputId": "b3b630c6-a5b7-4670-9be6-a141a24c8cdf"
   },
   "outputs": [
    {
     "data": {
      "text/plain": [
       "<matplotlib.axes._subplots.AxesSubplot at 0x1cb16fe3b48>"
      ]
     },
     "execution_count": 29,
     "metadata": {},
     "output_type": "execute_result"
    },
    {
     "data": {
      "image/png": "[encoded data removed]",
      "text/plain": [
       "<Figure size 1080x720 with 1 Axes>"
      ]
     },
     "metadata": {
      "needs_background": "light"
     },
     "output_type": "display_data"
    }
   ],
   "source": [
    "df_customer_revenue=df.groupby([\"CustomerID\"])[\"Revenue\"].sum().reset_index()\n",
    "df_customer_revenue=pd.merge(df_user, df_customer_revenue, on=\"CustomerID\")\n",
    "df_customer_revenue.head()\n",
    "# Revenue Distribution\n",
    "plt.figure(figsize=(15,10))\n",
    "sns.distplot(df_customer_revenue.query(\"Revenue < 10000\")[\"Revenue\"])"
   ]
  },
  {
   "cell_type": "code",
   "execution_count": null,
   "metadata": {
    "colab": {},
    "colab_type": "code",
    "id": "qUpyCuTAcNyN",
    "outputId": "7ba73581-5d50-46f4-96bf-e35ea943299d"
   },
   "outputs": [],
   "source": []
  },
  {
   "cell_type": "code",
   "execution_count": 30,
   "metadata": {
    "colab": {},
    "colab_type": "code",
    "id": "6S9jrlSScNyR",
    "outputId": "f5344630-6c9f-4b75-9e50-e33a7f562079"
   },
   "outputs": [
    {
     "data": {
      "text/html": [
       "<div>\n",
       "<style scoped>\n",
       "    .dataframe tbody tr th:only-of-type {\n",
       "        vertical-align: middle;\n",
       "    }\n",
       "\n",
       "    .dataframe tbody tr th {\n",
       "        vertical-align: top;\n",
       "    }\n",
       "\n",
       "    .dataframe thead th {\n",
       "        text-align: right;\n",
       "    }\n",
       "</style>\n",
       "<table border=\"1\" class=\"dataframe\">\n",
       "  <thead>\n",
       "    <tr style=\"text-align: right;\">\n",
       "      <th></th>\n",
       "      <th>count</th>\n",
       "      <th>mean</th>\n",
       "      <th>std</th>\n",
       "      <th>min</th>\n",
       "      <th>25%</th>\n",
       "      <th>50%</th>\n",
       "      <th>75%</th>\n",
       "      <th>max</th>\n",
       "    </tr>\n",
       "    <tr>\n",
       "      <th>RevenueCluster</th>\n",
       "      <th></th>\n",
       "      <th></th>\n",
       "      <th></th>\n",
       "      <th></th>\n",
       "      <th></th>\n",
       "      <th></th>\n",
       "      <th></th>\n",
       "      <th></th>\n",
       "    </tr>\n",
       "  </thead>\n",
       "  <tbody>\n",
       "    <tr>\n",
       "      <th>0</th>\n",
       "      <td>4347.0</td>\n",
       "      <td>1.440839e+03</td>\n",
       "      <td>2473.463137</td>\n",
       "      <td>-4287.63</td>\n",
       "      <td>291.94</td>\n",
       "      <td>642.81</td>\n",
       "      <td>1574.285</td>\n",
       "      <td>30300.82</td>\n",
       "    </tr>\n",
       "    <tr>\n",
       "      <th>1</th>\n",
       "      <td>1.0</td>\n",
       "      <td>1.447682e+06</td>\n",
       "      <td>NaN</td>\n",
       "      <td>1447682.12</td>\n",
       "      <td>1447682.12</td>\n",
       "      <td>1447682.12</td>\n",
       "      <td>1447682.120</td>\n",
       "      <td>1447682.12</td>\n",
       "    </tr>\n",
       "    <tr>\n",
       "      <th>2</th>\n",
       "      <td>3.0</td>\n",
       "      <td>2.411366e+05</td>\n",
       "      <td>47874.073443</td>\n",
       "      <td>187482.17</td>\n",
       "      <td>221960.33</td>\n",
       "      <td>256438.49</td>\n",
       "      <td>267963.755</td>\n",
       "      <td>279489.02</td>\n",
       "    </tr>\n",
       "    <tr>\n",
       "      <th>3</th>\n",
       "      <td>22.0</td>\n",
       "      <td>5.969684e+04</td>\n",
       "      <td>29287.039236</td>\n",
       "      <td>31300.08</td>\n",
       "      <td>37348.76</td>\n",
       "      <td>52287.28</td>\n",
       "      <td>61844.660</td>\n",
       "      <td>132572.62</td>\n",
       "    </tr>\n",
       "  </tbody>\n",
       "</table>\n",
       "</div>"
      ],
      "text/plain": [
       "                 count          mean           std         min         25%  \\\n",
       "RevenueCluster                                                               \n",
       "0               4347.0  1.440839e+03   2473.463137    -4287.63      291.94   \n",
       "1                  1.0  1.447682e+06           NaN  1447682.12  1447682.12   \n",
       "2                  3.0  2.411366e+05  47874.073443   187482.17   221960.33   \n",
       "3                 22.0  5.969684e+04  29287.039236    31300.08    37348.76   \n",
       "\n",
       "                       50%          75%         max  \n",
       "RevenueCluster                                       \n",
       "0                   642.81     1574.285    30300.82  \n",
       "1               1447682.12  1447682.120  1447682.12  \n",
       "2                256438.49   267963.755   279489.02  \n",
       "3                 52287.28    61844.660   132572.62  "
      ]
     },
     "execution_count": 30,
     "metadata": {},
     "output_type": "execute_result"
    }
   ],
   "source": [
    "# Segmenting Customers Based on their Monetary Value\n",
    "a=df_customer_revenue[[\"Revenue\"]]\n",
    "k_model_revenue=KMeans(n_clusters=4)\n",
    "k_model_revenue.fit(a)\n",
    "k_model_revenue_pred=k_model_revenue.predict(a)\n",
    "df_customer_revenue[\"RevenueCluster\"]=k_model_revenue_pred\n",
    "df_customer_revenue.groupby([\"RevenueCluster\"])[\"Revenue\"].describe()"
   ]
  },
  {
   "cell_type": "code",
   "execution_count": null,
   "metadata": {
    "colab": {},
    "colab_type": "code",
    "id": "4lu_NseMcNyU"
   },
   "outputs": [],
   "source": []
  },
  {
   "cell_type": "code",
   "execution_count": null,
   "metadata": {},
   "outputs": [],
   "source": []
  },
  {
   "cell_type": "code",
   "execution_count": null,
   "metadata": {},
   "outputs": [],
   "source": []
  },
  {
   "cell_type": "code",
   "execution_count": null,
   "metadata": {},
   "outputs": [],
   "source": []
  }
 ],
 "metadata": {
  "colab": {
   "name": "Retail Customer Analysis.ipynb",
   "provenance": []
  },
  "kernelspec": {
   "display_name": "Python 3",
   "language": "python",
   "name": "python3"
  },
  "language_info": {
   "codemirror_mode": {
    "name": "ipython",
    "version": 3
   },
   "file_extension": ".py",
   "mimetype": "text/x-python",
   "name": "python",
   "nbconvert_exporter": "python",
   "pygments_lexer": "ipython3",
   "version": "3.7.6"
  }
 },
 "nbformat": 4,
 "nbformat_minor": 1
}
