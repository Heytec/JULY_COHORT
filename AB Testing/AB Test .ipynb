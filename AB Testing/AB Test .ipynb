{
 "cells": [
  {
   "cell_type": "markdown",
   "metadata": {},
   "source": [
    "#### What is A/B\n",
    "* A/B testing (also known as bucket testing or split-run testing) is a user experience research methodology.\n",
    "\n",
    "* A/B testing is a way to compare two versions of a single variable, typically by testing a subject's response to variant A against variant B, and determining which of the two variants is more effective\n",
    "\n",
    "* A process of showing two variants of the same web page to different segments of website visitors at the same time and comparing which variant drives more conversions.\n",
    "\n",
    "\n",
    "\n",
    "Reading material : https://vwo.com/ab-testing/#what-is-a-b-testing"
   ]
  },
  {
   "cell_type": "markdown",
   "metadata": {},
   "source": [
    "#### A/B tests are common when trying to measure the impact of a \n",
    "* new website, \n",
    "* new features\n",
    "* new advertising campaigns before they are actually released to a larger audience\n"
   ]
  },
  {
   "cell_type": "markdown",
   "metadata": {},
   "source": [
    "#### How do you Perform an A/B Test?\n",
    "* Tests are designed to be performed on 2 (or more) groups. Considering the 2 groups case (A and B), one is called the control group, and the other the experimental group. Ideally, the only difference between these two groups is the change that we want to test.\n",
    "\n",
    "* In that context, the A/B test could answer whether or not the promotional event would have achieved the desired statistical significance to be effectively put into practice. Once the level of significance is reached, it’s time to optimize to the target audience."
   ]
  },
  {
   "cell_type": "markdown",
   "metadata": {},
   "source": [
    "# Starbucks Promotion Optimization"
   ]
  },
  {
   "cell_type": "markdown",
   "metadata": {},
   "source": [
    "#### About the Data \n",
    "* We are using a Starbucks’ dataset that was used in a technical test to be performed by job applicants at the company\n",
    "https://drive.google.com/file/d/18klca9Sef1Rs6q8DW4l7o349r8B70qXM/view\n",
    "* The dataset is already divided into train and test sets\n",
    "* contains a few features indicating whether the client was assigned to the control or the experimental group\n",
    "* whether or not the client purchased the item\n",
    "* more features (V1 to V7) representing characteristics of the clients."
   ]
  },
  {
   "cell_type": "markdown",
   "metadata": {},
   "source": [
    "#### Problem\n",
    "* We are not told what these characteristics actually represent, and it’s our job to understand their behavior to effectively identify which clients are more likely to respond to the promotion.\n",
    "* Given that the product is priced at USD 10, and it costs the company 0.15 usd to send out each promotion, Starbucks wanted the best strategy to \n",
    "maximize two metrics:\n",
    "\n",
    "* 1 Incremental Response Rate (IRR) and \n",
    "* 2 Net Incremental Revenue (NIR)."
   ]
  },
  {
   "cell_type": "markdown",
   "metadata": {},
   "source": [
    "* IRR \n",
    "Represents how many more customers purchased the product with the promotion, in comparison to if they didn’t receive the promotion\n",
    "\n",
    "* NRR \n",
    "Represents how much is made or lost by sending the promotion."
   ]
  },
  {
   "cell_type": "code",
   "execution_count": null,
   "metadata": {},
   "outputs": [],
   "source": [
    " # RECOMENDED \n",
    "IRR of 0.0188 and a NIR of 189.45. "
   ]
  }
 ],
 "metadata": {
  "kernelspec": {
   "display_name": "Python 3",
   "language": "python",
   "name": "python3"
  },
  "language_info": {
   "codemirror_mode": {
    "name": "ipython",
    "version": 3
   },
   "file_extension": ".py",
   "mimetype": "text/x-python",
   "name": "python",
   "nbconvert_exporter": "python",
   "pygments_lexer": "ipython3",
   "version": "3.7.6"
  }
 },
 "nbformat": 4,
 "nbformat_minor": 4
}
