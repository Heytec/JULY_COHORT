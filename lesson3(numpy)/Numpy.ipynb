{
 "cells": [
  {
   "cell_type": "markdown",
   "metadata": {},
   "source": [
    "# What  is numpy ?"
   ]
  },
  {
   "cell_type": "markdown",
   "metadata": {},
   "source": [
    "*  The library’s name is actually short for \"Numeric Python\" or \"Numerical Python\".\n",
    "* NumPy is an open source library available in Python that aids in mathematical, scientific, engineering, and data science programming.\n",
    "* It works perfectly well for multi-dimensional arrays and matrices multiplication\n",
    "* NumPy is memory efficiency, meaning it can handle the vast amount of data more accessible than any other library\n",
    "* NumPy is fast. In fact, TensorFlow and Scikit learn to use NumPy array to compute the matrix multiplication in the back end.\n",
    "* https://numpy.org/"
   ]
  },
  {
   "cell_type": "markdown",
   "metadata": {},
   "source": [
    "# How to Install NumPy?"
   ]
  },
  {
   "cell_type": "markdown",
   "metadata": {},
   "source": [
    "### pycharm etc \n",
    "* pip install numpy \n",
    "\n",
    "### Anaconda \n",
    "* conda install -c anaconda numpy"
   ]
  },
  {
   "cell_type": "markdown",
   "metadata": {},
   "source": [
    "# Import NumPy and Check Version"
   ]
  },
  {
   "cell_type": "code",
   "execution_count": 1,
   "metadata": {},
   "outputs": [],
   "source": [
    "#command to import numpy\n",
    "import numpy as np"
   ]
  },
  {
   "cell_type": "code",
   "execution_count": 2,
   "metadata": {},
   "outputs": [
    {
     "name": "stdout",
     "output_type": "stream",
     "text": [
      "1.19.1\n"
     ]
    }
   ],
   "source": [
    "#check your installed version of Numpy\n",
    "print (np.__version__)"
   ]
  },
  {
   "cell_type": "markdown",
   "metadata": {},
   "source": [
    "# What is Python Numpy Array?"
   ]
  },
  {
   "cell_type": "markdown",
   "metadata": {},
   "source": [
    " * NumPy array is a central data structure of the numpy library\n",
    " * NumPy is used to work with arrays. The array object in NumPy is called ndarray.\n",
    " * We can create a NumPy ndarray object by using the array() function.\n",
    " * To create an ndarray, we can pass a list, tuple or any array-like object into the array() method, and it will be converted into an ndarray:"
   ]
  },
  {
   "cell_type": "code",
   "execution_count": 3,
   "metadata": {},
   "outputs": [
    {
     "name": "stdout",
     "output_type": "stream",
     "text": [
      "[1 2 3 4 5]\n",
      "<class 'numpy.ndarray'>\n"
     ]
    }
   ],
   "source": [
    "# creating array by passing a tuple \n",
    "arr = np.array((1, 2, 3, 4, 5))\n",
    "\n",
    "print(arr)\n",
    "\n",
    "print(type(arr))"
   ]
  },
  {
   "cell_type": "code",
   "execution_count": 4,
   "metadata": {},
   "outputs": [
    {
     "name": "stdout",
     "output_type": "stream",
     "text": [
      "[1 2 3 4 5]\n",
      "<class 'numpy.ndarray'>\n"
     ]
    }
   ],
   "source": [
    "numbers= [1,2,3,4,5]\n",
    "# creating array by passing a list \n",
    "arr = np.array(numbers)\n",
    "\n",
    "print(arr)\n",
    "\n",
    "print(type(arr))"
   ]
  },
  {
   "cell_type": "markdown",
   "metadata": {},
   "source": [
<<<<<<< HEAD
=======
    "!['new'](scalar-vector-matrix-tensor.jpg)"
   ]
  },
  {
   "cell_type": "markdown",
   "metadata": {},
   "source": [
>>>>>>> 70209d7bbb11c60607096ae314cfa335ec3d5dde
    "# Scalar"
   ]
  },
  {
   "cell_type": "code",
   "execution_count": 5,
   "metadata": {},
   "outputs": [
    {
     "name": "stdout",
     "output_type": "stream",
     "text": [
      "42\n"
     ]
    }
   ],
   "source": [
    "#0-D arrays, or Scalars,\n",
    "\n",
    "arr = np.array(42)\n",
    "\n",
    "print(arr)"
   ]
  },
  {
   "cell_type": "markdown",
   "metadata": {},
   "source": [
    "# Vector"
   ]
  },
  {
   "cell_type": "code",
   "execution_count": 6,
   "metadata": {},
   "outputs": [
    {
     "name": "stdout",
     "output_type": "stream",
     "text": [
      "[1 2 3 4 5]\n"
     ]
    }
   ],
   "source": [
    "#1-D Arrays  An array that has 0-D arrays as its elements is called uni-dimensional or 1-D array.\n",
    "arr = np.array([1, 2, 3, 4, 5])\n",
    "\n",
    "print(arr)"
   ]
  },
  {
   "cell_type": "markdown",
   "metadata": {},
   "source": [
    "# Matrix"
   ]
  },
  {
   "cell_type": "code",
   "execution_count": 7,
   "metadata": {},
   "outputs": [
    {
     "name": "stdout",
     "output_type": "stream",
     "text": [
      "[[1 2 3]\n",
      " [4 5 6]]\n"
     ]
    }
   ],
   "source": [
    "#An array that has 1-D arrays as its elements is called a 2-D array. These are often used to represent matrix \n",
    "arr = np.array([[1, 2, 3], [4, 5, 6]])\n",
    "\n",
    "print(arr)"
   ]
  },
  {
   "cell_type": "markdown",
   "metadata": {},
   "source": [
    "# Tensor"
   ]
  },
  {
   "cell_type": "code",
   "execution_count": 8,
   "metadata": {},
   "outputs": [
    {
     "name": "stdout",
     "output_type": "stream",
     "text": [
      "[[[1 2 3]\n",
      "  [4 5 6]]\n",
      "\n",
      " [[1 2 3]\n",
      "  [4 5 6]]]\n"
     ]
    }
   ],
   "source": [
    "#3-D arrays. \n",
    "#An array that has 2-D arrays (matrices) as its elements is called 3-D array. \n",
    "#These are often used to represent a 3rd order tensor.\n",
    "arr = np.array([[[1, 2, 3], [4, 5, 6]], [[1, 2, 3], [4, 5, 6]]])\n",
    "\n",
    "print(arr)"
   ]
  },
  {
   "cell_type": "markdown",
   "metadata": {},
   "source": [
    "# functions used to create numpy  array \n",
    "\n",
    "numpy arange - returns an array of values between a set limit while also observing iterations in producing the numbers. Similar to range.\n",
    "\n",
    "np.arange(start, stop, step)\n",
    "1. start - first value count in the array\n",
    "2. stop - value after the last value in array e.g is stop is 6, last value will be 5\n",
    "3. step - the interval between each value. By default its 1"
   ]
  },
  {
   "cell_type": "code",
   "execution_count": 9,
   "metadata": {},
   "outputs": [
    {
     "data": {
      "text/plain": [
       "array([0, 1, 2, 3, 4, 5, 6, 7, 8, 9])"
      ]
     },
     "execution_count": 9,
     "metadata": {},
     "output_type": "execute_result"
    }
   ],
   "source": [
    "#returns an array from 0 to 9\n",
    "np.arange(0, 10)"
   ]
  },
  {
   "cell_type": "code",
   "execution_count": 10,
   "metadata": {},
   "outputs": [
    {
     "data": {
      "text/plain": [
       "array([0, 2, 4, 6, 8])"
      ]
     },
     "execution_count": 10,
     "metadata": {},
     "output_type": "execute_result"
    }
   ],
   "source": [
    "#returns an array with step intervals of 2 values apart\n",
    "\n",
    "np.arange(0, 10, 2)"
   ]
  },
  {
   "cell_type": "markdown",
   "metadata": {},
   "source": [
    "np.zeros and np.ones returns an array of 0's and 1's.\n",
    "\n",
    "Recall the matrix structure m x n where m is the row and n the columns.\n",
    "\n",
    "np.zeros and np.ones takes m x n to return an array of the shape m by n.\n",
    "\n",
    "If m it not defined , it is taken to be 1 by default"
   ]
  },
  {
   "cell_type": "code",
   "execution_count": 11,
   "metadata": {},
   "outputs": [
    {
     "data": {
      "text/plain": [
       "array([[0., 0.],\n",
       "       [0., 0.],\n",
       "       [0., 0.]])"
      ]
     },
     "execution_count": 11,
     "metadata": {},
     "output_type": "execute_result"
    }
   ],
   "source": [
    "# m = 3, n = 2 returns a 3 by 2 matrix of 0's\n",
    "np.zeros(shape = (3, 2))"
   ]
  },
  {
   "cell_type": "code",
   "execution_count": 12,
   "metadata": {},
   "outputs": [
    {
     "data": {
      "text/plain": [
       "array([[1., 1., 1., 1., 1., 1., 1.],\n",
       "       [1., 1., 1., 1., 1., 1., 1.],\n",
       "       [1., 1., 1., 1., 1., 1., 1.],\n",
       "       [1., 1., 1., 1., 1., 1., 1.],\n",
       "       [1., 1., 1., 1., 1., 1., 1.]])"
      ]
     },
     "execution_count": 12,
     "metadata": {},
     "output_type": "execute_result"
    }
   ],
   "source": [
    "np.ones((5,7))"
   ]
  },
  {
   "cell_type": "markdown",
   "metadata": {},
   "source": [
    "numpy linspace - returns an array of values with a defined number of values within the givem set limit. It performs all the calculation to determine the intervals inbetween the figures.\n",
    "\n",
    "np.linspace(start, stop, num)\n",
    "\n",
    "1. start - first value count in the array\n",
    "2. stop - actual last value\n",
    "3. num - number of values to be returned"
   ]
  },
  {
   "cell_type": "code",
   "execution_count": 13,
   "metadata": {},
   "outputs": [
    {
     "data": {
      "text/plain": [
       "array([0., 1., 2., 3., 4., 5., 6., 7., 8., 9.])"
      ]
     },
     "execution_count": 13,
     "metadata": {},
     "output_type": "execute_result"
    }
   ],
   "source": [
    "#returns 10 values from 0 to 9\n",
    "np.linspace(0, 9, 10)"
   ]
  },
  {
   "cell_type": "code",
   "execution_count": 14,
   "metadata": {},
   "outputs": [
    {
     "data": {
      "text/plain": [
       "array([0.        , 0.09090909, 0.18181818, 0.27272727, 0.36363636,\n",
       "       0.45454545, 0.54545455, 0.63636364, 0.72727273, 0.81818182,\n",
       "       0.90909091, 1.        , 1.09090909, 1.18181818, 1.27272727,\n",
       "       1.36363636, 1.45454545, 1.54545455, 1.63636364, 1.72727273,\n",
       "       1.81818182, 1.90909091, 2.        , 2.09090909, 2.18181818,\n",
       "       2.27272727, 2.36363636, 2.45454545, 2.54545455, 2.63636364,\n",
       "       2.72727273, 2.81818182, 2.90909091, 3.        , 3.09090909,\n",
       "       3.18181818, 3.27272727, 3.36363636, 3.45454545, 3.54545455,\n",
       "       3.63636364, 3.72727273, 3.81818182, 3.90909091, 4.        ,\n",
       "       4.09090909, 4.18181818, 4.27272727, 4.36363636, 4.45454545,\n",
       "       4.54545455, 4.63636364, 4.72727273, 4.81818182, 4.90909091,\n",
       "       5.        , 5.09090909, 5.18181818, 5.27272727, 5.36363636,\n",
       "       5.45454545, 5.54545455, 5.63636364, 5.72727273, 5.81818182,\n",
       "       5.90909091, 6.        , 6.09090909, 6.18181818, 6.27272727,\n",
       "       6.36363636, 6.45454545, 6.54545455, 6.63636364, 6.72727273,\n",
       "       6.81818182, 6.90909091, 7.        , 7.09090909, 7.18181818,\n",
       "       7.27272727, 7.36363636, 7.45454545, 7.54545455, 7.63636364,\n",
       "       7.72727273, 7.81818182, 7.90909091, 8.        , 8.09090909,\n",
       "       8.18181818, 8.27272727, 8.36363636, 8.45454545, 8.54545455,\n",
       "       8.63636364, 8.72727273, 8.81818182, 8.90909091, 9.        ])"
      ]
     },
     "execution_count": 14,
     "metadata": {},
     "output_type": "execute_result"
    }
   ],
   "source": [
    "#returns 100 values from 0 to 9\n",
    "np.linspace(0, 9, 100)"
   ]
  },
  {
   "cell_type": "code",
   "execution_count": 15,
   "metadata": {},
   "outputs": [
    {
     "data": {
      "text/plain": [
       "array([[1., 0., 0., 0., 0., 0.],\n",
       "       [0., 1., 0., 0., 0., 0.],\n",
       "       [0., 0., 1., 0., 0., 0.],\n",
       "       [0., 0., 0., 1., 0., 0.],\n",
       "       [0., 0., 0., 0., 1., 0.],\n",
       "       [0., 0., 0., 0., 0., 1.]])"
      ]
     },
     "execution_count": 15,
     "metadata": {},
     "output_type": "execute_result"
    }
   ],
   "source": [
    "#identity matrix\n",
    "np.eye(6)  "
   ]
  },
  {
   "cell_type": "code",
   "execution_count": 16,
   "metadata": {},
   "outputs": [
    {
     "data": {
      "text/plain": [
       "array([0.19602053, 0.32445126, 0.70269719, 0.95568592, 0.76721425])"
      ]
     },
     "execution_count": 16,
     "metadata": {},
     "output_type": "execute_result"
    }
   ],
   "source": [
    "#generates an array of random values in a 1 by 5 shape\n",
    "np.random.rand(5)"
   ]
  },
  {
   "cell_type": "markdown",
   "metadata": {},
   "source": [
    "In any randomized operation, when seed is defined, a similar array fo random numbers is generated"
   ]
  },
  {
   "cell_type": "code",
   "execution_count": 17,
   "metadata": {},
   "outputs": [],
   "source": [
    "#setting random seed to 101\n",
    "np.random.seed(5)"
   ]
  },
  {
   "cell_type": "code",
   "execution_count": 18,
   "metadata": {},
   "outputs": [
    {
     "data": {
      "text/plain": [
       "array([[ 0.44122749, -0.33087015,  2.43077119, -0.25209213],\n",
       "       [ 0.10960984,  1.58248112, -0.9092324 , -0.59163666],\n",
       "       [ 0.18760323, -0.32986996, -1.19276461, -0.20487651],\n",
       "       [-0.35882895,  0.6034716 , -1.66478853, -0.70017904],\n",
       "       [ 1.15139101,  1.85733101, -1.51117956,  0.64484751]])"
      ]
     },
     "execution_count": 18,
     "metadata": {},
     "output_type": "execute_result"
    }
   ],
   "source": [
    "#generating a 5 by 4 array of random values\n",
    "#rerun np.random.seed(101) and then run this again to see if the outputs in both instances are similar\n",
    "np.random.randn(5,4)"
   ]
  },
  {
   "cell_type": "code",
   "execution_count": 19,
   "metadata": {},
   "outputs": [
    {
     "data": {
      "text/plain": [
       "array([[0.28468588, 0.25358821, 0.32756395, 0.1441643 ],\n",
       "       [0.16561286, 0.96393053, 0.96022672, 0.18841466],\n",
       "       [0.02430656, 0.20455555, 0.69984361, 0.77951459],\n",
       "       [0.02293309, 0.57766286, 0.00164217, 0.51547261],\n",
       "       [0.63979518, 0.9856244 , 0.2590976 , 0.80249689]])"
      ]
     },
     "execution_count": 19,
     "metadata": {},
     "output_type": "execute_result"
    }
   ],
   "source": [
    "#generates an array of random values in a 5 by 5 shape\n",
    "np.random.rand(5,4)"
   ]
  },
  {
   "cell_type": "code",
   "execution_count": 20,
   "metadata": {},
   "outputs": [
    {
     "data": {
      "text/plain": [
       "90"
      ]
     },
     "execution_count": 20,
     "metadata": {},
     "output_type": "execute_result"
    }
   ],
   "source": [
    "#generates 2 integer values between 1 and 99\n",
    "np.random.randint(1, 100)"
   ]
  },
  {
   "cell_type": "markdown",
   "metadata": {},
   "source": [
    "# Data Modelling"
   ]
  },
  {
   "cell_type": "code",
   "execution_count": 21,
   "metadata": {},
   "outputs": [],
   "source": [
    "import pandas as pd"
   ]
  },
  {
   "cell_type": "code",
   "execution_count": 22,
   "metadata": {},
   "outputs": [
    {
     "data": {
      "text/plain": [
       "325"
      ]
     },
     "execution_count": 22,
     "metadata": {},
     "output_type": "execute_result"
    }
   ],
   "source": [
    "np.arange(0,26).sum()"
   ]
  },
  {
   "cell_type": "code",
   "execution_count": 23,
   "metadata": {},
   "outputs": [
    {
     "data": {
      "text/plain": [
       "array([ 0,  1,  2,  3,  4,  5,  6,  7,  8,  9, 10, 11, 12, 13, 14, 15, 16,\n",
       "       17, 18, 19, 20, 21, 22, 23, 24])"
      ]
     },
     "execution_count": 23,
     "metadata": {},
     "output_type": "execute_result"
    }
   ],
   "source": [
    "arr = np.arange(25)\n",
    "arr"
   ]
  },
  {
   "cell_type": "code",
   "execution_count": 24,
   "metadata": {
    "scrolled": true
   },
   "outputs": [
    {
     "data": {
      "text/plain": [
       "(25,)"
      ]
     },
     "execution_count": 24,
     "metadata": {},
     "output_type": "execute_result"
    }
   ],
   "source": [
    "arr.shape"
   ]
  },
  {
   "cell_type": "code",
   "execution_count": 25,
   "metadata": {},
   "outputs": [
    {
     "data": {
      "text/html": [
       "<div>\n",
       "<style scoped>\n",
       "    .dataframe tbody tr th:only-of-type {\n",
       "        vertical-align: middle;\n",
       "    }\n",
       "\n",
       "    .dataframe tbody tr th {\n",
       "        vertical-align: top;\n",
       "    }\n",
       "\n",
       "    .dataframe thead th {\n",
       "        text-align: right;\n",
       "    }\n",
       "</style>\n",
       "<table border=\"1\" class=\"dataframe\">\n",
       "  <thead>\n",
       "    <tr style=\"text-align: right;\">\n",
       "      <th></th>\n",
       "      <th>0</th>\n",
       "    </tr>\n",
       "  </thead>\n",
       "  <tbody>\n",
       "    <tr>\n",
       "      <th>0</th>\n",
       "      <td>0</td>\n",
       "    </tr>\n",
       "    <tr>\n",
       "      <th>1</th>\n",
       "      <td>1</td>\n",
       "    </tr>\n",
       "    <tr>\n",
       "      <th>2</th>\n",
       "      <td>2</td>\n",
       "    </tr>\n",
       "    <tr>\n",
       "      <th>3</th>\n",
       "      <td>3</td>\n",
       "    </tr>\n",
       "    <tr>\n",
       "      <th>4</th>\n",
       "      <td>4</td>\n",
       "    </tr>\n",
       "    <tr>\n",
       "      <th>5</th>\n",
       "      <td>5</td>\n",
       "    </tr>\n",
       "    <tr>\n",
       "      <th>6</th>\n",
       "      <td>6</td>\n",
       "    </tr>\n",
       "    <tr>\n",
       "      <th>7</th>\n",
       "      <td>7</td>\n",
       "    </tr>\n",
       "    <tr>\n",
       "      <th>8</th>\n",
       "      <td>8</td>\n",
       "    </tr>\n",
       "    <tr>\n",
       "      <th>9</th>\n",
       "      <td>9</td>\n",
       "    </tr>\n",
       "    <tr>\n",
       "      <th>10</th>\n",
       "      <td>10</td>\n",
       "    </tr>\n",
       "    <tr>\n",
       "      <th>11</th>\n",
       "      <td>11</td>\n",
       "    </tr>\n",
       "    <tr>\n",
       "      <th>12</th>\n",
       "      <td>12</td>\n",
       "    </tr>\n",
       "    <tr>\n",
       "      <th>13</th>\n",
       "      <td>13</td>\n",
       "    </tr>\n",
       "    <tr>\n",
       "      <th>14</th>\n",
       "      <td>14</td>\n",
       "    </tr>\n",
       "    <tr>\n",
       "      <th>15</th>\n",
       "      <td>15</td>\n",
       "    </tr>\n",
       "    <tr>\n",
       "      <th>16</th>\n",
       "      <td>16</td>\n",
       "    </tr>\n",
       "    <tr>\n",
       "      <th>17</th>\n",
       "      <td>17</td>\n",
       "    </tr>\n",
       "    <tr>\n",
       "      <th>18</th>\n",
       "      <td>18</td>\n",
       "    </tr>\n",
       "    <tr>\n",
       "      <th>19</th>\n",
       "      <td>19</td>\n",
       "    </tr>\n",
       "    <tr>\n",
       "      <th>20</th>\n",
       "      <td>20</td>\n",
       "    </tr>\n",
       "    <tr>\n",
       "      <th>21</th>\n",
       "      <td>21</td>\n",
       "    </tr>\n",
       "    <tr>\n",
       "      <th>22</th>\n",
       "      <td>22</td>\n",
       "    </tr>\n",
       "    <tr>\n",
       "      <th>23</th>\n",
       "      <td>23</td>\n",
       "    </tr>\n",
       "    <tr>\n",
       "      <th>24</th>\n",
       "      <td>24</td>\n",
       "    </tr>\n",
       "  </tbody>\n",
       "</table>\n",
       "</div>"
      ],
      "text/plain": [
       "     0\n",
       "0    0\n",
       "1    1\n",
       "2    2\n",
       "3    3\n",
       "4    4\n",
       "5    5\n",
       "6    6\n",
       "7    7\n",
       "8    8\n",
       "9    9\n",
       "10  10\n",
       "11  11\n",
       "12  12\n",
       "13  13\n",
       "14  14\n",
       "15  15\n",
       "16  16\n",
       "17  17\n",
       "18  18\n",
       "19  19\n",
       "20  20\n",
       "21  21\n",
       "22  22\n",
       "23  23\n",
       "24  24"
      ]
     },
     "execution_count": 25,
     "metadata": {},
     "output_type": "execute_result"
    }
   ],
   "source": [
    "pd.DataFrame(arr)"
   ]
  },
  {
   "cell_type": "code",
   "execution_count": 26,
   "metadata": {},
   "outputs": [
    {
     "data": {
      "text/plain": [
       "(25, 1)"
      ]
     },
     "execution_count": 26,
     "metadata": {},
     "output_type": "execute_result"
    }
   ],
   "source": [
    "arr = arr.reshape(25, 1)\n",
    "arr.shape\n",
    "#creates a row for each value with a defined number of columns"
   ]
  },
  {
   "cell_type": "code",
   "execution_count": 27,
   "metadata": {},
   "outputs": [
    {
     "data": {
      "text/plain": [
       "array([[ 0],\n",
       "       [ 1],\n",
       "       [ 2],\n",
       "       [ 3],\n",
       "       [ 4],\n",
       "       [ 5],\n",
       "       [ 6],\n",
       "       [ 7],\n",
       "       [ 8],\n",
       "       [ 9],\n",
       "       [10],\n",
       "       [11],\n",
       "       [12],\n",
       "       [13],\n",
       "       [14],\n",
       "       [15],\n",
       "       [16],\n",
       "       [17],\n",
       "       [18],\n",
       "       [19],\n",
       "       [20],\n",
       "       [21],\n",
       "       [22],\n",
       "       [23],\n",
       "       [24]])"
      ]
     },
     "execution_count": 27,
     "metadata": {},
     "output_type": "execute_result"
    }
   ],
   "source": [
    "arr"
   ]
  },
  {
   "cell_type": "code",
   "execution_count": 28,
   "metadata": {},
   "outputs": [
    {
     "data": {
      "text/html": [
       "<div>\n",
       "<style scoped>\n",
       "    .dataframe tbody tr th:only-of-type {\n",
       "        vertical-align: middle;\n",
       "    }\n",
       "\n",
       "    .dataframe tbody tr th {\n",
       "        vertical-align: top;\n",
       "    }\n",
       "\n",
       "    .dataframe thead th {\n",
       "        text-align: right;\n",
       "    }\n",
       "</style>\n",
       "<table border=\"1\" class=\"dataframe\">\n",
       "  <thead>\n",
       "    <tr style=\"text-align: right;\">\n",
       "      <th></th>\n",
       "      <th>0</th>\n",
       "    </tr>\n",
       "  </thead>\n",
       "  <tbody>\n",
       "    <tr>\n",
       "      <th>0</th>\n",
       "      <td>0</td>\n",
       "    </tr>\n",
       "    <tr>\n",
       "      <th>1</th>\n",
       "      <td>1</td>\n",
       "    </tr>\n",
       "    <tr>\n",
       "      <th>2</th>\n",
       "      <td>2</td>\n",
       "    </tr>\n",
       "    <tr>\n",
       "      <th>3</th>\n",
       "      <td>3</td>\n",
       "    </tr>\n",
       "    <tr>\n",
       "      <th>4</th>\n",
       "      <td>4</td>\n",
       "    </tr>\n",
       "    <tr>\n",
       "      <th>5</th>\n",
       "      <td>5</td>\n",
       "    </tr>\n",
       "    <tr>\n",
       "      <th>6</th>\n",
       "      <td>6</td>\n",
       "    </tr>\n",
       "    <tr>\n",
       "      <th>7</th>\n",
       "      <td>7</td>\n",
       "    </tr>\n",
       "    <tr>\n",
       "      <th>8</th>\n",
       "      <td>8</td>\n",
       "    </tr>\n",
       "    <tr>\n",
       "      <th>9</th>\n",
       "      <td>9</td>\n",
       "    </tr>\n",
       "    <tr>\n",
       "      <th>10</th>\n",
       "      <td>10</td>\n",
       "    </tr>\n",
       "    <tr>\n",
       "      <th>11</th>\n",
       "      <td>11</td>\n",
       "    </tr>\n",
       "    <tr>\n",
       "      <th>12</th>\n",
       "      <td>12</td>\n",
       "    </tr>\n",
       "    <tr>\n",
       "      <th>13</th>\n",
       "      <td>13</td>\n",
       "    </tr>\n",
       "    <tr>\n",
       "      <th>14</th>\n",
       "      <td>14</td>\n",
       "    </tr>\n",
       "    <tr>\n",
       "      <th>15</th>\n",
       "      <td>15</td>\n",
       "    </tr>\n",
       "    <tr>\n",
       "      <th>16</th>\n",
       "      <td>16</td>\n",
       "    </tr>\n",
       "    <tr>\n",
       "      <th>17</th>\n",
       "      <td>17</td>\n",
       "    </tr>\n",
       "    <tr>\n",
       "      <th>18</th>\n",
       "      <td>18</td>\n",
       "    </tr>\n",
       "    <tr>\n",
       "      <th>19</th>\n",
       "      <td>19</td>\n",
       "    </tr>\n",
       "    <tr>\n",
       "      <th>20</th>\n",
       "      <td>20</td>\n",
       "    </tr>\n",
       "    <tr>\n",
       "      <th>21</th>\n",
       "      <td>21</td>\n",
       "    </tr>\n",
       "    <tr>\n",
       "      <th>22</th>\n",
       "      <td>22</td>\n",
       "    </tr>\n",
       "    <tr>\n",
       "      <th>23</th>\n",
       "      <td>23</td>\n",
       "    </tr>\n",
       "    <tr>\n",
       "      <th>24</th>\n",
       "      <td>24</td>\n",
       "    </tr>\n",
       "  </tbody>\n",
       "</table>\n",
       "</div>"
      ],
      "text/plain": [
       "     0\n",
       "0    0\n",
       "1    1\n",
       "2    2\n",
       "3    3\n",
       "4    4\n",
       "5    5\n",
       "6    6\n",
       "7    7\n",
       "8    8\n",
       "9    9\n",
       "10  10\n",
       "11  11\n",
       "12  12\n",
       "13  13\n",
       "14  14\n",
       "15  15\n",
       "16  16\n",
       "17  17\n",
       "18  18\n",
       "19  19\n",
       "20  20\n",
       "21  21\n",
       "22  22\n",
       "23  23\n",
       "24  24"
      ]
     },
     "execution_count": 28,
     "metadata": {},
     "output_type": "execute_result"
    }
   ],
   "source": [
    "pd.DataFrame(arr)"
   ]
  },
  {
   "cell_type": "code",
   "execution_count": 29,
   "metadata": {
    "scrolled": false
   },
   "outputs": [
    {
     "data": {
      "text/plain": [
       "array([[ 0],\n",
       "       [ 1],\n",
       "       [ 2],\n",
       "       [ 3],\n",
       "       [ 4],\n",
       "       [ 5],\n",
       "       [ 6],\n",
       "       [ 7],\n",
       "       [ 8],\n",
       "       [ 9],\n",
       "       [10],\n",
       "       [11],\n",
       "       [12],\n",
       "       [13],\n",
       "       [14],\n",
       "       [15],\n",
       "       [16],\n",
       "       [17],\n",
       "       [18],\n",
       "       [19],\n",
       "       [20],\n",
       "       [21],\n",
       "       [22],\n",
       "       [23],\n",
       "       [24]])"
      ]
     },
     "execution_count": 29,
     "metadata": {},
     "output_type": "execute_result"
    }
   ],
   "source": [
    "arr"
   ]
  },
  {
   "cell_type": "code",
   "execution_count": 30,
   "metadata": {},
   "outputs": [
    {
     "data": {
      "text/plain": [
       "(25, 1)"
      ]
     },
     "execution_count": 30,
     "metadata": {},
     "output_type": "execute_result"
    }
   ],
   "source": [
    "arr.shape"
   ]
  },
  {
   "cell_type": "code",
   "execution_count": 31,
   "metadata": {},
   "outputs": [
    {
     "data": {
      "text/plain": [
       "array([ 0,  1,  2,  3,  4,  5,  6,  7,  8,  9, 10, 11, 12, 13, 14, 15, 16,\n",
       "       17, 18, 19, 20, 21, 22, 23, 24])"
      ]
     },
     "execution_count": 31,
     "metadata": {},
     "output_type": "execute_result"
    }
   ],
   "source": [
    "arr = arr.reshape(-1) #Gives row the len of array and value declared to columns.\n",
    "arr\n",
    "#creates a row for each value but does not define a column"
   ]
  },
  {
   "cell_type": "code",
   "execution_count": 32,
   "metadata": {},
   "outputs": [
    {
     "data": {
      "text/plain": [
       "array([[ 0,  1,  2,  3,  4,  5,  6,  7,  8,  9, 10, 11, 12, 13, 14, 15,\n",
       "        16, 17, 18, 19, 20, 21, 22, 23, 24]])"
      ]
     },
     "execution_count": 32,
     "metadata": {},
     "output_type": "execute_result"
    }
   ],
   "source": [
    "arr = arr.reshape(1, -1) #Similar to reshape(1, 25)\n",
    "arr\n",
    "#sets each item in one single row but each value on its own column"
   ]
  },
  {
   "cell_type": "code",
   "execution_count": 33,
   "metadata": {},
   "outputs": [
    {
     "data": {
      "text/plain": [
       "(1, 25)"
      ]
     },
     "execution_count": 33,
     "metadata": {},
     "output_type": "execute_result"
    }
   ],
   "source": [
    "arr.shape"
   ]
  },
  {
   "cell_type": "code",
   "execution_count": 34,
   "metadata": {},
   "outputs": [
    {
     "data": {
      "text/html": [
       "<div>\n",
       "<style scoped>\n",
       "    .dataframe tbody tr th:only-of-type {\n",
       "        vertical-align: middle;\n",
       "    }\n",
       "\n",
       "    .dataframe tbody tr th {\n",
       "        vertical-align: top;\n",
       "    }\n",
       "\n",
       "    .dataframe thead th {\n",
       "        text-align: right;\n",
       "    }\n",
       "</style>\n",
       "<table border=\"1\" class=\"dataframe\">\n",
       "  <thead>\n",
       "    <tr style=\"text-align: right;\">\n",
       "      <th></th>\n",
       "      <th>0</th>\n",
       "      <th>1</th>\n",
       "      <th>2</th>\n",
       "      <th>3</th>\n",
       "      <th>4</th>\n",
       "      <th>5</th>\n",
       "      <th>6</th>\n",
       "      <th>7</th>\n",
       "      <th>8</th>\n",
       "      <th>9</th>\n",
       "      <th>...</th>\n",
       "      <th>15</th>\n",
       "      <th>16</th>\n",
       "      <th>17</th>\n",
       "      <th>18</th>\n",
       "      <th>19</th>\n",
       "      <th>20</th>\n",
       "      <th>21</th>\n",
       "      <th>22</th>\n",
       "      <th>23</th>\n",
       "      <th>24</th>\n",
       "    </tr>\n",
       "  </thead>\n",
       "  <tbody>\n",
       "    <tr>\n",
       "      <th>0</th>\n",
       "      <td>0</td>\n",
       "      <td>1</td>\n",
       "      <td>2</td>\n",
       "      <td>3</td>\n",
       "      <td>4</td>\n",
       "      <td>5</td>\n",
       "      <td>6</td>\n",
       "      <td>7</td>\n",
       "      <td>8</td>\n",
       "      <td>9</td>\n",
       "      <td>...</td>\n",
       "      <td>15</td>\n",
       "      <td>16</td>\n",
       "      <td>17</td>\n",
       "      <td>18</td>\n",
       "      <td>19</td>\n",
       "      <td>20</td>\n",
       "      <td>21</td>\n",
       "      <td>22</td>\n",
       "      <td>23</td>\n",
       "      <td>24</td>\n",
       "    </tr>\n",
       "  </tbody>\n",
       "</table>\n",
       "<p>1 rows × 25 columns</p>\n",
       "</div>"
      ],
      "text/plain": [
       "   0   1   2   3   4   5   6   7   8   9   ...  15  16  17  18  19  20  21  \\\n",
       "0   0   1   2   3   4   5   6   7   8   9  ...  15  16  17  18  19  20  21   \n",
       "\n",
       "   22  23  24  \n",
       "0  22  23  24  \n",
       "\n",
       "[1 rows x 25 columns]"
      ]
     },
     "execution_count": 34,
     "metadata": {},
     "output_type": "execute_result"
    }
   ],
   "source": [
    "pd.DataFrame(arr)"
   ]
  },
  {
   "cell_type": "code",
   "execution_count": 35,
   "metadata": {},
   "outputs": [
    {
     "data": {
      "text/plain": [
       "array([[ 0,  1,  2,  3,  4],\n",
       "       [ 5,  6,  7,  8,  9],\n",
       "       [10, 11, 12, 13, 14],\n",
       "       [15, 16, 17, 18, 19],\n",
       "       [20, 21, 22, 23, 24]])"
      ]
     },
     "execution_count": 35,
     "metadata": {},
     "output_type": "execute_result"
    }
   ],
   "source": [
    "arr = arr.reshape(5, 5) #Gives row the len of array and value declared to columns.\n",
    "arr"
   ]
  },
  {
   "cell_type": "code",
   "execution_count": 36,
   "metadata": {},
   "outputs": [
    {
     "data": {
      "text/plain": [
       "(5, 5)"
      ]
     },
     "execution_count": 36,
     "metadata": {},
     "output_type": "execute_result"
    }
   ],
   "source": [
    "arr.shape"
   ]
  },
  {
   "cell_type": "code",
   "execution_count": 37,
   "metadata": {},
   "outputs": [
    {
     "data": {
      "text/plain": [
       "24"
      ]
     },
     "execution_count": 37,
     "metadata": {},
     "output_type": "execute_result"
    }
   ],
   "source": [
    "#finding the maximum value in the array\n",
    "arr.max()"
   ]
  },
  {
   "cell_type": "code",
   "execution_count": 38,
   "metadata": {},
   "outputs": [
    {
     "data": {
      "text/plain": [
       "0"
      ]
     },
     "execution_count": 38,
     "metadata": {},
     "output_type": "execute_result"
    }
   ],
   "source": [
    "#finding the minimum value in the array\n",
    "arr.min()"
   ]
  },
  {
   "cell_type": "code",
   "execution_count": 39,
   "metadata": {},
   "outputs": [
    {
     "data": {
      "text/plain": [
       "24"
      ]
     },
     "execution_count": 39,
     "metadata": {},
     "output_type": "execute_result"
    }
   ],
   "source": [
    "#finding the index of the maximum value in the array\n",
    "arr.argmax()"
   ]
  },
  {
   "cell_type": "code",
   "execution_count": 40,
   "metadata": {},
   "outputs": [
    {
     "data": {
      "text/plain": [
       "0"
      ]
     },
     "execution_count": 40,
     "metadata": {},
     "output_type": "execute_result"
    }
   ],
   "source": [
    "arr.argmin()"
   ]
  },
  {
   "cell_type": "code",
   "execution_count": 41,
   "metadata": {},
   "outputs": [
    {
     "data": {
      "text/plain": [
       "dtype('int32')"
      ]
     },
     "execution_count": 41,
     "metadata": {},
     "output_type": "execute_result"
    }
   ],
   "source": [
    "arr.dtype"
   ]
  },
  {
   "cell_type": "code",
   "execution_count": 42,
   "metadata": {},
   "outputs": [],
   "source": [
    "arr = arr.astype('float32')"
   ]
  },
  {
   "cell_type": "code",
   "execution_count": 43,
   "metadata": {},
   "outputs": [
    {
     "data": {
      "text/plain": [
       "dtype('float32')"
      ]
     },
     "execution_count": 43,
     "metadata": {},
     "output_type": "execute_result"
    }
   ],
   "source": [
    "arr.dtype"
   ]
  },
  {
   "cell_type": "code",
   "execution_count": 44,
   "metadata": {},
   "outputs": [
    {
     "data": {
      "text/plain": [
       "array([[ 0.,  1.,  2.,  3.,  4.],\n",
       "       [ 5.,  6.,  7.,  8.,  9.],\n",
       "       [10., 11., 12., 13., 14.],\n",
       "       [15., 16., 17., 18., 19.],\n",
       "       [20., 21., 22., 23., 24.]], dtype=float32)"
      ]
     },
     "execution_count": 44,
     "metadata": {},
     "output_type": "execute_result"
    }
   ],
   "source": [
    "arr"
   ]
  },
  {
   "cell_type": "markdown",
   "metadata": {},
   "source": [
    "# Indexing and selection \n",
    "\n",
    "Indexing and selection is similar to a list but has extra use features due to the multidimensionality factor."
   ]
  },
  {
   "cell_type": "code",
   "execution_count": 45,
   "metadata": {},
   "outputs": [],
   "source": [
    "arr = arr.reshape(-1)"
   ]
  },
  {
   "cell_type": "code",
   "execution_count": 46,
   "metadata": {},
   "outputs": [
    {
     "data": {
      "text/plain": [
       "(25,)"
      ]
     },
     "execution_count": 46,
     "metadata": {},
     "output_type": "execute_result"
    }
   ],
   "source": [
    "arr.shape"
   ]
  },
  {
   "cell_type": "code",
   "execution_count": 47,
   "metadata": {},
   "outputs": [
    {
     "data": {
      "text/plain": [
       "7.0"
      ]
     },
     "execution_count": 47,
     "metadata": {},
     "output_type": "execute_result"
    }
   ],
   "source": [
    "arr[7]"
   ]
  },
  {
   "cell_type": "code",
   "execution_count": 48,
   "metadata": {},
   "outputs": [
    {
     "data": {
      "text/plain": [
       "array([2., 3., 4., 5.], dtype=float32)"
      ]
     },
     "execution_count": 48,
     "metadata": {},
     "output_type": "execute_result"
    }
   ],
   "source": [
    "arr[2:6]"
   ]
  },
  {
   "cell_type": "code",
   "execution_count": 49,
   "metadata": {},
   "outputs": [
    {
     "data": {
      "text/plain": [
       "array([0., 1., 2., 3., 4., 5.], dtype=float32)"
      ]
     },
     "execution_count": 49,
     "metadata": {},
     "output_type": "execute_result"
    }
   ],
   "source": [
    "arr[0:6]"
   ]
  },
  {
   "cell_type": "code",
   "execution_count": 50,
   "metadata": {},
   "outputs": [
    {
     "data": {
      "text/plain": [
       "array([0., 1., 2., 3., 4., 5., 6.], dtype=float32)"
      ]
     },
     "execution_count": 50,
     "metadata": {},
     "output_type": "execute_result"
    }
   ],
   "source": [
    "arr[:7]"
   ]
  },
  {
   "cell_type": "code",
   "execution_count": 51,
   "metadata": {},
   "outputs": [
    {
     "data": {
      "text/plain": [
       "array([ 5.,  6.,  7.,  8.,  9., 10., 11., 12., 13., 14., 15., 16., 17.,\n",
       "       18., 19., 20., 21., 22., 23., 24.], dtype=float32)"
      ]
     },
     "execution_count": 51,
     "metadata": {},
     "output_type": "execute_result"
    }
   ],
   "source": [
    "arr[5:]"
   ]
  },
  {
   "cell_type": "code",
   "execution_count": 52,
   "metadata": {},
   "outputs": [],
   "source": [
    "arr[0:5] = 100    #inserting a value in a given index (broadcasting)"
   ]
  },
  {
   "cell_type": "code",
   "execution_count": 53,
   "metadata": {},
   "outputs": [
    {
     "data": {
      "text/plain": [
       "array([100., 100., 100., 100., 100.,   5.,   6.,   7.,   8.,   9.,  10.,\n",
       "        11.,  12.,  13.,  14.,  15.,  16.,  17.,  18.,  19.,  20.,  21.,\n",
       "        22.,  23.,  24.], dtype=float32)"
      ]
     },
     "execution_count": 53,
     "metadata": {},
     "output_type": "execute_result"
    }
   ],
   "source": [
    "arr"
   ]
  },
  {
   "cell_type": "code",
   "execution_count": 54,
   "metadata": {},
   "outputs": [],
   "source": [
    "arr = arr.reshape(5, 5)"
   ]
  },
  {
   "cell_type": "code",
   "execution_count": 55,
   "metadata": {
    "scrolled": true
   },
   "outputs": [
    {
     "data": {
      "text/plain": [
       "array([[100., 100., 100., 100., 100.],\n",
       "       [  5.,   6.,   7.,   8.,   9.],\n",
       "       [ 10.,  11.,  12.,  13.,  14.],\n",
       "       [ 15.,  16.,  17.,  18.,  19.],\n",
       "       [ 20.,  21.,  22.,  23.,  24.]], dtype=float32)"
      ]
     },
     "execution_count": 55,
     "metadata": {},
     "output_type": "execute_result"
    }
   ],
   "source": [
    "arr"
   ]
  },
  {
   "cell_type": "code",
   "execution_count": 56,
   "metadata": {},
   "outputs": [
    {
     "data": {
      "text/plain": [
       "[[100.0, 100.0, 100.0, 100.0, 100.0],\n",
       " [5.0, 6.0, 7.0, 8.0, 9.0],\n",
       " [10.0, 11.0, 12.0, 13.0, 14.0],\n",
       " [15.0, 16.0, 17.0, 18.0, 19.0],\n",
       " [20.0, 21.0, 22.0, 23.0, 24.0]]"
      ]
     },
     "execution_count": 56,
     "metadata": {},
     "output_type": "execute_result"
    }
   ],
   "source": [
    "[[100., 100., 100., 100., 100.],\n",
    "[  5.,   6.,   7.,   8.,   9.],\n",
    "[ 10.,  11.,  12.,  13.,  14.],\n",
    "[ 15.,  16.,  17.,  18.,  19.],\n",
    "[ 20.,  21.,  22.,  23.,  24.]]"
   ]
  },
  {
   "cell_type": "code",
   "execution_count": 57,
   "metadata": {},
   "outputs": [
    {
     "data": {
      "text/plain": [
       "6.0"
      ]
     },
     "execution_count": 57,
     "metadata": {},
     "output_type": "execute_result"
    }
   ],
   "source": [
    "#selecting a single value\n",
    "arr[1][1]"
   ]
  },
  {
   "cell_type": "code",
   "execution_count": 58,
   "metadata": {},
   "outputs": [
    {
     "data": {
      "text/plain": [
       "6.0"
      ]
     },
     "execution_count": 58,
     "metadata": {},
     "output_type": "execute_result"
    }
   ],
   "source": [
    "#alternative selecting a single value\n",
    "arr[1, 1]"
   ]
  },
  {
   "cell_type": "code",
   "execution_count": 59,
   "metadata": {},
   "outputs": [
    {
     "data": {
      "text/plain": [
       "array([100.,   6.,  11.,  16.,  21.], dtype=float32)"
      ]
     },
     "execution_count": 59,
     "metadata": {},
     "output_type": "execute_result"
    }
   ],
   "source": [
    "#selecting the last column\n",
    "arr[:,-4]"
   ]
  },
  {
   "cell_type": "code",
   "execution_count": 60,
   "metadata": {},
   "outputs": [
    {
     "data": {
      "text/plain": [
       "array([[100., 100., 100., 100.],\n",
       "       [  6.,   7.,   8.,   9.],\n",
       "       [ 11.,  12.,  13.,  14.],\n",
       "       [ 16.,  17.,  18.,  19.],\n",
       "       [ 21.,  22.,  23.,  24.]], dtype=float32)"
      ]
     },
     "execution_count": 60,
     "metadata": {},
     "output_type": "execute_result"
    }
   ],
   "source": [
    "#slicing the matrix\n",
    "arr[:,1:]"
   ]
  },
  {
   "cell_type": "code",
   "execution_count": 61,
   "metadata": {},
   "outputs": [
    {
     "data": {
      "text/plain": [
       "array([[100., 100., 100., 100.],\n",
       "       [  6.,   7.,   8.,   9.]], dtype=float32)"
      ]
     },
     "execution_count": 61,
     "metadata": {},
     "output_type": "execute_result"
    }
   ],
   "source": [
    "#slicing the matrix\n",
    "arr[0:2,1:]"
   ]
  },
  {
   "cell_type": "code",
   "execution_count": 62,
   "metadata": {},
   "outputs": [
    {
     "data": {
      "text/plain": [
       "array([[100., 100., 100., 100., 100.],\n",
       "       [  5.,   6.,   7.,   8.,   9.]], dtype=float32)"
      ]
     },
     "execution_count": 62,
     "metadata": {},
     "output_type": "execute_result"
    }
   ],
   "source": [
    "#selecting the first 2 rows\n",
    "arr[0:2]"
   ]
  },
  {
   "cell_type": "markdown",
   "metadata": {},
   "source": [
    "# Array operations \n",
    "\n",
    "Performing mathermatical operations"
   ]
  },
  {
   "cell_type": "code",
   "execution_count": 63,
   "metadata": {},
   "outputs": [
    {
     "data": {
      "text/plain": [
       "array([[100., 100., 100., 100., 100.],\n",
       "       [  5.,   6.,   7.,   8.,   9.],\n",
       "       [ 10.,  11.,  12.,  13.,  14.],\n",
       "       [ 15.,  16.,  17.,  18.,  19.],\n",
       "       [ 20.,  21.,  22.,  23.,  24.]], dtype=float32)"
      ]
     },
     "execution_count": 63,
     "metadata": {},
     "output_type": "execute_result"
    }
   ],
   "source": [
    "arr"
   ]
  },
  {
   "cell_type": "code",
   "execution_count": 64,
   "metadata": {},
   "outputs": [
    {
     "data": {
      "text/plain": [
       "array([[200., 200., 200., 200., 200.],\n",
       "       [ 10.,  12.,  14.,  16.,  18.],\n",
       "       [ 20.,  22.,  24.,  26.,  28.],\n",
       "       [ 30.,  32.,  34.,  36.,  38.],\n",
       "       [ 40.,  42.,  44.,  46.,  48.]], dtype=float32)"
      ]
     },
     "execution_count": 64,
     "metadata": {},
     "output_type": "execute_result"
    }
   ],
   "source": [
    "arr + arr"
   ]
  },
  {
   "cell_type": "code",
   "execution_count": 65,
   "metadata": {},
   "outputs": [
    {
     "ename": "ValueError",
     "evalue": "operands could not be broadcast together with shapes (5,5) (4,) ",
     "output_type": "error",
     "traceback": [
      "\u001b[1;31m---------------------------------------------------------------------------\u001b[0m",
      "\u001b[1;31mValueError\u001b[0m                                Traceback (most recent call last)",
      "\u001b[1;32m<ipython-input-65-cac8443313d5>\u001b[0m in \u001b[0;36m<module>\u001b[1;34m\u001b[0m\n\u001b[0;32m      1\u001b[0m \u001b[0marr1\u001b[0m \u001b[1;33m=\u001b[0m \u001b[0mnp\u001b[0m\u001b[1;33m.\u001b[0m\u001b[0marray\u001b[0m\u001b[1;33m(\u001b[0m\u001b[1;33m[\u001b[0m\u001b[1;36m5\u001b[0m\u001b[1;33m,\u001b[0m \u001b[1;36m6\u001b[0m\u001b[1;33m,\u001b[0m \u001b[1;36m7\u001b[0m\u001b[1;33m,\u001b[0m \u001b[1;36m8\u001b[0m\u001b[1;33m]\u001b[0m\u001b[1;33m)\u001b[0m\u001b[1;33m\u001b[0m\u001b[1;33m\u001b[0m\u001b[0m\n\u001b[1;32m----> 2\u001b[1;33m \u001b[0marr\u001b[0m \u001b[1;33m+\u001b[0m \u001b[0marr1\u001b[0m\u001b[1;33m\u001b[0m\u001b[1;33m\u001b[0m\u001b[0m\n\u001b[0m",
      "\u001b[1;31mValueError\u001b[0m: operands could not be broadcast together with shapes (5,5) (4,) "
     ]
    }
   ],
   "source": [
    "arr1 = np.array([5, 6, 7, 8])\n",
    "arr + arr1"
   ]
  },
  {
   "cell_type": "code",
   "execution_count": 66,
   "metadata": {},
   "outputs": [
    {
     "data": {
      "text/plain": [
       "array([[10000., 10000., 10000., 10000., 10000.],\n",
       "       [   25.,    36.,    49.,    64.,    81.],\n",
       "       [  100.,   121.,   144.,   169.,   196.],\n",
       "       [  225.,   256.,   289.,   324.,   361.],\n",
       "       [  400.,   441.,   484.,   529.,   576.]], dtype=float32)"
      ]
     },
     "execution_count": 66,
     "metadata": {},
     "output_type": "execute_result"
    }
   ],
   "source": [
    "arr * arr"
   ]
  },
  {
   "cell_type": "code",
   "execution_count": 67,
   "metadata": {},
   "outputs": [
    {
     "data": {
      "text/plain": [
       "34.586704"
      ]
     },
     "execution_count": 67,
     "metadata": {},
     "output_type": "execute_result"
    }
   ],
   "source": [
    "arr.std()"
   ]
  },
  {
   "cell_type": "code",
   "execution_count": 68,
   "metadata": {},
   "outputs": [
    {
     "data": {
      "text/plain": [
       "31.6"
      ]
     },
     "execution_count": 68,
     "metadata": {},
     "output_type": "execute_result"
    }
   ],
   "source": [
    "arr.mean()"
   ]
  },
  {
   "cell_type": "code",
   "execution_count": 69,
   "metadata": {},
   "outputs": [
    {
     "data": {
      "text/plain": [
       "array([[10.       , 10.       , 10.       , 10.       , 10.       ],\n",
       "       [ 2.236068 ,  2.4494898,  2.6457512,  2.828427 ,  3.       ],\n",
       "       [ 3.1622777,  3.3166249,  3.4641016,  3.6055512,  3.7416575],\n",
       "       [ 3.8729835,  4.       ,  4.1231055,  4.2426405,  4.358899 ],\n",
       "       [ 4.472136 ,  4.582576 ,  4.690416 ,  4.7958317,  4.8989797]],\n",
       "      dtype=float32)"
      ]
     },
     "execution_count": 69,
     "metadata": {},
     "output_type": "execute_result"
    }
   ],
   "source": [
    "np.sqrt(arr)"
   ]
  },
  {
   "cell_type": "code",
   "execution_count": 70,
   "metadata": {},
   "outputs": [
    {
     "name": "stderr",
     "output_type": "stream",
     "text": [
      "<ipython-input-70-16c1c90aa297>:1: RuntimeWarning: overflow encountered in exp\n",
      "  np.exp(arr)\n"
     ]
    },
    {
     "data": {
      "text/plain": [
       "array([[          inf,           inf,           inf,           inf,\n",
       "                  inf],\n",
       "       [1.4841316e+02, 4.0342880e+02, 1.0966332e+03, 2.9809580e+03,\n",
       "        8.1030840e+03],\n",
       "       [2.2026465e+04, 5.9874141e+04, 1.6275480e+05, 4.4241341e+05,\n",
       "        1.2026042e+06],\n",
       "       [3.2690172e+06, 8.8861110e+06, 2.4154952e+07, 6.5659968e+07,\n",
       "        1.7848230e+08],\n",
       "       [4.8516518e+08, 1.3188157e+09, 3.5849129e+09, 9.7448038e+09,\n",
       "        2.6489123e+10]], dtype=float32)"
      ]
     },
     "execution_count": 70,
     "metadata": {},
     "output_type": "execute_result"
    }
   ],
   "source": [
    "np.exp(arr)"
   ]
  },
  {
   "cell_type": "code",
   "execution_count": 71,
   "metadata": {},
   "outputs": [
    {
     "data": {
      "text/plain": [
       "100.0"
      ]
     },
     "execution_count": 71,
     "metadata": {},
     "output_type": "execute_result"
    }
   ],
   "source": [
    "arr.max()"
   ]
  },
  {
   "cell_type": "code",
   "execution_count": 72,
   "metadata": {
    "scrolled": true
   },
   "outputs": [
    {
     "data": {
      "text/plain": [
       "5.0"
      ]
     },
     "execution_count": 72,
     "metadata": {},
     "output_type": "execute_result"
    }
   ],
   "source": [
    "arr.min()"
   ]
  },
  {
   "cell_type": "markdown",
   "metadata": {},
   "source": [
    "# Creating a machine learning model using numpy"
   ]
  },
  {
   "cell_type": "markdown",
   "metadata": {},
   "source": [
    "##  LINEAR MODEL"
   ]
  },
  {
   "cell_type": "markdown",
   "metadata": {},
   "source": [
    "* One of the simplest models of machine learning is linear regression\n",
    "* There are many ways to find the coefficients and the intercept, you can use least squares or one of the optimisation methods like gradient decent\n",
    "*Least Squares is method  a find the best fit line to data. It uses simple calculus and linear algebra to minimize  errors:"
   ]
  },
  {
   "cell_type": "markdown",
   "metadata": {},
   "source": [
    "# Formula \n",
    "\n",
    "### y = mx + c"
   ]
  },
  {
<<<<<<< HEAD
=======
   "cell_type": "markdown",
   "metadata": {},
   "source": [
    "!['form'](formula.png)"
   ]
  },
  {
>>>>>>> 70209d7bbb11c60607096ae314cfa335ec3d5dde
   "cell_type": "code",
   "execution_count": 73,
   "metadata": {},
   "outputs": [],
   "source": [
    "import matplotlib.pylab as plt"
   ]
  },
  {
   "cell_type": "markdown",
   "metadata": {},
   "source": [
    "Create a simple test data:"
   ]
  },
  {
   "cell_type": "code",
   "execution_count": 74,
   "metadata": {},
   "outputs": [],
   "source": [
    "x = np.array([1,2,3,4,5,6,7,8])\n",
    "y = np.array([15,32,66,45,90,153,170,200])"
   ]
  },
  {
   "cell_type": "markdown",
   "metadata": {},
   "source": [
    "Visualising the data:"
   ]
  },
  {
   "cell_type": "code",
   "execution_count": 75,
   "metadata": {},
   "outputs": [
    {
     "data": {
      "text/plain": [
       "<matplotlib.collections.PathCollection at 0x2b0b812ffa0>"
      ]
     },
     "execution_count": 75,
     "metadata": {},
     "output_type": "execute_result"
    },
    {
     "data": {
      "image/png": "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\n",
      "text/plain": [
       "<Figure size 432x288 with 1 Axes>"
      ]
     },
     "metadata": {
      "needs_background": "light"
     },
     "output_type": "display_data"
    }
   ],
   "source": [
    "plt.scatter(x,y)"
   ]
  },
  {
   "cell_type": "code",
   "execution_count": 76,
   "metadata": {},
   "outputs": [
    {
     "data": {
      "text/plain": [
       "5"
      ]
     },
     "execution_count": 76,
     "metadata": {},
     "output_type": "execute_result"
    }
   ],
   "source": [
    "len([1, 2, 6,3, 4])"
   ]
  },
  {
   "cell_type": "markdown",
   "metadata": {},
   "source": [
    "Compute the slope (m):"
   ]
  },
  {
   "cell_type": "code",
   "execution_count": 77,
   "metadata": {},
   "outputs": [
    {
     "name": "stdout",
     "output_type": "stream",
     "text": [
      "27.273809523809526\n"
     ]
    }
   ],
   "source": [
    "m = (len(x) * np.sum(x * y) - np.sum(x) * np.sum(y)) / (len(x) * np.sum(x * x) - np.sum(x) * np.sum(x))\n",
    "print(m)"
   ]
  },
  {
   "cell_type": "code",
   "execution_count": 78,
   "metadata": {},
   "outputs": [
    {
     "data": {
      "text/plain": [
       "4615"
      ]
     },
     "execution_count": 78,
     "metadata": {},
     "output_type": "execute_result"
    }
   ],
   "source": [
    "np.sum(x * y)"
   ]
  },
  {
   "cell_type": "markdown",
   "metadata": {},
   "source": [
    "Compute the bias/ y-intercept (c)"
   ]
  },
  {
   "cell_type": "code",
   "execution_count": 79,
   "metadata": {},
   "outputs": [
    {
     "name": "stdout",
     "output_type": "stream",
     "text": [
      "-26.35714285714286\n"
     ]
    }
   ],
   "source": [
    "c = (np.sum(y) - m * np.sum(x)) / len(x)\n",
    "print(c)"
   ]
  },
  {
   "cell_type": "markdown",
   "metadata": {},
   "source": [
    "So we can write our predict function:"
   ]
  },
  {
   "cell_type": "code",
   "execution_count": 80,
   "metadata": {},
   "outputs": [],
   "source": [
    "def predict(x):\n",
    "    return m * x - c"
   ]
  },
  {
   "cell_type": "markdown",
   "metadata": {},
   "source": [
    "Lets draw a graph to see the best fit line:"
   ]
  },
  {
   "cell_type": "code",
   "execution_count": 81,
   "metadata": {},
   "outputs": [
    {
     "data": {
      "text/plain": [
       "[<matplotlib.lines.Line2D at 0x2b0ba237730>]"
      ]
     },
     "execution_count": 81,
     "metadata": {},
     "output_type": "execute_result"
    },
    {
     "data": {
      "image/png": "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\n",
      "text/plain": [
       "<Figure size 432x288 with 1 Axes>"
      ]
     },
     "metadata": {
      "needs_background": "light"
     },
     "output_type": "display_data"
    }
   ],
   "source": [
    "vec = np.arange(9)\n",
    "plt.scatter(x, y)\n",
    "plt.plot(vec, predict(vec))"
   ]
  }
 ],
 "metadata": {
  "kernelspec": {
   "display_name": "Python 3",
   "language": "python",
   "name": "python3"
  },
  "language_info": {
   "codemirror_mode": {
    "name": "ipython",
    "version": 3
   },
   "file_extension": ".py",
   "mimetype": "text/x-python",
   "name": "python",
   "nbconvert_exporter": "python",
   "pygments_lexer": "ipython3",
<<<<<<< HEAD
   "version": "3.8.5"
=======
   "version": "3.7.6"
>>>>>>> 70209d7bbb11c60607096ae314cfa335ec3d5dde
  }
 },
 "nbformat": 4,
 "nbformat_minor": 4
}
