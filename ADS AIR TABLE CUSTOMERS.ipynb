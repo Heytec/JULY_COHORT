{
 "cells": [
  {
   "cell_type": "code",
   "execution_count": 11,
   "metadata": {},
   "outputs": [],
   "source": [
    "# https://api.airtable.com/v0/appUIAnw6FdGAsscF/January%202021?api_key=keyXzDYJuRPlv4rvI\n",
    "#https://towardsdatascience.com/downloading-airtable-data-into-python-89e5c7107a24"
   ]
  },
  {
   "cell_type": "code",
   "execution_count": 3,
   "metadata": {},
   "outputs": [],
   "source": [
    "api_key = \"keyXzDYJuRPlv4rvI\"\n",
    "headers = {\"Authorization\": \"Bearer {}\".format(api_key)}"
   ]
  },
  {
   "cell_type": "code",
   "execution_count": 4,
   "metadata": {},
   "outputs": [],
   "source": [
    "base_id = \"appUIAnw6FdGAsscF\"\n",
    "table_name = \"January%202021\"\n",
    "url = \"https://api.airtable.com/v0/\" + base_id + \"/\" + table_name"
   ]
  },
  {
   "cell_type": "code",
   "execution_count": 10,
   "metadata": {},
   "outputs": [],
   "source": [
    "import requests\n",
    "response = requests.get(url, headers=headers)\n",
    "airtable_response = response.json()\n"
   ]
  },
  {
   "cell_type": "code",
   "execution_count": 9,
   "metadata": {},
   "outputs": [],
   "source": [
    "#airtable_records = airtable_response['records']\n",
    "#airtable_records"
   ]
  },
  {
   "cell_type": "code",
   "execution_count": 20,
   "metadata": {},
   "outputs": [],
   "source": [
    "import pandas as pd\n",
    "airtable_rows = []\n",
    "for record in airtable_records:\n",
    "    airtable_rows.append(record['fields'])\n"
   ]
  },
  {
   "cell_type": "code",
   "execution_count": 21,
   "metadata": {},
   "outputs": [],
   "source": [
    "df= pd.DataFrame(airtable_rows)"
   ]
  },
  {
   "cell_type": "code",
   "execution_count": 22,
   "metadata": {},
   "outputs": [
    {
     "data": {
      "text/html": [
       "<div>\n",
       "<style scoped>\n",
       "    .dataframe tbody tr th:only-of-type {\n",
       "        vertical-align: middle;\n",
       "    }\n",
       "\n",
       "    .dataframe tbody tr th {\n",
       "        vertical-align: top;\n",
       "    }\n",
       "\n",
       "    .dataframe thead th {\n",
       "        text-align: right;\n",
       "    }\n",
       "</style>\n",
       "<table border=\"1\" class=\"dataframe\">\n",
       "  <thead>\n",
       "    <tr style=\"text-align: right;\">\n",
       "      <th></th>\n",
       "      <th>name</th>\n",
       "      <th>Email address</th>\n",
       "      <th>First Name</th>\n",
       "      <th>Last Name</th>\n",
       "      <th>Phone</th>\n",
       "      <th>Acqusition Platform</th>\n",
       "      <th>Cohort</th>\n",
       "      <th>Acceptance email sent</th>\n",
       "      <th>Accepted offer</th>\n",
       "      <th>python Familiarization email sent</th>\n",
       "      <th>...</th>\n",
       "      <th>Amount paid</th>\n",
       "      <th>Submission date</th>\n",
       "      <th>country</th>\n",
       "      <th>Highest Level of education</th>\n",
       "      <th>Employment Status</th>\n",
       "      <th>Why are you interested in this course</th>\n",
       "      <th>How do you want to attend your classes</th>\n",
       "      <th>Field of Study</th>\n",
       "      <th>Company name</th>\n",
       "      <th>Job Title</th>\n",
       "    </tr>\n",
       "  </thead>\n",
       "  <tbody>\n",
       "    <tr>\n",
       "      <th>0</th>\n",
       "      <td>Stephen Mutebi</td>\n",
       "      <td>stphnlwnga@gmail.com</td>\n",
       "      <td>Stephen</td>\n",
       "      <td>Mutebi</td>\n",
       "      <td>(071) 977-0198</td>\n",
       "      <td>Google</td>\n",
       "      <td>January</td>\n",
       "      <td>yes</td>\n",
       "      <td>yes</td>\n",
       "      <td>yes</td>\n",
       "      <td>...</td>\n",
       "      <td>35000</td>\n",
       "      <td>2020-11-16T15:40:00.000Z</td>\n",
       "      <td>Kenya</td>\n",
       "      <td>Degree</td>\n",
       "      <td>Self Employed</td>\n",
       "      <td>Curiosity and familiarity with some topics cov...</td>\n",
       "      <td>Online</td>\n",
       "      <td>BSc. Biology</td>\n",
       "      <td>NaN</td>\n",
       "      <td>NaN</td>\n",
       "    </tr>\n",
       "    <tr>\n",
       "      <th>1</th>\n",
       "      <td>NaN</td>\n",
       "      <td>nabisereangela@gmail.com</td>\n",
       "      <td>Angella Rose</td>\n",
       "      <td>Nabisere</td>\n",
       "      <td>256754728227</td>\n",
       "      <td>Facebook</td>\n",
       "      <td>January</td>\n",
       "      <td>yes</td>\n",
       "      <td>yes</td>\n",
       "      <td>yes</td>\n",
       "      <td>...</td>\n",
       "      <td>35000</td>\n",
       "      <td>2020-12-02T13:05:00.000Z</td>\n",
       "      <td>Uganda</td>\n",
       "      <td>Degree</td>\n",
       "      <td>Employed</td>\n",
       "      <td>to expand and acquire more skills in data scie...</td>\n",
       "      <td>Online</td>\n",
       "      <td>BSc in Business Statistics</td>\n",
       "      <td>Ministry of Finance, Planning and Economic Dev...</td>\n",
       "      <td>Research Assistant</td>\n",
       "    </tr>\n",
       "    <tr>\n",
       "      <th>2</th>\n",
       "      <td>NaN</td>\n",
       "      <td>oswardz@zambia.co.zm</td>\n",
       "      <td>Osward</td>\n",
       "      <td>Zulu</td>\n",
       "      <td>+260954562156</td>\n",
       "      <td>Facebook</td>\n",
       "      <td>January</td>\n",
       "      <td>yes</td>\n",
       "      <td>yes</td>\n",
       "      <td>yes</td>\n",
       "      <td>...</td>\n",
       "      <td>15000</td>\n",
       "      <td>2020-12-09T10:44:00.000Z</td>\n",
       "      <td>Zambia</td>\n",
       "      <td>Degree</td>\n",
       "      <td>Employed</td>\n",
       "      <td>To enhance my skills</td>\n",
       "      <td>Online</td>\n",
       "      <td>BSc. Computer Science</td>\n",
       "      <td>Zambia Public Procurement Authority</td>\n",
       "      <td>Content Administrator</td>\n",
       "    </tr>\n",
       "    <tr>\n",
       "      <th>3</th>\n",
       "      <td>Eric Mwangi</td>\n",
       "      <td>ericmwangi82@gmail.com</td>\n",
       "      <td>Eric</td>\n",
       "      <td>Mwangi</td>\n",
       "      <td>+254700400581</td>\n",
       "      <td>Google</td>\n",
       "      <td>January</td>\n",
       "      <td>yes</td>\n",
       "      <td>yes</td>\n",
       "      <td>yes</td>\n",
       "      <td>...</td>\n",
       "      <td>24000</td>\n",
       "      <td>2020-11-18T18:29:00.000Z</td>\n",
       "      <td>Kenya</td>\n",
       "      <td>Degree</td>\n",
       "      <td>Employed</td>\n",
       "      <td>With the recent growth in IT, Data is very key...</td>\n",
       "      <td>Online</td>\n",
       "      <td>Computer Science</td>\n",
       "      <td>Kenya Medical Supplies Authority</td>\n",
       "      <td>Systems Developer</td>\n",
       "    </tr>\n",
       "    <tr>\n",
       "      <th>4</th>\n",
       "      <td>Claudine Wangari Gachiri</td>\n",
       "      <td>claudinewanga@gmail.com</td>\n",
       "      <td>Claudine</td>\n",
       "      <td>Wangari</td>\n",
       "      <td>(071) 594-4071</td>\n",
       "      <td>Facebook</td>\n",
       "      <td>January</td>\n",
       "      <td>yes</td>\n",
       "      <td>yes</td>\n",
       "      <td>yes</td>\n",
       "      <td>...</td>\n",
       "      <td>21000</td>\n",
       "      <td>2020-11-23T15:41:00.000Z</td>\n",
       "      <td>Kenya</td>\n",
       "      <td>Degree</td>\n",
       "      <td>Employed</td>\n",
       "      <td>To improve my data science skill and become mo...</td>\n",
       "      <td>Online</td>\n",
       "      <td>B.a Informatics and Computer Science</td>\n",
       "      <td>Qhala</td>\n",
       "      <td>Junior Data Scientist</td>\n",
       "    </tr>\n",
       "  </tbody>\n",
       "</table>\n",
       "<p>5 rows × 22 columns</p>\n",
       "</div>"
      ],
      "text/plain": [
       "                       name             Email address    First Name Last Name  \\\n",
       "0            Stephen Mutebi      stphnlwnga@gmail.com       Stephen    Mutebi   \n",
       "1                       NaN  nabisereangela@gmail.com  Angella Rose  Nabisere   \n",
       "2                       NaN      oswardz@zambia.co.zm        Osward      Zulu   \n",
       "3               Eric Mwangi    ericmwangi82@gmail.com          Eric    Mwangi   \n",
       "4  Claudine Wangari Gachiri   claudinewanga@gmail.com      Claudine   Wangari   \n",
       "\n",
       "            Phone Acqusition Platform  Cohort  Acceptance email sent  \\\n",
       "0  (071) 977-0198              Google  January                   yes   \n",
       "1    256754728227            Facebook  January                   yes   \n",
       "2   +260954562156            Facebook  January                   yes   \n",
       "3   +254700400581              Google  January                   yes   \n",
       "4  (071) 594-4071            Facebook  January                   yes   \n",
       "\n",
       "  Accepted offer python Familiarization email sent  ... Amount paid  \\\n",
       "0            yes                               yes  ...       35000   \n",
       "1            yes                               yes  ...       35000   \n",
       "2            yes                               yes  ...       15000   \n",
       "3            yes                               yes  ...       24000   \n",
       "4            yes                               yes  ...       21000   \n",
       "\n",
       "            Submission date  country Highest Level of education  \\\n",
       "0  2020-11-16T15:40:00.000Z    Kenya                     Degree   \n",
       "1  2020-12-02T13:05:00.000Z   Uganda                     Degree   \n",
       "2  2020-12-09T10:44:00.000Z   Zambia                     Degree   \n",
       "3  2020-11-18T18:29:00.000Z    Kenya                     Degree   \n",
       "4  2020-11-23T15:41:00.000Z    Kenya                     Degree   \n",
       "\n",
       "  Employment Status              Why are you interested in this course  \\\n",
       "0     Self Employed  Curiosity and familiarity with some topics cov...   \n",
       "1         Employed   to expand and acquire more skills in data scie...   \n",
       "2         Employed                                To enhance my skills   \n",
       "3         Employed   With the recent growth in IT, Data is very key...   \n",
       "4         Employed   To improve my data science skill and become mo...   \n",
       "\n",
       "  How do you want to attend your classes  \\\n",
       "0                                 Online   \n",
       "1                                 Online   \n",
       "2                                 Online   \n",
       "3                                 Online   \n",
       "4                                 Online   \n",
       "\n",
       "                         Field of Study  \\\n",
       "0                          BSc. Biology   \n",
       "1            BSc in Business Statistics   \n",
       "2                 BSc. Computer Science   \n",
       "3                      Computer Science   \n",
       "4  B.a Informatics and Computer Science   \n",
       "\n",
       "                                        Company name              Job Title  \n",
       "0                                                NaN                    NaN  \n",
       "1  Ministry of Finance, Planning and Economic Dev...     Research Assistant  \n",
       "2                Zambia Public Procurement Authority  Content Administrator  \n",
       "3                   Kenya Medical Supplies Authority      Systems Developer  \n",
       "4                                              Qhala  Junior Data Scientist  \n",
       "\n",
       "[5 rows x 22 columns]"
      ]
     },
     "execution_count": 22,
     "metadata": {},
     "output_type": "execute_result"
    }
   ],
   "source": [
    "df.head()"
   ]
  },
  {
   "cell_type": "code",
   "execution_count": 23,
   "metadata": {},
   "outputs": [
    {
     "data": {
      "text/plain": [
       "Index(['name', 'Email address', 'First Name', 'Last Name', 'Phone',\n",
       "       'Acqusition Platform', 'Cohort ', 'Acceptance email sent',\n",
       "       'Accepted offer', 'python Familiarization email sent',\n",
       "       'Call confirmation', 'Client paid', 'Amount paid', 'Submission date',\n",
       "       'country', 'Highest Level of education', 'Employment Status',\n",
       "       'Why are you interested in this course',\n",
       "       'How do you want to attend your classes', 'Field of Study',\n",
       "       'Company name', 'Job Title'],\n",
       "      dtype='object')"
      ]
     },
     "execution_count": 23,
     "metadata": {},
     "output_type": "execute_result"
    }
   ],
   "source": [
    "df.columns "
   ]
  },
  {
   "cell_type": "code",
   "execution_count": 24,
   "metadata": {},
   "outputs": [
    {
     "name": "stdout",
     "output_type": "stream",
     "text": [
      "<class 'pandas.core.frame.DataFrame'>\n",
      "RangeIndex: 5 entries, 0 to 4\n",
      "Data columns (total 22 columns):\n",
      " #   Column                                  Non-Null Count  Dtype \n",
      "---  ------                                  --------------  ----- \n",
      " 0   name                                    3 non-null      object\n",
      " 1   Email address                           5 non-null      object\n",
      " 2   First Name                              5 non-null      object\n",
      " 3   Last Name                               5 non-null      object\n",
      " 4   Phone                                   5 non-null      object\n",
      " 5   Acqusition Platform                     5 non-null      object\n",
      " 6   Cohort                                  5 non-null      object\n",
      " 7   Acceptance email sent                   5 non-null      object\n",
      " 8   Accepted offer                          5 non-null      object\n",
      " 9   python Familiarization email sent       5 non-null      object\n",
      " 10  Call confirmation                       5 non-null      object\n",
      " 11  Client paid                             5 non-null      object\n",
      " 12  Amount paid                             5 non-null      int64 \n",
      " 13  Submission date                         5 non-null      object\n",
      " 14  country                                 5 non-null      object\n",
      " 15  Highest Level of education              5 non-null      object\n",
      " 16  Employment Status                       5 non-null      object\n",
      " 17  Why are you interested in this course   5 non-null      object\n",
      " 18  How do you want to attend your classes  5 non-null      object\n",
      " 19  Field of Study                          5 non-null      object\n",
      " 20  Company name                            4 non-null      object\n",
      " 21  Job Title                               4 non-null      object\n",
      "dtypes: int64(1), object(21)\n",
      "memory usage: 1008.0+ bytes\n"
     ]
    }
   ],
   "source": [
    "df.info()"
   ]
  },
  {
   "cell_type": "code",
   "execution_count": null,
   "metadata": {},
   "outputs": [],
   "source": [
    "az 900\n",
    "ai 100\n",
    "certificate issued \n",
    "Project submited \n",
    "project url "
   ]
  },
  {
   "cell_type": "code",
   "execution_count": null,
   "metadata": {},
   "outputs": [],
   "source": []
  },
  {
   "cell_type": "code",
   "execution_count": null,
   "metadata": {},
   "outputs": [],
   "source": []
  },
  {
   "cell_type": "code",
   "execution_count": null,
   "metadata": {},
   "outputs": [],
   "source": []
  },
  {
   "cell_type": "code",
   "execution_count": 15,
   "metadata": {},
   "outputs": [
    {
     "ename": "AttributeError",
     "evalue": "'list' object has no attribute 'columns'",
     "output_type": "error",
     "traceback": [
      "\u001b[1;31m---------------------------------------------------------------------------\u001b[0m",
      "\u001b[1;31mAttributeError\u001b[0m                            Traceback (most recent call last)",
      "\u001b[1;32m<ipython-input-15-ea942bf769f0>\u001b[0m in \u001b[0;36m<module>\u001b[1;34m\u001b[0m\n\u001b[1;32m----> 1\u001b[1;33m \u001b[0mdf\u001b[0m\u001b[1;33m.\u001b[0m\u001b[0mcolumns\u001b[0m\u001b[1;33m(\u001b[0m\u001b[1;33m)\u001b[0m\u001b[1;33m\u001b[0m\u001b[1;33m\u001b[0m\u001b[0m\n\u001b[0m",
      "\u001b[1;31mAttributeError\u001b[0m: 'list' object has no attribute 'columns'"
     ]
    }
   ],
   "source": []
  },
  {
   "cell_type": "code",
   "execution_count": null,
   "metadata": {},
   "outputs": [],
   "source": []
  },
  {
   "cell_type": "code",
   "execution_count": null,
   "metadata": {},
   "outputs": [],
   "source": []
  },
  {
   "cell_type": "code",
   "execution_count": null,
   "metadata": {},
   "outputs": [],
   "source": []
  },
  {
   "cell_type": "code",
   "execution_count": null,
   "metadata": {},
   "outputs": [],
   "source": []
  },
  {
   "cell_type": "code",
   "execution_count": null,
   "metadata": {},
   "outputs": [],
   "source": []
  },
  {
   "cell_type": "code",
   "execution_count": null,
   "metadata": {},
   "outputs": [],
   "source": []
  }
 ],
 "metadata": {
  "kernelspec": {
   "display_name": "Python 3",
   "language": "python",
   "name": "python3"
  },
  "language_info": {
   "codemirror_mode": {
    "name": "ipython",
    "version": 3
   },
   "file_extension": ".py",
   "mimetype": "text/x-python",
   "name": "python",
   "nbconvert_exporter": "python",
   "pygments_lexer": "ipython3",
   "version": "3.7.6"
  }
 },
 "nbformat": 4,
 "nbformat_minor": 4
}
