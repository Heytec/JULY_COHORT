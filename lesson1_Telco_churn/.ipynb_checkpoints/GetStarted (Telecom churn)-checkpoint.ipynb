{
 "cells": [
  {
   "cell_type": "markdown",
   "metadata": {},
   "source": [
    "# Problem\n",
    "  * Focused customer retention programs\n",
    "\n",
    "# data \n",
    "https://www.kaggle.com/abhishek2602/appdata10\n",
    "\n",
    "# Evaluation  metric \n",
    "\n",
    "# features\n",
    "\n",
    "# Modelling\n",
    "\n",
    "# experiment "
   ]
  },
  {
   "cell_type": "code",
   "execution_count": null,
   "metadata": {},
   "outputs": [],
   "source": []
  }
 ],
 "metadata": {
  "kernelspec": {
   "display_name": "Python 3",
   "language": "python",
   "name": "python3"
  },
  "language_info": {
   "codemirror_mode": {
    "name": "ipython",
    "version": 3
   },
   "file_extension": ".py",
   "mimetype": "text/x-python",
   "name": "python",
   "nbconvert_exporter": "python",
   "pygments_lexer": "ipython3",
   "version": "3.7.6"
  }
 },
 "nbformat": 4,
 "nbformat_minor": 4
}
