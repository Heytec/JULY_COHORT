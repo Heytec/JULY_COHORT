{
 "cells": [
  {
   "cell_type": "code",
   "execution_count": 56,
   "metadata": {},
   "outputs": [],
   "source": [
    "import pandas as pd"
   ]
  },
  {
   "cell_type": "code",
   "execution_count": 57,
   "metadata": {},
   "outputs": [],
   "source": [
    "df=pd.read_csv('diabetes.csv')"
   ]
  },
  {
   "cell_type": "code",
   "execution_count": 58,
   "metadata": {},
   "outputs": [
    {
     "data": {
      "text/html": [
       "<div>\n",
       "<style scoped>\n",
       "    .dataframe tbody tr th:only-of-type {\n",
       "        vertical-align: middle;\n",
       "    }\n",
       "\n",
       "    .dataframe tbody tr th {\n",
       "        vertical-align: top;\n",
       "    }\n",
       "\n",
       "    .dataframe thead th {\n",
       "        text-align: right;\n",
       "    }\n",
       "</style>\n",
       "<table border=\"1\" class=\"dataframe\">\n",
       "  <thead>\n",
       "    <tr style=\"text-align: right;\">\n",
       "      <th></th>\n",
       "      <th>Pregnancies</th>\n",
       "      <th>Glucose</th>\n",
       "      <th>BloodPressure</th>\n",
       "      <th>SkinThickness</th>\n",
       "      <th>Insulin</th>\n",
       "      <th>BMI</th>\n",
       "      <th>DiabetesPedigreeFunction</th>\n",
       "      <th>Age</th>\n",
       "      <th>Outcome</th>\n",
       "      <th>Unnamed: 9</th>\n",
       "      <th>Unnamed: 10</th>\n",
       "      <th>Unnamed: 11</th>\n",
       "      <th>Unnamed: 12</th>\n",
       "    </tr>\n",
       "  </thead>\n",
       "  <tbody>\n",
       "    <tr>\n",
       "      <th>0</th>\n",
       "      <td>6</td>\n",
       "      <td>148</td>\n",
       "      <td>72</td>\n",
       "      <td>35</td>\n",
       "      <td>0</td>\n",
       "      <td>33.6</td>\n",
       "      <td>0.627</td>\n",
       "      <td>50</td>\n",
       "      <td>1</td>\n",
       "      <td>NaN</td>\n",
       "      <td>NaN</td>\n",
       "      <td>NaN</td>\n",
       "      <td>NaN</td>\n",
       "    </tr>\n",
       "    <tr>\n",
       "      <th>1</th>\n",
       "      <td>1</td>\n",
       "      <td>85</td>\n",
       "      <td>66</td>\n",
       "      <td>29</td>\n",
       "      <td>0</td>\n",
       "      <td>26.6</td>\n",
       "      <td>0.351</td>\n",
       "      <td>31</td>\n",
       "      <td>0</td>\n",
       "      <td>NaN</td>\n",
       "      <td>NaN</td>\n",
       "      <td>NaN</td>\n",
       "      <td>NaN</td>\n",
       "    </tr>\n",
       "    <tr>\n",
       "      <th>2</th>\n",
       "      <td>8</td>\n",
       "      <td>183</td>\n",
       "      <td>64</td>\n",
       "      <td>0</td>\n",
       "      <td>0</td>\n",
       "      <td>23.3</td>\n",
       "      <td>0.672</td>\n",
       "      <td>32</td>\n",
       "      <td>1</td>\n",
       "      <td>NaN</td>\n",
       "      <td>NaN</td>\n",
       "      <td>NaN</td>\n",
       "      <td>NaN</td>\n",
       "    </tr>\n",
       "    <tr>\n",
       "      <th>3</th>\n",
       "      <td>1</td>\n",
       "      <td>89</td>\n",
       "      <td>66</td>\n",
       "      <td>23</td>\n",
       "      <td>94</td>\n",
       "      <td>28.1</td>\n",
       "      <td>0.167</td>\n",
       "      <td>21</td>\n",
       "      <td>0</td>\n",
       "      <td>NaN</td>\n",
       "      <td>NaN</td>\n",
       "      <td>NaN</td>\n",
       "      <td>NaN</td>\n",
       "    </tr>\n",
       "    <tr>\n",
       "      <th>4</th>\n",
       "      <td>0</td>\n",
       "      <td>137</td>\n",
       "      <td>40</td>\n",
       "      <td>35</td>\n",
       "      <td>168</td>\n",
       "      <td>43.1</td>\n",
       "      <td>2.288</td>\n",
       "      <td>33</td>\n",
       "      <td>1</td>\n",
       "      <td>NaN</td>\n",
       "      <td>NaN</td>\n",
       "      <td>NaN</td>\n",
       "      <td>NaN</td>\n",
       "    </tr>\n",
       "  </tbody>\n",
       "</table>\n",
       "</div>"
      ],
      "text/plain": [
       "   Pregnancies  Glucose  BloodPressure  SkinThickness  Insulin   BMI  \\\n",
       "0            6      148             72             35        0  33.6   \n",
       "1            1       85             66             29        0  26.6   \n",
       "2            8      183             64              0        0  23.3   \n",
       "3            1       89             66             23       94  28.1   \n",
       "4            0      137             40             35      168  43.1   \n",
       "\n",
       "   DiabetesPedigreeFunction  Age  Outcome  Unnamed: 9 Unnamed: 10  \\\n",
       "0                     0.627   50        1         NaN         NaN   \n",
       "1                     0.351   31        0         NaN         NaN   \n",
       "2                     0.672   32        1         NaN         NaN   \n",
       "3                     0.167   21        0         NaN         NaN   \n",
       "4                     2.288   33        1         NaN         NaN   \n",
       "\n",
       "   Unnamed: 11 Unnamed: 12  \n",
       "0          NaN         NaN  \n",
       "1          NaN         NaN  \n",
       "2          NaN         NaN  \n",
       "3          NaN         NaN  \n",
       "4          NaN         NaN  "
      ]
     },
     "execution_count": 58,
     "metadata": {},
     "output_type": "execute_result"
    }
   ],
   "source": [
    "df.head()"
   ]
  },
  {
   "cell_type": "code",
   "execution_count": 59,
   "metadata": {},
   "outputs": [],
   "source": [
    "df['Pregnancies'] = pd.to_numeric(df['Pregnancies'],errors='coerce')"
   ]
  },
  {
   "cell_type": "code",
   "execution_count": 60,
   "metadata": {},
   "outputs": [],
   "source": [
    "df['Pregnancies']=df['Pregnancies'].astype('float')"
   ]
  },
  {
   "cell_type": "code",
   "execution_count": 61,
   "metadata": {},
   "outputs": [
    {
     "data": {
      "text/html": [
       "<div>\n",
       "<style scoped>\n",
       "    .dataframe tbody tr th:only-of-type {\n",
       "        vertical-align: middle;\n",
       "    }\n",
       "\n",
       "    .dataframe tbody tr th {\n",
       "        vertical-align: top;\n",
       "    }\n",
       "\n",
       "    .dataframe thead th {\n",
       "        text-align: right;\n",
       "    }\n",
       "</style>\n",
       "<table border=\"1\" class=\"dataframe\">\n",
       "  <thead>\n",
       "    <tr style=\"text-align: right;\">\n",
       "      <th></th>\n",
       "      <th>Pregnancies</th>\n",
       "      <th>Glucose</th>\n",
       "      <th>BloodPressure</th>\n",
       "      <th>SkinThickness</th>\n",
       "      <th>Insulin</th>\n",
       "      <th>BMI</th>\n",
       "      <th>DiabetesPedigreeFunction</th>\n",
       "      <th>Age</th>\n",
       "      <th>Outcome</th>\n",
       "      <th>Unnamed: 9</th>\n",
       "      <th>Unnamed: 10</th>\n",
       "      <th>Unnamed: 11</th>\n",
       "      <th>Unnamed: 12</th>\n",
       "    </tr>\n",
       "  </thead>\n",
       "  <tbody>\n",
       "    <tr>\n",
       "      <th>0</th>\n",
       "      <td>6.0</td>\n",
       "      <td>148</td>\n",
       "      <td>72</td>\n",
       "      <td>35</td>\n",
       "      <td>0</td>\n",
       "      <td>33.6</td>\n",
       "      <td>0.627</td>\n",
       "      <td>50</td>\n",
       "      <td>1</td>\n",
       "      <td>NaN</td>\n",
       "      <td>NaN</td>\n",
       "      <td>NaN</td>\n",
       "      <td>NaN</td>\n",
       "    </tr>\n",
       "    <tr>\n",
       "      <th>1</th>\n",
       "      <td>1.0</td>\n",
       "      <td>85</td>\n",
       "      <td>66</td>\n",
       "      <td>29</td>\n",
       "      <td>0</td>\n",
       "      <td>26.6</td>\n",
       "      <td>0.351</td>\n",
       "      <td>31</td>\n",
       "      <td>0</td>\n",
       "      <td>NaN</td>\n",
       "      <td>NaN</td>\n",
       "      <td>NaN</td>\n",
       "      <td>NaN</td>\n",
       "    </tr>\n",
       "    <tr>\n",
       "      <th>2</th>\n",
       "      <td>8.0</td>\n",
       "      <td>183</td>\n",
       "      <td>64</td>\n",
       "      <td>0</td>\n",
       "      <td>0</td>\n",
       "      <td>23.3</td>\n",
       "      <td>0.672</td>\n",
       "      <td>32</td>\n",
       "      <td>1</td>\n",
       "      <td>NaN</td>\n",
       "      <td>NaN</td>\n",
       "      <td>NaN</td>\n",
       "      <td>NaN</td>\n",
       "    </tr>\n",
       "    <tr>\n",
       "      <th>3</th>\n",
       "      <td>1.0</td>\n",
       "      <td>89</td>\n",
       "      <td>66</td>\n",
       "      <td>23</td>\n",
       "      <td>94</td>\n",
       "      <td>28.1</td>\n",
       "      <td>0.167</td>\n",
       "      <td>21</td>\n",
       "      <td>0</td>\n",
       "      <td>NaN</td>\n",
       "      <td>NaN</td>\n",
       "      <td>NaN</td>\n",
       "      <td>NaN</td>\n",
       "    </tr>\n",
       "    <tr>\n",
       "      <th>4</th>\n",
       "      <td>0.0</td>\n",
       "      <td>137</td>\n",
       "      <td>40</td>\n",
       "      <td>35</td>\n",
       "      <td>168</td>\n",
       "      <td>43.1</td>\n",
       "      <td>2.288</td>\n",
       "      <td>33</td>\n",
       "      <td>1</td>\n",
       "      <td>NaN</td>\n",
       "      <td>NaN</td>\n",
       "      <td>NaN</td>\n",
       "      <td>NaN</td>\n",
       "    </tr>\n",
       "  </tbody>\n",
       "</table>\n",
       "</div>"
      ],
      "text/plain": [
       "   Pregnancies  Glucose  BloodPressure  SkinThickness  Insulin   BMI  \\\n",
       "0          6.0      148             72             35        0  33.6   \n",
       "1          1.0       85             66             29        0  26.6   \n",
       "2          8.0      183             64              0        0  23.3   \n",
       "3          1.0       89             66             23       94  28.1   \n",
       "4          0.0      137             40             35      168  43.1   \n",
       "\n",
       "   DiabetesPedigreeFunction  Age  Outcome  Unnamed: 9 Unnamed: 10  \\\n",
       "0                     0.627   50        1         NaN         NaN   \n",
       "1                     0.351   31        0         NaN         NaN   \n",
       "2                     0.672   32        1         NaN         NaN   \n",
       "3                     0.167   21        0         NaN         NaN   \n",
       "4                     2.288   33        1         NaN         NaN   \n",
       "\n",
       "   Unnamed: 11 Unnamed: 12  \n",
       "0          NaN         NaN  \n",
       "1          NaN         NaN  \n",
       "2          NaN         NaN  \n",
       "3          NaN         NaN  \n",
       "4          NaN         NaN  "
      ]
     },
     "execution_count": 61,
     "metadata": {},
     "output_type": "execute_result"
    }
   ],
   "source": [
    "\n",
    "X = df.iloc[:,:-1].values \n",
    "y = df.iloc[:,8].values\n",
    "df.head()"
   ]
  },
  {
   "cell_type": "code",
   "execution_count": 62,
   "metadata": {},
   "outputs": [
    {
     "data": {
      "text/plain": [
       "0"
      ]
     },
     "execution_count": 62,
     "metadata": {},
     "output_type": "execute_result"
    }
   ],
   "source": [
    "df['Pregnancies'].isnull().sum()"
   ]
  },
  {
   "cell_type": "code",
   "execution_count": 63,
   "metadata": {},
   "outputs": [
    {
     "data": {
      "text/plain": [
       "0       6.0\n",
       "1       1.0\n",
       "2       8.0\n",
       "3       1.0\n",
       "4       0.0\n",
       "5       5.0\n",
       "6       3.0\n",
       "7      10.0\n",
       "8       2.0\n",
       "9       8.0\n",
       "10      4.0\n",
       "11     10.0\n",
       "12     10.0\n",
       "13      1.0\n",
       "14      5.0\n",
       "15      7.0\n",
       "16      0.0\n",
       "17      7.0\n",
       "18      1.0\n",
       "19      1.0\n",
       "20      3.0\n",
       "21      8.0\n",
       "22      7.0\n",
       "23      9.0\n",
       "24     11.0\n",
       "25     10.0\n",
       "26      7.0\n",
       "27      1.0\n",
       "28     13.0\n",
       "29      5.0\n",
       "       ... \n",
       "738     2.0\n",
       "739     1.0\n",
       "740    11.0\n",
       "741     3.0\n",
       "742     1.0\n",
       "743     9.0\n",
       "744    13.0\n",
       "745    12.0\n",
       "746     1.0\n",
       "747     1.0\n",
       "748     3.0\n",
       "749     6.0\n",
       "750     4.0\n",
       "751     1.0\n",
       "752     3.0\n",
       "753     0.0\n",
       "754     8.0\n",
       "755     1.0\n",
       "756     7.0\n",
       "757     0.0\n",
       "758     1.0\n",
       "759     6.0\n",
       "760     2.0\n",
       "761     9.0\n",
       "762     9.0\n",
       "763    10.0\n",
       "764     2.0\n",
       "765     5.0\n",
       "766     1.0\n",
       "767     1.0\n",
       "Name: Pregnancies, Length: 768, dtype: float64"
      ]
     },
     "execution_count": 63,
     "metadata": {},
     "output_type": "execute_result"
    }
   ],
   "source": [
    "df['Pregnancies']"
   ]
  },
  {
   "cell_type": "code",
   "execution_count": 1,
   "metadata": {},
   "outputs": [
    {
     "ename": "NameError",
     "evalue": "name 'df' is not defined",
     "output_type": "error",
     "traceback": [
      "\u001b[1;31m---------------------------------------------------------------------------\u001b[0m",
      "\u001b[1;31mNameError\u001b[0m                                 Traceback (most recent call last)",
      "\u001b[1;32m<ipython-input-1-f85aeda0711a>\u001b[0m in \u001b[0;36m<module>\u001b[1;34m\u001b[0m\n\u001b[1;32m----> 1\u001b[1;33m \u001b[0mdf\u001b[0m\u001b[1;33m[\u001b[0m\u001b[1;34m'Pregnancies'\u001b[0m\u001b[1;33m]\u001b[0m\u001b[1;33m=\u001b[0m\u001b[0mdf\u001b[0m\u001b[1;33m[\u001b[0m\u001b[1;34m'Pregnancies'\u001b[0m\u001b[1;33m]\u001b[0m\u001b[1;33m.\u001b[0m\u001b[0mastype\u001b[0m\u001b[1;33m(\u001b[0m\u001b[1;34m'int32'\u001b[0m\u001b[1;33m)\u001b[0m\u001b[1;33m\u001b[0m\u001b[1;33m\u001b[0m\u001b[0m\n\u001b[0m\u001b[0;32m      2\u001b[0m \u001b[0mdf\u001b[0m\u001b[1;33m.\u001b[0m\u001b[0mdrop\u001b[0m\u001b[1;33m(\u001b[0m\u001b[0mdf\u001b[0m\u001b[1;33m[\u001b[0m\u001b[1;34m'Pregnancies'\u001b[0m\u001b[1;33m]\u001b[0m\u001b[1;33m)\u001b[0m\u001b[1;33m\u001b[0m\u001b[1;33m\u001b[0m\u001b[0m\n",
      "\u001b[1;31mNameError\u001b[0m: name 'df' is not defined"
     ]
    }
   ],
   "source": [
    "df['Pregnancies']=df['Pregnancies'].astype('int32')\n",
    "df.drop(df['Pregnancies'])"
   ]
  },
  {
   "cell_type": "code",
   "execution_count": 65,
   "metadata": {},
   "outputs": [
    {
     "data": {
      "text/plain": [
       "array([[6.0, 148, 72, ..., nan, nan, nan],\n",
       "       [1.0, 85, 66, ..., nan, nan, nan],\n",
       "       [8.0, 183, 64, ..., nan, nan, nan],\n",
       "       ...,\n",
       "       [5.0, 121, 72, ..., nan, nan, nan],\n",
       "       [1.0, 126, 60, ..., nan, nan, nan],\n",
       "       [1.0, 93, 70, ..., nan, nan, nan]], dtype=object)"
      ]
     },
     "execution_count": 65,
     "metadata": {},
     "output_type": "execute_result"
    }
   ],
   "source": [
    "X"
   ]
  },
  {
   "cell_type": "code",
   "execution_count": 66,
   "metadata": {},
   "outputs": [
    {
     "data": {
      "text/plain": [
       "array([1, 0, 1, 0, 1, 0, 1, 0, 1, 1, 0, 1, 0, 1, 1, 1, 1, 1, 0, 1, 0, 0,\n",
       "       1, 1, 1, 1, 1, 0, 0, 0, 0, 1, 0, 0, 0, 0, 0, 1, 1, 1, 0, 0, 0, 1,\n",
       "       0, 1, 0, 0, 1, 0, 0, 0, 0, 1, 0, 0, 1, 0, 0, 0, 0, 1, 0, 0, 1, 0,\n",
       "       1, 0, 0, 0, 1, 0, 1, 0, 0, 0, 0, 0, 1, 0, 0, 0, 0, 0, 1, 0, 0, 0,\n",
       "       1, 0, 0, 0, 0, 1, 0, 0, 0, 0, 0, 1, 1, 0, 0, 0, 0, 0, 0, 0, 0, 1,\n",
       "       1, 1, 0, 0, 1, 1, 1, 0, 0, 0, 1, 0, 0, 0, 1, 1, 0, 0, 1, 1, 1, 1,\n",
       "       1, 0, 0, 0, 0, 0, 0, 0, 0, 0, 0, 1, 0, 0, 0, 0, 0, 0, 0, 0, 1, 0,\n",
       "       1, 1, 0, 0, 0, 1, 0, 0, 0, 0, 1, 1, 0, 0, 0, 0, 1, 1, 0, 0, 0, 1,\n",
       "       0, 1, 0, 1, 0, 0, 0, 0, 0, 1, 1, 1, 1, 1, 0, 0, 1, 1, 0, 1, 0, 1,\n",
       "       1, 1, 0, 0, 0, 0, 0, 0, 1, 1, 0, 1, 0, 0, 0, 1, 1, 1, 1, 0, 1, 1,\n",
       "       1, 1, 0, 0, 0, 0, 0, 1, 0, 0, 1, 1, 0, 0, 0, 1, 1, 1, 1, 0, 0, 0,\n",
       "       1, 1, 0, 1, 0, 0, 0, 0, 0, 0, 0, 0, 1, 1, 0, 0, 0, 1, 0, 1, 0, 0,\n",
       "       1, 0, 1, 0, 0, 1, 1, 0, 0, 0, 0, 0, 1, 0, 0, 0, 1, 0, 0, 1, 1, 0,\n",
       "       0, 1, 0, 0, 0, 1, 1, 1, 0, 0, 1, 0, 1, 0, 1, 1, 0, 1, 0, 0, 1, 0,\n",
       "       1, 1, 0, 0, 1, 0, 1, 0, 0, 1, 0, 1, 0, 1, 1, 1, 0, 0, 1, 0, 1, 0,\n",
       "       0, 0, 1, 0, 0, 0, 0, 1, 1, 1, 0, 0, 0, 0, 0, 0, 0, 0, 0, 1, 0, 0,\n",
       "       0, 0, 0, 1, 1, 1, 0, 1, 1, 0, 0, 1, 0, 0, 1, 0, 0, 1, 1, 0, 0, 0,\n",
       "       0, 1, 0, 0, 1, 0, 0, 0, 0, 0, 0, 0, 1, 1, 1, 0, 0, 1, 0, 0, 1, 0,\n",
       "       0, 1, 0, 1, 1, 0, 1, 0, 1, 0, 1, 0, 1, 1, 0, 0, 0, 0, 1, 1, 0, 1,\n",
       "       0, 1, 0, 0, 0, 0, 1, 1, 0, 1, 0, 1, 0, 0, 0, 0, 0, 1, 0, 0, 0, 0,\n",
       "       1, 0, 0, 1, 1, 1, 0, 0, 1, 0, 0, 1, 0, 0, 0, 1, 0, 0, 1, 0, 0, 0,\n",
       "       0, 0, 0, 0, 0, 0, 1, 0, 0, 0, 0, 0, 0, 0, 1, 0, 0, 0, 1, 0, 0, 0,\n",
       "       1, 1, 0, 0, 0, 0, 0, 0, 0, 1, 0, 0, 0, 0, 1, 0, 0, 0, 1, 0, 0, 0,\n",
       "       1, 0, 0, 0, 1, 0, 0, 0, 0, 1, 1, 0, 0, 0, 0, 0, 0, 1, 0, 0, 0, 0,\n",
       "       0, 0, 0, 0, 0, 0, 0, 1, 0, 0, 0, 1, 1, 1, 1, 0, 0, 1, 1, 0, 0, 0,\n",
       "       0, 0, 0, 0, 0, 0, 0, 0, 0, 0, 1, 1, 0, 0, 0, 0, 0, 0, 0, 1, 0, 0,\n",
       "       0, 0, 0, 0, 0, 1, 0, 1, 1, 0, 0, 0, 1, 0, 1, 0, 1, 0, 1, 0, 1, 0,\n",
       "       0, 1, 0, 0, 1, 0, 0, 0, 0, 1, 1, 0, 1, 0, 0, 0, 0, 1, 1, 0, 1, 0,\n",
       "       0, 0, 1, 1, 0, 0, 0, 0, 0, 0, 0, 0, 0, 0, 1, 0, 0, 0, 0, 1, 0, 0,\n",
       "       1, 0, 0, 0, 1, 0, 0, 0, 1, 1, 1, 0, 0, 0, 0, 0, 0, 1, 0, 0, 0, 1,\n",
       "       0, 1, 1, 1, 1, 0, 1, 1, 0, 0, 0, 0, 0, 0, 0, 1, 1, 0, 1, 0, 0, 1,\n",
       "       0, 1, 0, 0, 0, 0, 0, 1, 0, 1, 0, 1, 0, 1, 1, 0, 0, 0, 0, 1, 1, 0,\n",
       "       0, 0, 1, 0, 1, 1, 0, 0, 1, 0, 0, 1, 1, 0, 0, 1, 0, 0, 1, 0, 0, 0,\n",
       "       0, 0, 0, 0, 1, 1, 1, 0, 0, 0, 0, 0, 0, 1, 1, 0, 0, 1, 0, 0, 1, 0,\n",
       "       1, 1, 1, 0, 0, 1, 1, 1, 0, 1, 0, 1, 0, 1, 0, 0, 0, 0, 1, 0],\n",
       "      dtype=int64)"
      ]
     },
     "execution_count": 66,
     "metadata": {},
     "output_type": "execute_result"
    }
   ],
   "source": [
    "y"
   ]
  },
  {
   "cell_type": "code",
   "execution_count": 67,
   "metadata": {},
   "outputs": [],
   "source": [
    "from sklearn.model_selection import train_test_split\n",
    "X_train, X_test, y_train, y_test = train_test_split(X, y, test_size = 0.2)"
   ]
  },
  {
   "cell_type": "code",
   "execution_count": 68,
   "metadata": {},
   "outputs": [
    {
     "data": {
      "text/plain": [
       "array([[1.0, 112, 72, ..., nan, nan, nan],\n",
       "       [3.0, 130, 78, ..., nan, nan, nan],\n",
       "       [7.0, 147, 76, ..., nan, nan, nan],\n",
       "       ...,\n",
       "       [7.0, 150, 66, ..., nan, nan, nan],\n",
       "       [1.0, 71, 78, ..., nan, nan, nan],\n",
       "       [9.0, 102, 76, ..., nan, nan, nan]], dtype=object)"
      ]
     },
     "execution_count": 68,
     "metadata": {},
     "output_type": "execute_result"
    }
   ],
   "source": [
    "X_train"
   ]
  },
  {
   "cell_type": "code",
   "execution_count": 69,
   "metadata": {},
   "outputs": [
    {
     "data": {
      "text/plain": [
       "array([1, 0, 0, 1, 1, 1, 1, 0, 0, 0, 0, 1, 0, 1, 1, 0, 0, 1, 0, 1, 1, 0,\n",
       "       1, 0, 1, 1, 0, 1, 0, 1, 0, 0, 0, 0, 0, 0, 1, 0, 0, 1, 0, 1, 0, 0,\n",
       "       0, 1, 1, 1, 1, 0, 1, 0, 0, 1, 1, 1, 0, 1, 0, 1, 1, 0, 1, 0, 1, 0,\n",
       "       1, 1, 0, 0, 1, 0, 1, 1, 0, 0, 1, 0, 0, 1, 0, 0, 0, 1, 1, 0, 0, 0,\n",
       "       0, 0, 0, 0, 0, 0, 0, 0, 1, 0, 0, 0, 1, 0, 1, 1, 0, 1, 1, 0, 1, 0,\n",
       "       0, 0, 1, 1, 1, 1, 0, 0, 0, 1, 1, 0, 0, 1, 0, 0, 1, 1, 1, 1, 0, 0,\n",
       "       0, 0, 1, 0, 1, 0, 0, 1, 1, 0, 0, 0, 1, 1, 0, 1, 1, 1, 1, 0, 1, 0],\n",
       "      dtype=int64)"
      ]
     },
     "execution_count": 69,
     "metadata": {},
     "output_type": "execute_result"
    }
   ],
   "source": [
    "y_test"
   ]
  },
  {
   "cell_type": "code",
   "execution_count": 73,
   "metadata": {},
   "outputs": [
    {
     "data": {
      "text/plain": [
       "array([1.0, 3.0, 7.0, 1.0, 4.0, 4.0, 12.0, 1.0, 3.0, 9.0, 2.0, 1.0, 3.0,\n",
       "       5.0, 5.0, 2.0, 5.0, 6.0, 4.0, 1.0, 4.0, 2.0, 1.0, 7.0, 0.0, 8.0,\n",
       "       11.0, 2.0, 0.0, 3.0, 6.0, 3.0, 10.0, 0.0, 0.0, 0.0, 4.0, 8.0, 1.0,\n",
       "       2.0, 1.0, 0.0, 2.0, 0.0, 7.0, 2.0, 4.0, 1.0, 4.0, 3.0, 7.0, 3.0,\n",
       "       0.0, 6.0, 1.0, 1.0, 5.0, 7.0, 13.0, 4.0, 1.0, 6.0, 6.0, 2.0, 0.0,\n",
       "       9.0, 3.0, 4.0, 0.0, 4.0, 3.0, 2.0, 4.0, 5.0, 10.0, 8.0, 6.0, 6.0,\n",
       "       3.0, 0.0, 1.0, 4.0, 8.0, 10.0, 0.0, 0.0, 11.0, 13.0, 7.0, 2.0, 1.0,\n",
       "       5.0, 4.0, 0.0, 2.0, 1.0, 5.0, 4.0, 0.0, 0.0, 10.0, 0.0, 3.0, 4.0,\n",
       "       3.0, 1.0, 0.0, 5.0, 9.0, 10.0, 10.0, 6.0, 4.0, 11.0, 3.0, 9.0, 0.0,\n",
       "       5.0, 2.0, 7.0, 2.0, 8.0, 0.0, 7.0, 0.0, 2.0, 0.0, 4.0, 1.0, 0.0,\n",
       "       12.0, 0.0, 3.0, 2.0, 4.0, 2.0, 4.0, 4.0, 1.0, 6.0, 3.0, 8.0, 4.0,\n",
       "       4.0, 8.0, 1.0, 0.0, 0.0, 2.0, 13.0, 12.0, 3.0, 1.0, 1.0, 8.0, 1.0,\n",
       "       0.0, 7.0, 2.0, 5.0, 9.0, 8.0, 1.0, 0.0, 7.0, 1.0, 1.0, 5.0, 7.0,\n",
       "       7.0, 5.0, 2.0, 0.0, 2.0, 6.0, 3.0, 5.0, 4.0, 2.0, 14.0, 2.0, 1.0,\n",
       "       4.0, 13.0, 1.0, 1.0, 1.0, 2.0, 2.0, 7.0, 0.0, 0.0, 1.0, 3.0, 5.0,\n",
       "       2.0, 6.0, 3.0, 2.0, 9.0, 2.0, 4.0, 0.0, 5.0, 6.0, 1.0, 6.0, 4.0,\n",
       "       10.0, 0.0, 4.0, 4.0, 1.0, 4.0, 2.0, 0.0, 6.0, 2.0, 4.0, 5.0, 0.0,\n",
       "       1.0, 1.0, 2.0, 1.0, 3.0, 5.0, 0.0, 8.0, 9.0, 8.0, 8.0, 1.0, 8.0,\n",
       "       1.0, 2.0, 0.0, 0.0, 5.0, 2.0, 1.0, 3.0, 4.0, 7.0, 8.0, 4.0, 1.0,\n",
       "       1.0, 2.0, 2.0, 2.0, 2.0, 3.0, 7.0, 0.0, 2.0, 11.0, 0.0, 4.0, 3.0,\n",
       "       2.0, 7.0, 1.0, 1.0, 5.0, 1.0, 4.0, 4.0, 8.0, 6.0, 5.0, 1.0, 7.0,\n",
       "       3.0, 6.0, 13.0, 3.0, 6.0, 4.0, 3.0, 1.0, 3.0, 3.0, 7.0, 12.0, 1.0,\n",
       "       0.0, 1.0, 2.0, 8.0, 0.0, 3.0, 6.0, 9.0, 3.0, 3.0, 0.0, 2.0, 5.0,\n",
       "       1.0, 1.0, 1.0, 3.0, 4.0, 8.0, 1.0, 4.0, 1.0, 0.0, 0.0, 2.0, 3.0,\n",
       "       1.0, 10.0, 1.0, 4.0, 3.0, 7.0, 8.0, 1.0, 8.0, 0.0, 6.0, 4.0, 7.0,\n",
       "       2.0, 13.0, 2.0, 7.0, 1.0, 6.0, 1.0, 7.0, 2.0, 3.0, 3.0, 3.0, 2.0,\n",
       "       2.0, 2.0, 1.0, 1.0, 9.0, 5.0, 6.0, 1.0, 1.0, 5.0, 1.0, 6.0, 2.0,\n",
       "       3.0, 6.0, 0.0, 9.0, 9.0, 1.0, 7.0, 3.0, 2.0, 0.0, 2.0, 1.0, 5.0,\n",
       "       8.0, 0.0, 1.0, 2.0, 7.0, 4.0, 1.0, 2.0, 1.0, 3.0, 1.0, 7.0, 9.0,\n",
       "       1.0, 2.0, 0.0, 8.0, 3.0, 2.0, 10.0, 1.0, 0.0, 8.0, 7.0, 5.0, 1.0,\n",
       "       6.0, 8.0, 8.0, 0.0, 1.0, 4.0, 2.0, 3.0, 6.0, 0.0, 8.0, 7.0, 1.0,\n",
       "       4.0, 4.0, 6.0, 10.0, 2.0, 5.0, 0.0, 8.0, 4.0, 1.0, 0.0, 6.0, 3.0,\n",
       "       11.0, 1.0, 10.0, 0.0, 3.0, 0.0, 0.0, 1.0, 2.0, 0.0, 5.0, 7.0, 5.0,\n",
       "       1.0, 5.0, 12.0, 2.0, 4.0, 2.0, 0.0, 2.0, 2.0, 7.0, 6.0, 0.0, 5.0,\n",
       "       2.0, 6.0, 4.0, 5.0, 1.0, 11.0, 1.0, 0.0, 2.0, 1.0, 0.0, 4.0, 6.0,\n",
       "       5.0, 0.0, 0.0, 2.0, 6.0, 2.0, 1.0, 3.0, 0.0, 11.0, 5.0, 2.0, 1.0,\n",
       "       7.0, 2.0, 3.0, 3.0, 2.0, 1.0, 1.0, 1.0, 3.0, 6.0, 0.0, 3.0, 3.0,\n",
       "       5.0, 1.0, 3.0, 9.0, 0.0, 8.0, 11.0, 5.0, 9.0, 2.0, 2.0, 0.0, 0.0,\n",
       "       5.0, 2.0, 11.0, 3.0, 2.0, 9.0, 0.0, 0.0, 1.0, 0.0, 1.0, 1.0, 10.0,\n",
       "       0.0, 8.0, 3.0, 6.0, 3.0, 1.0, 5.0, 2.0, 2.0, 5.0, 10.0, 9.0, 11.0,\n",
       "       9.0, 9.0, 0.0, 2.0, 4.0, 4.0, 0.0, 10.0, 3.0, 3.0, 0.0, 1.0, 2.0,\n",
       "       2.0, 1.0, 1.0, 6.0, 7.0, 0.0, 6.0, 1.0, 0.0, 5.0, 7.0, 1.0, 5.0,\n",
       "       9.0, 8.0, 14.0, 7.0, 3.0, 10.0, 12.0, 2.0, 0.0, 2.0, 1.0, 0.0, 5.0,\n",
       "       1.0, 1.0, 4.0, 0.0, 2.0, 7.0, 1.0, 4.0, 7.0, 8.0, 9.0, 5.0, 7.0,\n",
       "       4.0, 1.0, 0.0, 1.0, 3.0, 7.0, 1.0, 2.0, 3.0, 10.0, 1.0, 10.0, 1.0,\n",
       "       3.0, 1.0, 4.0, 9.0, 10.0, 6.0, 2.0, 10.0, 4.0, 2.0, 0.0, 8.0, 3.0,\n",
       "       1.0, 2.0, 9.0, 3.0, 1.0, 6.0, 10.0, 5.0, 6.0, 9.0, 0.0, 5.0, 5.0,\n",
       "       7.0, 1.0, 9.0], dtype=object)"
      ]
     },
     "execution_count": 73,
     "metadata": {},
     "output_type": "execute_result"
    }
   ],
   "source": [
    "X_train[:,0]"
   ]
  },
  {
   "cell_type": "code",
   "execution_count": 74,
   "metadata": {},
   "outputs": [],
   "source": [
    "X_train[:,0]=X_train[:,0].astype('float')"
   ]
  },
  {
   "cell_type": "code",
   "execution_count": 76,
   "metadata": {},
   "outputs": [
    {
     "data": {
      "text/plain": [
       "array([1.0, 3.0, 7.0, 1.0, 4.0, 4.0, 12.0, 1.0, 3.0, 9.0, 2.0, 1.0, 3.0,\n",
       "       5.0, 5.0, 2.0, 5.0, 6.0, 4.0, 1.0, 4.0, 2.0, 1.0, 7.0, 0.0, 8.0,\n",
       "       11.0, 2.0, 0.0, 3.0, 6.0, 3.0, 10.0, 0.0, 0.0, 0.0, 4.0, 8.0, 1.0,\n",
       "       2.0, 1.0, 0.0, 2.0, 0.0, 7.0, 2.0, 4.0, 1.0, 4.0, 3.0, 7.0, 3.0,\n",
       "       0.0, 6.0, 1.0, 1.0, 5.0, 7.0, 13.0, 4.0, 1.0, 6.0, 6.0, 2.0, 0.0,\n",
       "       9.0, 3.0, 4.0, 0.0, 4.0, 3.0, 2.0, 4.0, 5.0, 10.0, 8.0, 6.0, 6.0,\n",
       "       3.0, 0.0, 1.0, 4.0, 8.0, 10.0, 0.0, 0.0, 11.0, 13.0, 7.0, 2.0, 1.0,\n",
       "       5.0, 4.0, 0.0, 2.0, 1.0, 5.0, 4.0, 0.0, 0.0, 10.0, 0.0, 3.0, 4.0,\n",
       "       3.0, 1.0, 0.0, 5.0, 9.0, 10.0, 10.0, 6.0, 4.0, 11.0, 3.0, 9.0, 0.0,\n",
       "       5.0, 2.0, 7.0, 2.0, 8.0, 0.0, 7.0, 0.0, 2.0, 0.0, 4.0, 1.0, 0.0,\n",
       "       12.0, 0.0, 3.0, 2.0, 4.0, 2.0, 4.0, 4.0, 1.0, 6.0, 3.0, 8.0, 4.0,\n",
       "       4.0, 8.0, 1.0, 0.0, 0.0, 2.0, 13.0, 12.0, 3.0, 1.0, 1.0, 8.0, 1.0,\n",
       "       0.0, 7.0, 2.0, 5.0, 9.0, 8.0, 1.0, 0.0, 7.0, 1.0, 1.0, 5.0, 7.0,\n",
       "       7.0, 5.0, 2.0, 0.0, 2.0, 6.0, 3.0, 5.0, 4.0, 2.0, 14.0, 2.0, 1.0,\n",
       "       4.0, 13.0, 1.0, 1.0, 1.0, 2.0, 2.0, 7.0, 0.0, 0.0, 1.0, 3.0, 5.0,\n",
       "       2.0, 6.0, 3.0, 2.0, 9.0, 2.0, 4.0, 0.0, 5.0, 6.0, 1.0, 6.0, 4.0,\n",
       "       10.0, 0.0, 4.0, 4.0, 1.0, 4.0, 2.0, 0.0, 6.0, 2.0, 4.0, 5.0, 0.0,\n",
       "       1.0, 1.0, 2.0, 1.0, 3.0, 5.0, 0.0, 8.0, 9.0, 8.0, 8.0, 1.0, 8.0,\n",
       "       1.0, 2.0, 0.0, 0.0, 5.0, 2.0, 1.0, 3.0, 4.0, 7.0, 8.0, 4.0, 1.0,\n",
       "       1.0, 2.0, 2.0, 2.0, 2.0, 3.0, 7.0, 0.0, 2.0, 11.0, 0.0, 4.0, 3.0,\n",
       "       2.0, 7.0, 1.0, 1.0, 5.0, 1.0, 4.0, 4.0, 8.0, 6.0, 5.0, 1.0, 7.0,\n",
       "       3.0, 6.0, 13.0, 3.0, 6.0, 4.0, 3.0, 1.0, 3.0, 3.0, 7.0, 12.0, 1.0,\n",
       "       0.0, 1.0, 2.0, 8.0, 0.0, 3.0, 6.0, 9.0, 3.0, 3.0, 0.0, 2.0, 5.0,\n",
       "       1.0, 1.0, 1.0, 3.0, 4.0, 8.0, 1.0, 4.0, 1.0, 0.0, 0.0, 2.0, 3.0,\n",
       "       1.0, 10.0, 1.0, 4.0, 3.0, 7.0, 8.0, 1.0, 8.0, 0.0, 6.0, 4.0, 7.0,\n",
       "       2.0, 13.0, 2.0, 7.0, 1.0, 6.0, 1.0, 7.0, 2.0, 3.0, 3.0, 3.0, 2.0,\n",
       "       2.0, 2.0, 1.0, 1.0, 9.0, 5.0, 6.0, 1.0, 1.0, 5.0, 1.0, 6.0, 2.0,\n",
       "       3.0, 6.0, 0.0, 9.0, 9.0, 1.0, 7.0, 3.0, 2.0, 0.0, 2.0, 1.0, 5.0,\n",
       "       8.0, 0.0, 1.0, 2.0, 7.0, 4.0, 1.0, 2.0, 1.0, 3.0, 1.0, 7.0, 9.0,\n",
       "       1.0, 2.0, 0.0, 8.0, 3.0, 2.0, 10.0, 1.0, 0.0, 8.0, 7.0, 5.0, 1.0,\n",
       "       6.0, 8.0, 8.0, 0.0, 1.0, 4.0, 2.0, 3.0, 6.0, 0.0, 8.0, 7.0, 1.0,\n",
       "       4.0, 4.0, 6.0, 10.0, 2.0, 5.0, 0.0, 8.0, 4.0, 1.0, 0.0, 6.0, 3.0,\n",
       "       11.0, 1.0, 10.0, 0.0, 3.0, 0.0, 0.0, 1.0, 2.0, 0.0, 5.0, 7.0, 5.0,\n",
       "       1.0, 5.0, 12.0, 2.0, 4.0, 2.0, 0.0, 2.0, 2.0, 7.0, 6.0, 0.0, 5.0,\n",
       "       2.0, 6.0, 4.0, 5.0, 1.0, 11.0, 1.0, 0.0, 2.0, 1.0, 0.0, 4.0, 6.0,\n",
       "       5.0, 0.0, 0.0, 2.0, 6.0, 2.0, 1.0, 3.0, 0.0, 11.0, 5.0, 2.0, 1.0,\n",
       "       7.0, 2.0, 3.0, 3.0, 2.0, 1.0, 1.0, 1.0, 3.0, 6.0, 0.0, 3.0, 3.0,\n",
       "       5.0, 1.0, 3.0, 9.0, 0.0, 8.0, 11.0, 5.0, 9.0, 2.0, 2.0, 0.0, 0.0,\n",
       "       5.0, 2.0, 11.0, 3.0, 2.0, 9.0, 0.0, 0.0, 1.0, 0.0, 1.0, 1.0, 10.0,\n",
       "       0.0, 8.0, 3.0, 6.0, 3.0, 1.0, 5.0, 2.0, 2.0, 5.0, 10.0, 9.0, 11.0,\n",
       "       9.0, 9.0, 0.0, 2.0, 4.0, 4.0, 0.0, 10.0, 3.0, 3.0, 0.0, 1.0, 2.0,\n",
       "       2.0, 1.0, 1.0, 6.0, 7.0, 0.0, 6.0, 1.0, 0.0, 5.0, 7.0, 1.0, 5.0,\n",
       "       9.0, 8.0, 14.0, 7.0, 3.0, 10.0, 12.0, 2.0, 0.0, 2.0, 1.0, 0.0, 5.0,\n",
       "       1.0, 1.0, 4.0, 0.0, 2.0, 7.0, 1.0, 4.0, 7.0, 8.0, 9.0, 5.0, 7.0,\n",
       "       4.0, 1.0, 0.0, 1.0, 3.0, 7.0, 1.0, 2.0, 3.0, 10.0, 1.0, 10.0, 1.0,\n",
       "       3.0, 1.0, 4.0, 9.0, 10.0, 6.0, 2.0, 10.0, 4.0, 2.0, 0.0, 8.0, 3.0,\n",
       "       1.0, 2.0, 9.0, 3.0, 1.0, 6.0, 10.0, 5.0, 6.0, 9.0, 0.0, 5.0, 5.0,\n",
       "       7.0, 1.0, 9.0], dtype=object)"
      ]
     },
     "execution_count": 76,
     "metadata": {},
     "output_type": "execute_result"
    }
   ],
   "source": [
    "X_train[:,0]"
   ]
  },
  {
   "cell_type": "code",
   "execution_count": 75,
   "metadata": {},
   "outputs": [
    {
     "ename": "ValueError",
     "evalue": "could not convert string to float: 'Pregnancies'",
     "output_type": "error",
     "traceback": [
      "\u001b[1;31m---------------------------------------------------------------------------\u001b[0m",
      "\u001b[1;31mValueError\u001b[0m                                Traceback (most recent call last)",
      "\u001b[1;32m<ipython-input-75-d4a4a728317f>\u001b[0m in \u001b[0;36m<module>\u001b[1;34m\u001b[0m\n\u001b[0;32m      2\u001b[0m \u001b[1;32mfrom\u001b[0m \u001b[0msklearn\u001b[0m\u001b[1;33m.\u001b[0m\u001b[0mpreprocessing\u001b[0m \u001b[1;32mimport\u001b[0m \u001b[0mStandardScaler\u001b[0m\u001b[1;33m\u001b[0m\u001b[1;33m\u001b[0m\u001b[0m\n\u001b[0;32m      3\u001b[0m \u001b[0mstdscalar\u001b[0m \u001b[1;33m=\u001b[0m \u001b[0mStandardScaler\u001b[0m\u001b[1;33m(\u001b[0m\u001b[1;33m)\u001b[0m\u001b[1;33m\u001b[0m\u001b[1;33m\u001b[0m\u001b[0m\n\u001b[1;32m----> 4\u001b[1;33m \u001b[0mX_train\u001b[0m \u001b[1;33m=\u001b[0m \u001b[0mstdscalar\u001b[0m\u001b[1;33m.\u001b[0m\u001b[0mfit_transform\u001b[0m\u001b[1;33m(\u001b[0m\u001b[0mX_train\u001b[0m\u001b[1;33m)\u001b[0m\u001b[1;33m\u001b[0m\u001b[1;33m\u001b[0m\u001b[0m\n\u001b[0m\u001b[0;32m      5\u001b[0m \u001b[0mX_test\u001b[0m \u001b[1;33m=\u001b[0m \u001b[0mstdscalar\u001b[0m\u001b[1;33m.\u001b[0m\u001b[0mtransform\u001b[0m\u001b[1;33m(\u001b[0m\u001b[0mX_test\u001b[0m\u001b[1;33m)\u001b[0m\u001b[1;33m\u001b[0m\u001b[1;33m\u001b[0m\u001b[0m\n",
      "\u001b[1;32m~\\Anaconda3\\lib\\site-packages\\sklearn\\base.py\u001b[0m in \u001b[0;36mfit_transform\u001b[1;34m(self, X, y, **fit_params)\u001b[0m\n\u001b[0;32m    460\u001b[0m         \u001b[1;32mif\u001b[0m \u001b[0my\u001b[0m \u001b[1;32mis\u001b[0m \u001b[1;32mNone\u001b[0m\u001b[1;33m:\u001b[0m\u001b[1;33m\u001b[0m\u001b[1;33m\u001b[0m\u001b[0m\n\u001b[0;32m    461\u001b[0m             \u001b[1;31m# fit method of arity 1 (unsupervised transformation)\u001b[0m\u001b[1;33m\u001b[0m\u001b[1;33m\u001b[0m\u001b[1;33m\u001b[0m\u001b[0m\n\u001b[1;32m--> 462\u001b[1;33m             \u001b[1;32mreturn\u001b[0m \u001b[0mself\u001b[0m\u001b[1;33m.\u001b[0m\u001b[0mfit\u001b[0m\u001b[1;33m(\u001b[0m\u001b[0mX\u001b[0m\u001b[1;33m,\u001b[0m \u001b[1;33m**\u001b[0m\u001b[0mfit_params\u001b[0m\u001b[1;33m)\u001b[0m\u001b[1;33m.\u001b[0m\u001b[0mtransform\u001b[0m\u001b[1;33m(\u001b[0m\u001b[0mX\u001b[0m\u001b[1;33m)\u001b[0m\u001b[1;33m\u001b[0m\u001b[1;33m\u001b[0m\u001b[0m\n\u001b[0m\u001b[0;32m    463\u001b[0m         \u001b[1;32melse\u001b[0m\u001b[1;33m:\u001b[0m\u001b[1;33m\u001b[0m\u001b[1;33m\u001b[0m\u001b[0m\n\u001b[0;32m    464\u001b[0m             \u001b[1;31m# fit method of arity 2 (supervised transformation)\u001b[0m\u001b[1;33m\u001b[0m\u001b[1;33m\u001b[0m\u001b[1;33m\u001b[0m\u001b[0m\n",
      "\u001b[1;32m~\\Anaconda3\\lib\\site-packages\\sklearn\\preprocessing\\data.py\u001b[0m in \u001b[0;36mfit\u001b[1;34m(self, X, y)\u001b[0m\n\u001b[0;32m    623\u001b[0m         \u001b[1;31m# Reset internal state before fitting\u001b[0m\u001b[1;33m\u001b[0m\u001b[1;33m\u001b[0m\u001b[1;33m\u001b[0m\u001b[0m\n\u001b[0;32m    624\u001b[0m         \u001b[0mself\u001b[0m\u001b[1;33m.\u001b[0m\u001b[0m_reset\u001b[0m\u001b[1;33m(\u001b[0m\u001b[1;33m)\u001b[0m\u001b[1;33m\u001b[0m\u001b[1;33m\u001b[0m\u001b[0m\n\u001b[1;32m--> 625\u001b[1;33m         \u001b[1;32mreturn\u001b[0m \u001b[0mself\u001b[0m\u001b[1;33m.\u001b[0m\u001b[0mpartial_fit\u001b[0m\u001b[1;33m(\u001b[0m\u001b[0mX\u001b[0m\u001b[1;33m,\u001b[0m \u001b[0my\u001b[0m\u001b[1;33m)\u001b[0m\u001b[1;33m\u001b[0m\u001b[1;33m\u001b[0m\u001b[0m\n\u001b[0m\u001b[0;32m    626\u001b[0m \u001b[1;33m\u001b[0m\u001b[0m\n\u001b[0;32m    627\u001b[0m     \u001b[1;32mdef\u001b[0m \u001b[0mpartial_fit\u001b[0m\u001b[1;33m(\u001b[0m\u001b[0mself\u001b[0m\u001b[1;33m,\u001b[0m \u001b[0mX\u001b[0m\u001b[1;33m,\u001b[0m \u001b[0my\u001b[0m\u001b[1;33m=\u001b[0m\u001b[1;32mNone\u001b[0m\u001b[1;33m)\u001b[0m\u001b[1;33m:\u001b[0m\u001b[1;33m\u001b[0m\u001b[1;33m\u001b[0m\u001b[0m\n",
      "\u001b[1;32m~\\Anaconda3\\lib\\site-packages\\sklearn\\preprocessing\\data.py\u001b[0m in \u001b[0;36mpartial_fit\u001b[1;34m(self, X, y)\u001b[0m\n\u001b[0;32m    647\u001b[0m         X = check_array(X, accept_sparse=('csr', 'csc'), copy=self.copy,\n\u001b[0;32m    648\u001b[0m                         \u001b[0mwarn_on_dtype\u001b[0m\u001b[1;33m=\u001b[0m\u001b[1;32mTrue\u001b[0m\u001b[1;33m,\u001b[0m \u001b[0mestimator\u001b[0m\u001b[1;33m=\u001b[0m\u001b[0mself\u001b[0m\u001b[1;33m,\u001b[0m \u001b[0mdtype\u001b[0m\u001b[1;33m=\u001b[0m\u001b[0mFLOAT_DTYPES\u001b[0m\u001b[1;33m,\u001b[0m\u001b[1;33m\u001b[0m\u001b[1;33m\u001b[0m\u001b[0m\n\u001b[1;32m--> 649\u001b[1;33m                         force_all_finite='allow-nan')\n\u001b[0m\u001b[0;32m    650\u001b[0m \u001b[1;33m\u001b[0m\u001b[0m\n\u001b[0;32m    651\u001b[0m         \u001b[1;31m# Even in the case of `with_mean=False`, we update the mean anyway\u001b[0m\u001b[1;33m\u001b[0m\u001b[1;33m\u001b[0m\u001b[1;33m\u001b[0m\u001b[0m\n",
      "\u001b[1;32m~\\Anaconda3\\lib\\site-packages\\sklearn\\utils\\validation.py\u001b[0m in \u001b[0;36mcheck_array\u001b[1;34m(array, accept_sparse, accept_large_sparse, dtype, order, copy, force_all_finite, ensure_2d, allow_nd, ensure_min_samples, ensure_min_features, warn_on_dtype, estimator)\u001b[0m\n\u001b[0;32m    525\u001b[0m             \u001b[1;32mtry\u001b[0m\u001b[1;33m:\u001b[0m\u001b[1;33m\u001b[0m\u001b[1;33m\u001b[0m\u001b[0m\n\u001b[0;32m    526\u001b[0m                 \u001b[0mwarnings\u001b[0m\u001b[1;33m.\u001b[0m\u001b[0msimplefilter\u001b[0m\u001b[1;33m(\u001b[0m\u001b[1;34m'error'\u001b[0m\u001b[1;33m,\u001b[0m \u001b[0mComplexWarning\u001b[0m\u001b[1;33m)\u001b[0m\u001b[1;33m\u001b[0m\u001b[1;33m\u001b[0m\u001b[0m\n\u001b[1;32m--> 527\u001b[1;33m                 \u001b[0marray\u001b[0m \u001b[1;33m=\u001b[0m \u001b[0mnp\u001b[0m\u001b[1;33m.\u001b[0m\u001b[0masarray\u001b[0m\u001b[1;33m(\u001b[0m\u001b[0marray\u001b[0m\u001b[1;33m,\u001b[0m \u001b[0mdtype\u001b[0m\u001b[1;33m=\u001b[0m\u001b[0mdtype\u001b[0m\u001b[1;33m,\u001b[0m \u001b[0morder\u001b[0m\u001b[1;33m=\u001b[0m\u001b[0morder\u001b[0m\u001b[1;33m)\u001b[0m\u001b[1;33m\u001b[0m\u001b[1;33m\u001b[0m\u001b[0m\n\u001b[0m\u001b[0;32m    528\u001b[0m             \u001b[1;32mexcept\u001b[0m \u001b[0mComplexWarning\u001b[0m\u001b[1;33m:\u001b[0m\u001b[1;33m\u001b[0m\u001b[1;33m\u001b[0m\u001b[0m\n\u001b[0;32m    529\u001b[0m                 raise ValueError(\"Complex data not supported\\n\"\n",
      "\u001b[1;32m~\\Anaconda3\\lib\\site-packages\\numpy\\core\\numeric.py\u001b[0m in \u001b[0;36masarray\u001b[1;34m(a, dtype, order)\u001b[0m\n\u001b[0;32m    499\u001b[0m \u001b[1;33m\u001b[0m\u001b[0m\n\u001b[0;32m    500\u001b[0m     \"\"\"\n\u001b[1;32m--> 501\u001b[1;33m     \u001b[1;32mreturn\u001b[0m \u001b[0marray\u001b[0m\u001b[1;33m(\u001b[0m\u001b[0ma\u001b[0m\u001b[1;33m,\u001b[0m \u001b[0mdtype\u001b[0m\u001b[1;33m,\u001b[0m \u001b[0mcopy\u001b[0m\u001b[1;33m=\u001b[0m\u001b[1;32mFalse\u001b[0m\u001b[1;33m,\u001b[0m \u001b[0morder\u001b[0m\u001b[1;33m=\u001b[0m\u001b[0morder\u001b[0m\u001b[1;33m)\u001b[0m\u001b[1;33m\u001b[0m\u001b[1;33m\u001b[0m\u001b[0m\n\u001b[0m\u001b[0;32m    502\u001b[0m \u001b[1;33m\u001b[0m\u001b[0m\n\u001b[0;32m    503\u001b[0m \u001b[1;33m\u001b[0m\u001b[0m\n",
      "\u001b[1;31mValueError\u001b[0m: could not convert string to float: 'Pregnancies'"
     ]
    }
   ],
   "source": [
    "\n",
    "from sklearn.preprocessing import StandardScaler\n",
    "stdscalar = StandardScaler()\n",
    "X_train = stdscalar.fit_transform(X_train)\n",
    "X_test = stdscalar.transform(X_test)"
   ]
  },
  {
   "cell_type": "code",
   "execution_count": null,
   "metadata": {},
   "outputs": [],
   "source": []
  },
  {
   "cell_type": "code",
   "execution_count": null,
   "metadata": {},
   "outputs": [],
   "source": []
  },
  {
   "cell_type": "code",
   "execution_count": null,
   "metadata": {},
   "outputs": [],
   "source": []
  },
  {
   "cell_type": "code",
   "execution_count": null,
   "metadata": {},
   "outputs": [],
   "source": []
  }
 ],
 "metadata": {
  "kernelspec": {
   "display_name": "Python 3",
   "language": "python",
   "name": "python3"
  },
  "language_info": {
   "codemirror_mode": {
    "name": "ipython",
    "version": 3
   },
   "file_extension": ".py",
   "mimetype": "text/x-python",
   "name": "python",
   "nbconvert_exporter": "python",
   "pygments_lexer": "ipython3",
   "version": "3.7.6"
  }
 },
 "nbformat": 4,
 "nbformat_minor": 2
}
