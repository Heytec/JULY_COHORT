{
 "cells": [
  {
   "cell_type": "code",
   "execution_count": 5,
   "metadata": {},
   "outputs": [
    {
     "data": {
      "text/html": [
       "<div>\n",
       "<style scoped>\n",
       "    .dataframe tbody tr th:only-of-type {\n",
       "        vertical-align: middle;\n",
       "    }\n",
       "\n",
       "    .dataframe tbody tr th {\n",
       "        vertical-align: top;\n",
       "    }\n",
       "\n",
       "    .dataframe thead th {\n",
       "        text-align: right;\n",
       "    }\n",
       "</style>\n",
       "<table border=\"1\" class=\"dataframe\">\n",
       "  <thead>\n",
       "    <tr style=\"text-align: right;\">\n",
       "      <th></th>\n",
       "      <th>Positive Skewed</th>\n",
       "    </tr>\n",
       "  </thead>\n",
       "  <tbody>\n",
       "    <tr>\n",
       "      <th>0</th>\n",
       "      <td>1</td>\n",
       "    </tr>\n",
       "    <tr>\n",
       "      <th>1</th>\n",
       "      <td>1</td>\n",
       "    </tr>\n",
       "    <tr>\n",
       "      <th>2</th>\n",
       "      <td>10</td>\n",
       "    </tr>\n",
       "    <tr>\n",
       "      <th>3</th>\n",
       "      <td>10</td>\n",
       "    </tr>\n",
       "    <tr>\n",
       "      <th>4</th>\n",
       "      <td>15</td>\n",
       "    </tr>\n",
       "  </tbody>\n",
       "</table>\n",
       "</div>"
      ],
      "text/plain": [
       "   Positive Skewed\n",
       "0                1\n",
       "1                1\n",
       "2               10\n",
       "3               10\n",
       "4               15"
      ]
     },
     "execution_count": 5,
     "metadata": {},
     "output_type": "execute_result"
    }
   ],
   "source": [
    "# Import pandas library \n",
    "import pandas as pd\n",
    "import numpy as np\n",
    "import seaborn as sns\n",
    "import matplotlib.pyplot as plt\n",
    "\n",
    "# create a list of data \n",
    "data = [1,1,10,10,15,15,20,20,30,50,120,130,120,50,30,30,25,20,20,15,15,13,11,9,7,6,6,5,5,5,4,4,4,4,3,3,3,3,2,2,2,2,2,1,1,1,1,1,1,\n",
    "1] \n",
    "  \n",
    "# Create the pandas DataFrame \n",
    "df = pd.DataFrame(data, columns = ['Positive Skewed']) \n",
    "  \n",
    "# print dataframe. \n",
    "df.head()"
   ]
  },
  {
   "cell_type": "code",
   "execution_count": 6,
   "metadata": {},
   "outputs": [
    {
     "data": {
      "image/png": "[encoded data removed]",
      "text/plain": [
       "<Figure size 432x288 with 1 Axes>"
      ]
     },
     "metadata": {
      "needs_background": "light"
     },
     "output_type": "display_data"
    }
   ],
   "source": [
    "\n",
    "#Boxplot showing three outliers\n",
    "df.boxplot(column='Positive Skewed')\n",
    "plt.show()"
   ]
  },
  {
   "cell_type": "code",
   "execution_count": 7,
   "metadata": {},
   "outputs": [
    {
     "name": "stderr",
     "output_type": "stream",
     "text": [
      "C:\\Users\\t\\Anaconda3\\lib\\site-packages\\scipy\\stats\\stats.py:1713: FutureWarning: Using a non-tuple sequence for multidimensional indexing is deprecated; use `arr[tuple(seq)]` instead of `arr[seq]`. In the future this will be interpreted as an array index, `arr[np.array(seq)]`, which will result either in an error or a different result.\n",
      "  return np.add.reduce(sorted[indexer] * weights, axis=axis) / sumval\n"
     ]
    },
    {
     "data": {
      "text/plain": [
       "<matplotlib.axes._subplots.AxesSubplot at 0x243e32147b8>"
      ]
     },
     "execution_count": 7,
     "metadata": {},
     "output_type": "execute_result"
    },
    {
     "data": {
      "image/png": "[encoded data removed]",
      "text/plain": [
       "<Figure size 432x288 with 1 Axes>"
      ]
     },
     "metadata": {
      "needs_background": "light"
     },
     "output_type": "display_data"
    }
   ],
   "source": [
    "\n",
    "#Right Skewed data\n",
    "sns.distplot(df)"
   ]
  },
  {
   "cell_type": "code",
   "execution_count": 8,
   "metadata": {},
   "outputs": [
    {
     "name": "stdout",
     "output_type": "stream",
     "text": [
      "Input array :      Positive Skewed\n",
      "0                 1\n",
      "1                 1\n",
      "2                10\n",
      "3                10\n",
      "4                15\n",
      "5                15\n",
      "6                20\n",
      "7                20\n",
      "8                30\n",
      "9                50\n",
      "10              120\n",
      "11              130\n",
      "12              120\n",
      "13               50\n",
      "14               30\n",
      "15               30\n",
      "16               25\n",
      "17               20\n",
      "18               20\n",
      "19               15\n",
      "20               15\n",
      "21               13\n",
      "22               11\n",
      "23                9\n",
      "24                7\n",
      "25                6\n",
      "26                6\n",
      "27                5\n",
      "28                5\n",
      "29                5\n",
      "30                4\n",
      "31                4\n",
      "32                4\n",
      "33                4\n",
      "34                3\n",
      "35                3\n",
      "36                3\n",
      "37                3\n",
      "38                2\n",
      "39                2\n",
      "40                2\n",
      "41                2\n",
      "42                2\n",
      "43                1\n",
      "44                1\n",
      "45                1\n",
      "46                1\n",
      "47                1\n",
      "48                1\n",
      "49                1\n"
     ]
    }
   ],
   "source": [
    "#Creating input data from dataframe df on variable Positive Skewness with input values ranging from 1 to 130\n",
    "inp_array = df \n",
    "print (\"Input array : \", inp_array)"
   ]
  },
  {
   "cell_type": "code",
   "execution_count": 9,
   "metadata": {},
   "outputs": [
    {
     "name": "stdout",
     "output_type": "stream",
     "text": [
      "Output array :      Positive Skewed\n",
      "0          0.000000\n",
      "1          0.000000\n",
      "2          1.000000\n",
      "3          1.000000\n",
      "4          1.176091\n",
      "5          1.176091\n",
      "6          1.301030\n",
      "7          1.301030\n",
      "8          1.477121\n",
      "9          1.698970\n",
      "10         2.079181\n",
      "11         2.113943\n",
      "12         2.079181\n",
      "13         1.698970\n",
      "14         1.477121\n",
      "15         1.477121\n",
      "16         1.397940\n",
      "17         1.301030\n",
      "18         1.301030\n",
      "19         1.176091\n",
      "20         1.176091\n",
      "21         1.113943\n",
      "22         1.041393\n",
      "23         0.954243\n",
      "24         0.845098\n",
      "25         0.778151\n",
      "26         0.778151\n",
      "27         0.698970\n",
      "28         0.698970\n",
      "29         0.698970\n",
      "30         0.602060\n",
      "31         0.602060\n",
      "32         0.602060\n",
      "33         0.602060\n",
      "34         0.477121\n",
      "35         0.477121\n",
      "36         0.477121\n",
      "37         0.477121\n",
      "38         0.301030\n",
      "39         0.301030\n",
      "40         0.301030\n",
      "41         0.301030\n",
      "42         0.301030\n",
      "43         0.000000\n",
      "44         0.000000\n",
      "45         0.000000\n",
      "46         0.000000\n",
      "47         0.000000\n",
      "48         0.000000\n",
      "49         0.000000\n"
     ]
    }
   ],
   "source": [
    "\n",
    "#Applying log10 transformation with output values ranging from 0 to 2+\n",
    "out_array = np.log10(inp_array) \n",
    "print (\"Output array : \", out_array)"
   ]
  },
  {
   "cell_type": "code",
   "execution_count": 10,
   "metadata": {},
   "outputs": [
    {
     "data": {
      "image/png": "[encoded data removed]",
      "text/plain": [
       "<Figure size 432x288 with 1 Axes>"
      ]
     },
     "metadata": {
      "needs_background": "light"
     },
     "output_type": "display_data"
    }
   ],
   "source": [
    "#Boxplot showing No outliers with all of them treated by doing log10 transformation.\n",
    "out_array.boxplot(column='Positive Skewed')\n",
    "plt.show()"
   ]
  },
  {
   "cell_type": "code",
   "execution_count": 11,
   "metadata": {},
   "outputs": [
    {
     "name": "stderr",
     "output_type": "stream",
     "text": [
      "C:\\Users\\t\\Anaconda3\\lib\\site-packages\\scipy\\stats\\stats.py:1713: FutureWarning: Using a non-tuple sequence for multidimensional indexing is deprecated; use `arr[tuple(seq)]` instead of `arr[seq]`. In the future this will be interpreted as an array index, `arr[np.array(seq)]`, which will result either in an error or a different result.\n",
      "  return np.add.reduce(sorted[indexer] * weights, axis=axis) / sumval\n"
     ]
    },
    {
     "data": {
      "text/plain": [
       "<matplotlib.axes._subplots.AxesSubplot at 0x243e434fcc0>"
      ]
     },
     "execution_count": 11,
     "metadata": {},
     "output_type": "execute_result"
    },
    {
     "data": {
      "image/png": "[encoded data removed]",
      "text/plain": [
       "<Figure size 432x288 with 1 Axes>"
      ]
     },
     "metadata": {
      "needs_background": "light"
     },
     "output_type": "display_data"
    }
   ],
   "source": [
    "#Right Skewed data transformed to Fairly or close to Normal Distribution using Log10 transformations\n",
    "sns.distplot(out_array)\n"
   ]
  },
  {
   "cell_type": "code",
   "execution_count": 12,
   "metadata": {},
   "outputs": [
    {
     "name": "stdout",
     "output_type": "stream",
     "text": [
      "Original Values :      Positive Skewed\n",
      "0               1.0\n",
      "1               1.0\n",
      "2              10.0\n",
      "3              10.0\n",
      "4              15.0\n",
      "5              15.0\n",
      "6              20.0\n",
      "7              20.0\n",
      "8              30.0\n",
      "9              50.0\n",
      "10            120.0\n",
      "11            130.0\n",
      "12            120.0\n",
      "13             50.0\n",
      "14             30.0\n",
      "15             30.0\n",
      "16             25.0\n",
      "17             20.0\n",
      "18             20.0\n",
      "19             15.0\n",
      "20             15.0\n",
      "21             13.0\n",
      "22             11.0\n",
      "23              9.0\n",
      "24              7.0\n",
      "25              6.0\n",
      "26              6.0\n",
      "27              5.0\n",
      "28              5.0\n",
      "29              5.0\n",
      "30              4.0\n",
      "31              4.0\n",
      "32              4.0\n",
      "33              4.0\n",
      "34              3.0\n",
      "35              3.0\n",
      "36              3.0\n",
      "37              3.0\n",
      "38              2.0\n",
      "39              2.0\n",
      "40              2.0\n",
      "41              2.0\n",
      "42              2.0\n",
      "43              1.0\n",
      "44              1.0\n",
      "45              1.0\n",
      "46              1.0\n",
      "47              1.0\n",
      "48              1.0\n",
      "49              1.0\n"
     ]
    }
   ],
   "source": [
    "\n",
    "#If wants to revert back log10 values to original value for interpretation purpose then just raise 10 to the power \n",
    "#log10 values as shown below.\n",
    "original_val = (10**out_array) \n",
    "print (\"Original Values : \", original_val)"
   ]
  },
  {
   "cell_type": "markdown",
   "metadata": {},
   "source": [
    "# Square root transformation"
   ]
  },
  {
   "cell_type": "code",
   "execution_count": 13,
   "metadata": {},
   "outputs": [
    {
     "data": {
      "text/html": [
       "<div>\n",
       "<style scoped>\n",
       "    .dataframe tbody tr th:only-of-type {\n",
       "        vertical-align: middle;\n",
       "    }\n",
       "\n",
       "    .dataframe tbody tr th {\n",
       "        vertical-align: top;\n",
       "    }\n",
       "\n",
       "    .dataframe thead th {\n",
       "        text-align: right;\n",
       "    }\n",
       "</style>\n",
       "<table border=\"1\" class=\"dataframe\">\n",
       "  <thead>\n",
       "    <tr style=\"text-align: right;\">\n",
       "      <th></th>\n",
       "      <th>Positive Skewed</th>\n",
       "    </tr>\n",
       "  </thead>\n",
       "  <tbody>\n",
       "    <tr>\n",
       "      <th>0</th>\n",
       "      <td>0</td>\n",
       "    </tr>\n",
       "    <tr>\n",
       "      <th>1</th>\n",
       "      <td>0</td>\n",
       "    </tr>\n",
       "    <tr>\n",
       "      <th>2</th>\n",
       "      <td>1</td>\n",
       "    </tr>\n",
       "    <tr>\n",
       "      <th>3</th>\n",
       "      <td>1</td>\n",
       "    </tr>\n",
       "    <tr>\n",
       "      <th>4</th>\n",
       "      <td>10</td>\n",
       "    </tr>\n",
       "    <tr>\n",
       "      <th>5</th>\n",
       "      <td>10</td>\n",
       "    </tr>\n",
       "    <tr>\n",
       "      <th>6</th>\n",
       "      <td>15</td>\n",
       "    </tr>\n",
       "    <tr>\n",
       "      <th>7</th>\n",
       "      <td>15</td>\n",
       "    </tr>\n",
       "    <tr>\n",
       "      <th>8</th>\n",
       "      <td>20</td>\n",
       "    </tr>\n",
       "    <tr>\n",
       "      <th>9</th>\n",
       "      <td>20</td>\n",
       "    </tr>\n",
       "    <tr>\n",
       "      <th>10</th>\n",
       "      <td>30</td>\n",
       "    </tr>\n",
       "    <tr>\n",
       "      <th>11</th>\n",
       "      <td>50</td>\n",
       "    </tr>\n",
       "    <tr>\n",
       "      <th>12</th>\n",
       "      <td>120</td>\n",
       "    </tr>\n",
       "    <tr>\n",
       "      <th>13</th>\n",
       "      <td>130</td>\n",
       "    </tr>\n",
       "    <tr>\n",
       "      <th>14</th>\n",
       "      <td>120</td>\n",
       "    </tr>\n",
       "    <tr>\n",
       "      <th>15</th>\n",
       "      <td>50</td>\n",
       "    </tr>\n",
       "    <tr>\n",
       "      <th>16</th>\n",
       "      <td>30</td>\n",
       "    </tr>\n",
       "    <tr>\n",
       "      <th>17</th>\n",
       "      <td>30</td>\n",
       "    </tr>\n",
       "    <tr>\n",
       "      <th>18</th>\n",
       "      <td>25</td>\n",
       "    </tr>\n",
       "    <tr>\n",
       "      <th>19</th>\n",
       "      <td>20</td>\n",
       "    </tr>\n",
       "    <tr>\n",
       "      <th>20</th>\n",
       "      <td>20</td>\n",
       "    </tr>\n",
       "    <tr>\n",
       "      <th>21</th>\n",
       "      <td>15</td>\n",
       "    </tr>\n",
       "    <tr>\n",
       "      <th>22</th>\n",
       "      <td>15</td>\n",
       "    </tr>\n",
       "    <tr>\n",
       "      <th>23</th>\n",
       "      <td>13</td>\n",
       "    </tr>\n",
       "    <tr>\n",
       "      <th>24</th>\n",
       "      <td>11</td>\n",
       "    </tr>\n",
       "    <tr>\n",
       "      <th>25</th>\n",
       "      <td>9</td>\n",
       "    </tr>\n",
       "    <tr>\n",
       "      <th>26</th>\n",
       "      <td>7</td>\n",
       "    </tr>\n",
       "    <tr>\n",
       "      <th>27</th>\n",
       "      <td>6</td>\n",
       "    </tr>\n",
       "    <tr>\n",
       "      <th>28</th>\n",
       "      <td>6</td>\n",
       "    </tr>\n",
       "    <tr>\n",
       "      <th>29</th>\n",
       "      <td>5</td>\n",
       "    </tr>\n",
       "    <tr>\n",
       "      <th>30</th>\n",
       "      <td>5</td>\n",
       "    </tr>\n",
       "    <tr>\n",
       "      <th>31</th>\n",
       "      <td>5</td>\n",
       "    </tr>\n",
       "    <tr>\n",
       "      <th>32</th>\n",
       "      <td>4</td>\n",
       "    </tr>\n",
       "    <tr>\n",
       "      <th>33</th>\n",
       "      <td>4</td>\n",
       "    </tr>\n",
       "    <tr>\n",
       "      <th>34</th>\n",
       "      <td>4</td>\n",
       "    </tr>\n",
       "    <tr>\n",
       "      <th>35</th>\n",
       "      <td>4</td>\n",
       "    </tr>\n",
       "    <tr>\n",
       "      <th>36</th>\n",
       "      <td>3</td>\n",
       "    </tr>\n",
       "    <tr>\n",
       "      <th>37</th>\n",
       "      <td>3</td>\n",
       "    </tr>\n",
       "    <tr>\n",
       "      <th>38</th>\n",
       "      <td>3</td>\n",
       "    </tr>\n",
       "    <tr>\n",
       "      <th>39</th>\n",
       "      <td>3</td>\n",
       "    </tr>\n",
       "    <tr>\n",
       "      <th>40</th>\n",
       "      <td>2</td>\n",
       "    </tr>\n",
       "    <tr>\n",
       "      <th>41</th>\n",
       "      <td>2</td>\n",
       "    </tr>\n",
       "    <tr>\n",
       "      <th>42</th>\n",
       "      <td>2</td>\n",
       "    </tr>\n",
       "    <tr>\n",
       "      <th>43</th>\n",
       "      <td>2</td>\n",
       "    </tr>\n",
       "    <tr>\n",
       "      <th>44</th>\n",
       "      <td>2</td>\n",
       "    </tr>\n",
       "    <tr>\n",
       "      <th>45</th>\n",
       "      <td>1</td>\n",
       "    </tr>\n",
       "    <tr>\n",
       "      <th>46</th>\n",
       "      <td>1</td>\n",
       "    </tr>\n",
       "    <tr>\n",
       "      <th>47</th>\n",
       "      <td>1</td>\n",
       "    </tr>\n",
       "    <tr>\n",
       "      <th>48</th>\n",
       "      <td>1</td>\n",
       "    </tr>\n",
       "    <tr>\n",
       "      <th>49</th>\n",
       "      <td>1</td>\n",
       "    </tr>\n",
       "    <tr>\n",
       "      <th>50</th>\n",
       "      <td>1</td>\n",
       "    </tr>\n",
       "    <tr>\n",
       "      <th>51</th>\n",
       "      <td>1</td>\n",
       "    </tr>\n",
       "    <tr>\n",
       "      <th>52</th>\n",
       "      <td>0</td>\n",
       "    </tr>\n",
       "    <tr>\n",
       "      <th>53</th>\n",
       "      <td>0</td>\n",
       "    </tr>\n",
       "  </tbody>\n",
       "</table>\n",
       "</div>"
      ],
      "text/plain": [
       "    Positive Skewed\n",
       "0                 0\n",
       "1                 0\n",
       "2                 1\n",
       "3                 1\n",
       "4                10\n",
       "5                10\n",
       "6                15\n",
       "7                15\n",
       "8                20\n",
       "9                20\n",
       "10               30\n",
       "11               50\n",
       "12              120\n",
       "13              130\n",
       "14              120\n",
       "15               50\n",
       "16               30\n",
       "17               30\n",
       "18               25\n",
       "19               20\n",
       "20               20\n",
       "21               15\n",
       "22               15\n",
       "23               13\n",
       "24               11\n",
       "25                9\n",
       "26                7\n",
       "27                6\n",
       "28                6\n",
       "29                5\n",
       "30                5\n",
       "31                5\n",
       "32                4\n",
       "33                4\n",
       "34                4\n",
       "35                4\n",
       "36                3\n",
       "37                3\n",
       "38                3\n",
       "39                3\n",
       "40                2\n",
       "41                2\n",
       "42                2\n",
       "43                2\n",
       "44                2\n",
       "45                1\n",
       "46                1\n",
       "47                1\n",
       "48                1\n",
       "49                1\n",
       "50                1\n",
       "51                1\n",
       "52                0\n",
       "53                0"
      ]
     },
     "execution_count": 13,
     "metadata": {},
     "output_type": "execute_result"
    }
   ],
   "source": [
    "import pandas as pd \n",
    "# Create a list of data. Here, we have included zeros as well in the data\n",
    "data = [0,0,1,1,10,10,15,15,20,20,30,50,120,130,120,50,30,30,25,20,20,15,15,13,11,9,7,6,6,5,5,5,4,4,4,4,3,3,3,3,2,2,2,2,2,1,1,1,1,1,1,\n",
    "1,0,0] \n",
    "  \n",
    "# Create the pandas DataFrame \n",
    "df2 = pd.DataFrame(data, columns = ['Positive Skewed']) \n",
    "  \n",
    "# print dataframe. \n",
    "df2"
   ]
  },
  {
   "cell_type": "code",
   "execution_count": 14,
   "metadata": {},
   "outputs": [
    {
     "data": {
      "image/png": "[encoded data removed]",
      "text/plain": [
       "<Figure size 432x288 with 1 Axes>"
      ]
     },
     "metadata": {
      "needs_background": "light"
     },
     "output_type": "display_data"
    }
   ],
   "source": [
    "\n",
    "#Boxplot showing three outliers\n",
    "df2.boxplot(column='Positive Skewed')\n",
    "plt.show()"
   ]
  },
  {
   "cell_type": "code",
   "execution_count": 15,
   "metadata": {},
   "outputs": [
    {
     "name": "stderr",
     "output_type": "stream",
     "text": [
      "C:\\Users\\t\\Anaconda3\\lib\\site-packages\\scipy\\stats\\stats.py:1713: FutureWarning: Using a non-tuple sequence for multidimensional indexing is deprecated; use `arr[tuple(seq)]` instead of `arr[seq]`. In the future this will be interpreted as an array index, `arr[np.array(seq)]`, which will result either in an error or a different result.\n",
      "  return np.add.reduce(sorted[indexer] * weights, axis=axis) / sumval\n"
     ]
    },
    {
     "data": {
      "text/plain": [
       "<matplotlib.axes._subplots.AxesSubplot at 0x243e24355c0>"
      ]
     },
     "execution_count": 15,
     "metadata": {},
     "output_type": "execute_result"
    },
    {
     "data": {
      "image/png": "[encoded data removed]",
      "text/plain": [
       "<Figure size 432x288 with 1 Axes>"
      ]
     },
     "metadata": {
      "needs_background": "light"
     },
     "output_type": "display_data"
    }
   ],
   "source": [
    "#Right Skewed data \n",
    "sns.distplot(df2)"
   ]
  },
  {
   "cell_type": "code",
   "execution_count": 17,
   "metadata": {},
   "outputs": [
    {
     "name": "stdout",
     "output_type": "stream",
     "text": [
      "Input array :      Positive Skewed\n",
      "0                 0\n",
      "1                 0\n",
      "2                 1\n",
      "3                 1\n",
      "4                10\n",
      "5                10\n",
      "6                15\n",
      "7                15\n",
      "8                20\n",
      "9                20\n",
      "10               30\n",
      "11               50\n",
      "12              120\n",
      "13              130\n",
      "14              120\n",
      "15               50\n",
      "16               30\n",
      "17               30\n",
      "18               25\n",
      "19               20\n",
      "20               20\n",
      "21               15\n",
      "22               15\n",
      "23               13\n",
      "24               11\n",
      "25                9\n",
      "26                7\n",
      "27                6\n",
      "28                6\n",
      "29                5\n",
      "30                5\n",
      "31                5\n",
      "32                4\n",
      "33                4\n",
      "34                4\n",
      "35                4\n",
      "36                3\n",
      "37                3\n",
      "38                3\n",
      "39                3\n",
      "40                2\n",
      "41                2\n",
      "42                2\n",
      "43                2\n",
      "44                2\n",
      "45                1\n",
      "46                1\n",
      "47                1\n",
      "48                1\n",
      "49                1\n",
      "50                1\n",
      "51                1\n",
      "52                0\n",
      "53                0\n"
     ]
    }
   ],
   "source": [
    "\n",
    "#Creating input data from dataframe df on variable Positive Skewness with input values ranging from 0 to 130\n",
    "inp_array2 = df2 \n",
    "print (\"Input array : \", inp_array2)"
   ]
  },
  {
   "cell_type": "code",
   "execution_count": 18,
   "metadata": {},
   "outputs": [
    {
     "name": "stdout",
     "output_type": "stream",
     "text": [
      "Output array :      Positive Skewed\n",
      "0          0.000000\n",
      "1          0.000000\n",
      "2          1.000000\n",
      "3          1.000000\n",
      "4          3.162278\n",
      "5          3.162278\n",
      "6          3.872983\n",
      "7          3.872983\n",
      "8          4.472136\n",
      "9          4.472136\n",
      "10         5.477226\n",
      "11         7.071068\n",
      "12        10.954451\n",
      "13        11.401754\n",
      "14        10.954451\n",
      "15         7.071068\n",
      "16         5.477226\n",
      "17         5.477226\n",
      "18         5.000000\n",
      "19         4.472136\n",
      "20         4.472136\n",
      "21         3.872983\n",
      "22         3.872983\n",
      "23         3.605551\n",
      "24         3.316625\n",
      "25         3.000000\n",
      "26         2.645751\n",
      "27         2.449490\n",
      "28         2.449490\n",
      "29         2.236068\n",
      "30         2.236068\n",
      "31         2.236068\n",
      "32         2.000000\n",
      "33         2.000000\n",
      "34         2.000000\n",
      "35         2.000000\n",
      "36         1.732051\n",
      "37         1.732051\n",
      "38         1.732051\n",
      "39         1.732051\n",
      "40         1.414214\n",
      "41         1.414214\n",
      "42         1.414214\n",
      "43         1.414214\n",
      "44         1.414214\n",
      "45         1.000000\n",
      "46         1.000000\n",
      "47         1.000000\n",
      "48         1.000000\n",
      "49         1.000000\n",
      "50         1.000000\n",
      "51         1.000000\n",
      "52         0.000000\n",
      "53         0.000000\n"
     ]
    }
   ],
   "source": [
    "#Applying Square Root transformation with output values ranging from 0 to 11+\n",
    "out_array2 = np.sqrt(inp_array2) \n",
    "print (\"Output array : \", out_array2)"
   ]
  },
  {
   "cell_type": "code",
   "execution_count": 19,
   "metadata": {},
   "outputs": [
    {
     "data": {
      "image/png": "[encoded data removed]",
      "text/plain": [
       "<Figure size 432x288 with 1 Axes>"
      ]
     },
     "metadata": {
      "needs_background": "light"
     },
     "output_type": "display_data"
    }
   ],
   "source": [
    "#Boxplot showing only Two outliers now, with one of those treated by doing Square Root transformation.\n",
    "out_array2.boxplot(column='Positive Skewed')\n",
    "plt.show()\n"
   ]
  },
  {
   "cell_type": "code",
   "execution_count": 21,
   "metadata": {},
   "outputs": [
    {
     "name": "stderr",
     "output_type": "stream",
     "text": [
      "C:\\Users\\t\\Anaconda3\\lib\\site-packages\\scipy\\stats\\stats.py:1713: FutureWarning: Using a non-tuple sequence for multidimensional indexing is deprecated; use `arr[tuple(seq)]` instead of `arr[seq]`. In the future this will be interpreted as an array index, `arr[np.array(seq)]`, which will result either in an error or a different result.\n",
      "  return np.add.reduce(sorted[indexer] * weights, axis=axis) / sumval\n"
     ]
    },
    {
     "data": {
      "text/plain": [
       "<matplotlib.axes._subplots.AxesSubplot at 0x243e455bac8>"
      ]
     },
     "execution_count": 21,
     "metadata": {},
     "output_type": "execute_result"
    },
    {
     "data": {
      "image/png": "[encoded data removed]",
      "text/plain": [
       "<Figure size 432x288 with 1 Axes>"
      ]
     },
     "metadata": {
      "needs_background": "light"
     },
     "output_type": "display_data"
    }
   ],
   "source": [
    "\n",
    "#Right Skewed data transformed to Fairly or close to Normal Distribution using Square Root transformations, though not perfect\n",
    "#Normal Distribution since this type of transformation has moderate effect on distribution shape\n",
    "sns.distplot(out_array2)"
   ]
  },
  {
   "cell_type": "code",
   "execution_count": null,
   "metadata": {},
   "outputs": [],
   "source": []
  }
 ],
 "metadata": {
  "kernelspec": {
   "display_name": "Python 3",
   "language": "python",
   "name": "python3"
  },
  "language_info": {
   "codemirror_mode": {
    "name": "ipython",
    "version": 3
   },
   "file_extension": ".py",
   "mimetype": "text/x-python",
   "name": "python",
   "nbconvert_exporter": "python",
   "pygments_lexer": "ipython3",
   "version": "3.7.6"
  }
 },
 "nbformat": 4,
 "nbformat_minor": 2
}
