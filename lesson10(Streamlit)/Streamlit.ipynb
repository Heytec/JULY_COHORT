{
 "cells": [
  {
   "cell_type": "markdown",
   "metadata": {},
   "source": [
    "# Streamlit. The fastest way to build data apps\n",
    "\n",
    "* Streamlit’s open-source app framework is the easiest way for data scientists and machine learning engineers to create beautiful, performant apps in only a few hours!  All in pure Python. All for free.\n",
    "\n",
    "* Build beautiful custom web-apps for machine learning and data science.\n",
    "\n"
   ]
  },
  {
   "cell_type": "markdown",
   "metadata": {},
   "source": [
    "https://www.streamlit.io/"
   ]
  },
  {
   "cell_type": "markdown",
   "metadata": {},
   "source": [
    "!['stream'](pic.png)"
   ]
  },
  {
   "cell_type": "markdown",
   "metadata": {},
   "source": [
    "https://nba-roster-turnover.herokuapp.com/"
   ]
  },
  {
   "cell_type": "markdown",
   "metadata": {},
   "source": [
    "# How to install  "
   ]
  },
  {
   "cell_type": "markdown",
   "metadata": {},
   "source": [
    "pip install streamlit"
   ]
  },
  {
   "cell_type": "markdown",
   "metadata": {},
   "source": [
    "# Run the hello world app:\n",
    "    \n",
    "$ streamlit app_name"
   ]
  },
  {
   "cell_type": "markdown",
   "metadata": {},
   "source": [
    "# Main concepts"
   ]
  },
  {
   "cell_type": "markdown",
   "metadata": {},
   "source": [
    " # Development flow"
   ]
  },
  {
   "cell_type": "markdown",
   "metadata": {},
   "source": [
    "* Every time you want to update your app, just save the source file. \n",
    "* When you do that, Streamlit detects if there is a change and asks you whether you want to rerun your app. \n",
    "* Choose “Always rerun” at the top-right of your screen to automatically update your app every time you change its source code."
   ]
  },
  {
   "cell_type": "markdown",
   "metadata": {},
   "source": [
    "# Data flow"
   ]
  },
  {
   "cell_type": "markdown",
   "metadata": {},
   "source": [
    "* Streamlit’s architecture allows you to write apps the same way you write plain Python scripts.\n",
    "* Streamlit just reruns your entire Python script from top to bottom.\n",
    "*  Streamlit does some heavy lifting for you behind the scenes. A big player in this story is the @st.cache decorator, which allows developers to skip certain costly computations when their apps rerun."
   ]
  },
  {
   "cell_type": "markdown",
   "metadata": {},
   "source": [
    "# Drawing content"
   ]
  },
  {
   "cell_type": "markdown",
   "metadata": {},
   "source": [
    "* Whenever you want to draw something to the screen st.write() is always a good first start\n",
    "* It tries to guess the best visual representation for its arguments based on their data types, so things like dataframes are drawn as beautiful tables, Matplotlib figures are drawn as charts"
   ]
  },
  {
   "cell_type": "raw",
   "metadata": {},
   "source": [
    "import streamlit as st\n",
    "x = 4\n",
    "st.write(x, 'squared is', x * x)"
   ]
  },
  {
   "cell_type": "markdown",
   "metadata": {},
   "source": [
    "# Widgets"
   ]
  },
  {
   "cell_type": "markdown",
   "metadata": {},
   "source": [
    "When you’ve got the data or model into the state that you want to explore, you can add in widgets like st.slider(), st.button() or st.selectbox(). It’s really straightforward — just treat widgets as variables:"
   ]
  },
  {
   "cell_type": "raw",
   "metadata": {},
   "source": [
    "import streamlit as st\n",
    "x = st.slider('x')  # 👈 this is a widget\n",
    "st.write(x, 'squared is', x * x)"
   ]
  },
  {
   "cell_type": "markdown",
   "metadata": {},
   "source": [
    "# Sidebar"
   ]
  },
  {
   "cell_type": "markdown",
   "metadata": {},
   "source": [
    "* Streamlit makes it easy to organize your widgets in a left panel sidebar with st.sidebar. Each element that’s passed to st.sidebar is pinned to the left, allowing users to focus on the content in your app while still having access to UI controls.\n",
    "\n",
    "* For example, if you want to add a selectbox and a slider to a sidebar, just use st.sidebar.slider and st.siderbar.selectbox instead of st.slider and st.selectbox:"
   ]
  },
  {
   "cell_type": "raw",
   "metadata": {},
   "source": [
    "import streamlit as st\n",
    "\n",
    "# Add a selectbox to the sidebar:\n",
    "add_selectbox = st.sidebar.selectbox(\n",
    "    'How would you like to be contacted?',\n",
    "    ('Email', 'Home phone', 'Mobile phone')\n",
    ")\n",
    "\n",
    "# Add a slider to the sidebar:\n",
    "add_slider = st.sidebar.slider(\n",
    "    'Select a range of values',\n",
    "    0.0, 100.0, (25.0, 75.0)\n",
    ")"
   ]
  },
  {
   "cell_type": "markdown",
   "metadata": {},
   "source": [
    "# Caching"
   ]
  },
  {
   "cell_type": "markdown",
   "metadata": {},
   "source": [
    "* The Streamlit cache allows your app to execute quickly even when loading data from the web, manipulating large datasets, or performing expensive computations."
   ]
  },
  {
   "cell_type": "raw",
   "metadata": {},
   "source": [
    "@st.cache  # 👈 This function will be cached\n",
    "def my_slow_function(arg1, arg2):\n",
    "    # Do something really slow in here!\n",
    "    return the_output"
   ]
  },
  {
   "cell_type": "markdown",
   "metadata": {},
   "source": []
  }
 ],
 "metadata": {
  "kernelspec": {
   "display_name": "Python 3",
   "language": "python",
   "name": "python3"
  },
  "language_info": {
   "codemirror_mode": {
    "name": "ipython",
    "version": 3
   },
   "file_extension": ".py",
   "mimetype": "text/x-python",
   "name": "python",
   "nbconvert_exporter": "python",
   "pygments_lexer": "ipython3",
   "version": "3.7.6"
  }
 },
 "nbformat": 4,
 "nbformat_minor": 4
}
