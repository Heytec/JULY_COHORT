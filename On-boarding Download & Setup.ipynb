{
 "cells": [
  {
   "cell_type": "markdown",
   "metadata": {},
   "source": [
    "Slides :\n",
    "* https://www.beautiful.ai/player/-MSwNfZq9vP-Z-DN9jbm\n",
    "* https://www.beautiful.ai/player/-MSwOFuCo6EgyRC3Q8sL"
   ]
  },
  {
   "cell_type": "markdown",
   "metadata": {},
   "source": [
    "# Admin checklist:"
   ]
  },
  {
   "cell_type": "markdown",
   "metadata": {},
   "source": [
    "* 1)ADS  Slack account  \n",
    "    (You will  be added by administrator)\n",
    "\n",
    "\n",
    "\n",
    "* 2)Register March cohort 2021 online Tryvirtually account \n",
    "\n",
    "   https://app.tryvirtually.com/join/XtGL2yKd22n5wzO9ejGP\n",
    "    \n",
    "\n",
    "* 3) Download  Anydesk  \n",
    "\n",
    "     https://anydesk.com/en"
   ]
  },
  {
   "cell_type": "markdown",
   "metadata": {},
   "source": [
    "# Software  Download  checklist:"
   ]
  },
  {
   "cell_type": "markdown",
   "metadata": {},
   "source": [
    "\n",
    "* 1) Download Python  and install \n",
    "https://www.python.org/downloads/\n",
    "\n",
    "* 2) Download Anaconda  and install \n",
    "https://www.anaconda.com/products/individual\n",
    "\n",
    "* 3 ) Download  Pycharm https://www.jetbrains.com/pycharm/download/"
   ]
  },
  {
   "cell_type": "markdown",
   "metadata": {},
   "source": [
    "# Account  creation  checklist :"
   ]
  },
  {
   "cell_type": "markdown",
   "metadata": {},
   "source": [
    "1)Kaggle account  https://www.kaggle.com/\n",
    "\n",
    "2)Create Microsoft Azure account https://azure.microsoft.com/en-us/\n",
    "\n"
   ]
  },
  {
   "cell_type": "markdown",
   "metadata": {},
   "source": [
    "#  Microsoft Cloud Skills Challenge"
   ]
  },
  {
   "cell_type": "markdown",
   "metadata": {},
   "source": [
    "Hi March cohort 2021,\n",
    "As your instructor, I would like to welcome you to your 30-day Microsoft Cloud Skills Challenge:\n",
    "The Microsoft Cloud Skills Challenge is an accelerated learning environment that puts you against other industry pros in a race for knowledge and leaderboard superiority.\n",
    "Complete Microsoft Learn modules to compete against others, expand your skillset, and celebrate your accomplishments.\n",
    "How to get you going!\n",
    "Register today: https://docs.microsoft.com/learn/challenges?id=97603a3c-910d-4119-bc6f-02a7cca521d0\n",
    "\n",
    "\n",
    " You’ll need a Microsoft Learn profile to participate. Please follow the instructions during the challenge registration, if you do not yet have one.\n",
    " Ensure that you have an email for notifications saved in your Microsoft Learn profile.\n",
    "Your challenge starts on March 6, 2021 and ends on March 28, 2021.\n",
    "Think you're up to the task? Looking forward to seeing you on the leaderboard!"
   ]
  },
  {
   "cell_type": "code",
   "execution_count": null,
   "metadata": {},
   "outputs": [],
   "source": []
  }
 ],
 "metadata": {
  "kernelspec": {
   "display_name": "Python 3",
   "language": "python",
   "name": "python3"
  },
  "language_info": {
   "codemirror_mode": {
    "name": "ipython",
    "version": 3
   },
   "file_extension": ".py",
   "mimetype": "text/x-python",
   "name": "python",
   "nbconvert_exporter": "python",
   "pygments_lexer": "ipython3",
   "version": "3.8.5"
  }
 },
 "nbformat": 4,
 "nbformat_minor": 4
}
