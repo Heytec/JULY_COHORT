{
 "cells": [
  {
   "cell_type": "markdown",
   "metadata": {},
   "source": [
    "Slides :\n",
    "* https://www.beautiful.ai/player/-MSwNfZq9vP-Z-DN9jbm\n",
    "* https://www.beautiful.ai/player/-MSwOFuCo6EgyRC3Q8sL"
   ]
  },
  {
   "cell_type": "markdown",
   "metadata": {},
   "source": [
    "# Admin checklist:"
   ]
  },
  {
   "cell_type": "markdown",
   "metadata": {},
   "source": [
    "* 1)ADS  Slack account  \n",
    "    (You will  be added by administrator)\n",
    "\n",
    "\n",
    "\n",
    "* 2)Register Feb cohort 2021 online Tryvirtually account \n",
    "\n",
    "    https://app.tryvirtually.com/join/f8RjeVTNSYQYxkvFqzJG\n",
    "    \n",
    "\n",
    "* 3) Download  Anydesk  \n",
    "\n",
    "     https://anydesk.com/en"
   ]
  },
  {
   "cell_type": "markdown",
   "metadata": {},
   "source": [
    "# Software  Download  checklist:"
   ]
  },
  {
   "cell_type": "markdown",
   "metadata": {},
   "source": [
    "\n",
    "* 1) Download Python  and install \n",
    "https://www.python.org/downloads/\n",
    "\n",
    "* 2) Download Anaconda  and install \n",
    "https://www.anaconda.com/products/individual\n",
    "\n",
    "* 3 ) Download  Pycharm https://www.jetbrains.com/pycharm/download/"
   ]
  },
  {
   "cell_type": "markdown",
   "metadata": {},
   "source": [
    "# Account  creation  checklist :"
   ]
  },
  {
   "cell_type": "markdown",
   "metadata": {},
   "source": [
    "1)Kaggle account  https://www.kaggle.com/\n",
    "\n",
    "2)Create Microsoft Azure account https://azure.microsoft.com/en-us/\n",
    "\n"
   ]
  },
  {
   "cell_type": "code",
   "execution_count": null,
   "metadata": {},
   "outputs": [],
   "source": [
    "\n",
    "\n",
    "https://airtable.com/shrqMg5hgDJrdnrUV"
   ]
  }
 ],
 "metadata": {
  "kernelspec": {
   "display_name": "Python 3",
   "language": "python",
   "name": "python3"
  },
  "language_info": {
   "codemirror_mode": {
    "name": "ipython",
    "version": 3
   },
   "file_extension": ".py",
   "mimetype": "text/x-python",
   "name": "python",
   "nbconvert_exporter": "python",
   "pygments_lexer": "ipython3",
   "version": "3.8.5"
  }
 },
 "nbformat": 4,
 "nbformat_minor": 4
}
